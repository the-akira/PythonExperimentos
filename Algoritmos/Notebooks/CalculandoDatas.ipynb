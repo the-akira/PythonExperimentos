{
 "cells": [
  {
   "cell_type": "markdown",
   "metadata": {},
   "source": [
    "# Calculando Datas\n",
    "\n",
    "Neste notebook usaremos as bibliotecas **datetime** e **calendar** para realizar cálculos com datas.\n",
    "\n",
    "#### Começamos importando as bibliotecas:"
   ]
  },
  {
   "cell_type": "code",
   "execution_count": 23,
   "metadata": {},
   "outputs": [],
   "source": [
    "import datetime\n",
    "import calendar"
   ]
  },
  {
   "cell_type": "markdown",
   "metadata": {},
   "source": [
    "### Calculando Juros\n",
    "\n",
    "#### Definindo as Variáveis\n",
    "\n",
    "- **saldo**: valor atual em nossa conta\n",
    "- **taxa_juros**: taxa de juros \n",
    "- **pagamento_mensal**: valor do pagamento mensal a ser feito"
   ]
  },
  {
   "cell_type": "code",
   "execution_count": 24,
   "metadata": {},
   "outputs": [],
   "source": [
    "saldo = 5000\n",
    "taxa_juros = 13 * 0.01\n",
    "pagamento_mensal = 500"
   ]
  },
  {
   "cell_type": "markdown",
   "metadata": {},
   "source": [
    "#### Obtendo o dia de hoje:"
   ]
  },
  {
   "cell_type": "code",
   "execution_count": 25,
   "metadata": {},
   "outputs": [
    {
     "name": "stdout",
     "output_type": "stream",
     "text": [
      "2021-07-05\n"
     ]
    }
   ],
   "source": [
    "hoje = datetime.date.today()\n",
    "print(hoje)"
   ]
  },
  {
   "cell_type": "markdown",
   "metadata": {},
   "source": [
    "#### Obtendo os dias do mẽs atual:"
   ]
  },
  {
   "cell_type": "code",
   "execution_count": 26,
   "metadata": {},
   "outputs": [],
   "source": [
    "dias_mês_atual = calendar.monthrange(hoje.year, hoje.month)[1]"
   ]
  },
  {
   "cell_type": "code",
   "execution_count": 27,
   "metadata": {},
   "outputs": [
    {
     "name": "stdout",
     "output_type": "stream",
     "text": [
      "31\n"
     ]
    }
   ],
   "source": [
    "print(dias_mês_atual)"
   ]
  },
  {
   "cell_type": "markdown",
   "metadata": {},
   "source": [
    "#### Calculando quantos dias faltam para o fim do mês:"
   ]
  },
  {
   "cell_type": "code",
   "execution_count": 28,
   "metadata": {},
   "outputs": [],
   "source": [
    "dias_fim_mês = dias_mês_atual - hoje.day"
   ]
  },
  {
   "cell_type": "code",
   "execution_count": 29,
   "metadata": {},
   "outputs": [
    {
     "name": "stdout",
     "output_type": "stream",
     "text": [
      "26\n"
     ]
    }
   ],
   "source": [
    "print(dias_fim_mês)"
   ]
  },
  {
   "cell_type": "markdown",
   "metadata": {},
   "source": [
    "#### Definindo a data inicial dos cálculos:"
   ]
  },
  {
   "cell_type": "code",
   "execution_count": 30,
   "metadata": {},
   "outputs": [],
   "source": [
    "data_inicial = hoje + datetime.timedelta(days=dias_fim_mês+1)"
   ]
  },
  {
   "cell_type": "code",
   "execution_count": 31,
   "metadata": {},
   "outputs": [
    {
     "name": "stdout",
     "output_type": "stream",
     "text": [
      "2021-08-01\n"
     ]
    }
   ],
   "source": [
    "print(data_inicial)"
   ]
  },
  {
   "cell_type": "markdown",
   "metadata": {},
   "source": [
    "#### Realizando o cálculo para saber quando a conta irá zerar (considerando juros e pagamento mensal):"
   ]
  },
  {
   "cell_type": "code",
   "execution_count": 32,
   "metadata": {},
   "outputs": [
    {
     "name": "stdout",
     "output_type": "stream",
     "text": [
      "2021-08-01 4554.17\n",
      "2021-09-01 4103.51\n",
      "2021-10-01 3647.96\n",
      "2021-11-01 3187.48\n",
      "2021-12-01 2722.01\n",
      "2022-01-01 2251.5\n",
      "2022-02-01 1775.89\n",
      "2022-03-01 1295.13\n",
      "2022-04-01 809.16\n",
      "2022-05-01 317.93\n",
      "2022-06-01 0\n"
     ]
    }
   ],
   "source": [
    "data_final = data_inicial\n",
    "\n",
    "while saldo > 0:\n",
    "    cobranca_juros = (taxa_juros / 12) * saldo\n",
    "    saldo += cobranca_juros\n",
    "    saldo -= pagamento_mensal\n",
    "    \n",
    "    saldo = round(saldo, 2)\n",
    "    if saldo < 0:\n",
    "        saldo = 0\n",
    "        \n",
    "    print(data_final, saldo)\n",
    "    \n",
    "    dias_mês_atual = calendar.monthrange(data_final.year, data_final.month)[1]\n",
    "    data_final = data_final + datetime.timedelta(days=dias_mês_atual)"
   ]
  },
  {
   "cell_type": "markdown",
   "metadata": {},
   "source": [
    "### Meta para Perder Peso\n",
    "\n",
    "Imagine que atualmente João está pesando 90 kilos e deseja pesar 70 kilos.\n",
    "\n",
    "João tem como meta perder 2 kilos por semana. Em quantas semanas João alcançará 70 kilos?"
   ]
  },
  {
   "cell_type": "code",
   "execution_count": 35,
   "metadata": {},
   "outputs": [
    {
     "name": "stdout",
     "output_type": "stream",
     "text": [
      "Alcancado o objetivo em 10 semanas\n"
     ]
    }
   ],
   "source": [
    "peso_atual = 90\n",
    "peso_meta = 70\n",
    "perdido_semanal = 2\n",
    "\n",
    "data_ini = datetime.date.today()\n",
    "data_fim = data_ini\n",
    "\n",
    "while peso_atual > peso_meta:\n",
    "    data_fim += datetime.timedelta(days=7)\n",
    "    peso_atual -= perdido_semanal\n",
    "\n",
    "print(f'Alcancado o objetivo em {(data_fim - data_ini).days// 7} semanas')"
   ]
  },
  {
   "cell_type": "markdown",
   "metadata": {},
   "source": [
    "### Canal Youtube\n",
    "\n",
    "Imagine agora que temos um canal no Youtube com 85.000 inscritos e temos como objetivo obter 100.000 inscritos.\n",
    "\n",
    "Considerando que temos uma média de 200 inscritos por dia, em que dia iremos obter 100.000 inscritos?"
   ]
  },
  {
   "cell_type": "code",
   "execution_count": 38,
   "metadata": {},
   "outputs": [
    {
     "name": "stdout",
     "output_type": "stream",
     "text": [
      "2021-09-18\n"
     ]
    }
   ],
   "source": [
    "import math\n",
    "\n",
    "objetivo_inscritos = 100_000\n",
    "atual_inscritos = 85_000\n",
    "média_inscritos_dia = 200\n",
    "\n",
    "inscritos_para_alcançar = objetivo_inscritos - atual_inscritos\n",
    "dias_para_alcançar = math.ceil(inscritos_para_alcançar / média_inscritos_dia)\n",
    "print(datetime.date.today() + datetime.timedelta(days=dias_para_alcançar))"
   ]
  }
 ],
 "metadata": {
  "kernelspec": {
   "display_name": "Python 3",
   "language": "python",
   "name": "python3"
  },
  "language_info": {
   "codemirror_mode": {
    "name": "ipython",
    "version": 3
   },
   "file_extension": ".py",
   "mimetype": "text/x-python",
   "name": "python",
   "nbconvert_exporter": "python",
   "pygments_lexer": "ipython3",
   "version": "3.7.10"
  }
 },
 "nbformat": 4,
 "nbformat_minor": 4
}
