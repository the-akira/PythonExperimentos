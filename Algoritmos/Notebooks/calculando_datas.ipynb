{
 "cells": [
  {
   "cell_type": "code",
   "execution_count": 31,
   "metadata": {},
   "outputs": [],
   "source": [
    "import datetime\n",
    "import calendar"
   ]
  },
  {
   "cell_type": "code",
   "execution_count": 32,
   "metadata": {},
   "outputs": [],
   "source": [
    "saldo = 5000\n",
    "taxa_juros = 13 * .01\n",
    "pagamento_mensal = 500"
   ]
  },
  {
   "cell_type": "code",
   "execution_count": 33,
   "metadata": {},
   "outputs": [],
   "source": [
    "hoje = datetime.date.today()"
   ]
  },
  {
   "cell_type": "code",
   "execution_count": 34,
   "metadata": {},
   "outputs": [],
   "source": [
    "dias_no_mes_atual = calendar.monthrange(hoje.year, hoje.month)[1]"
   ]
  },
  {
   "cell_type": "code",
   "execution_count": 35,
   "metadata": {},
   "outputs": [
    {
     "name": "stdout",
     "output_type": "stream",
     "text": [
      "31\n"
     ]
    }
   ],
   "source": [
    "print(dias_no_mes_atual)"
   ]
  },
  {
   "cell_type": "code",
   "execution_count": 36,
   "metadata": {},
   "outputs": [],
   "source": [
    "dias_para_fim_mes = dias_no_mes_atual - hoje.day"
   ]
  },
  {
   "cell_type": "code",
   "execution_count": 37,
   "metadata": {},
   "outputs": [
    {
     "name": "stdout",
     "output_type": "stream",
     "text": [
      "21\n"
     ]
    }
   ],
   "source": [
    "print(dias_para_fim_mes)"
   ]
  },
  {
   "cell_type": "code",
   "execution_count": 38,
   "metadata": {},
   "outputs": [],
   "source": [
    "data_inicial = hoje + datetime.timedelta(days=dias_para_fim_mes+1)"
   ]
  },
  {
   "cell_type": "code",
   "execution_count": 39,
   "metadata": {},
   "outputs": [
    {
     "name": "stdout",
     "output_type": "stream",
     "text": [
      "2019-06-01\n"
     ]
    }
   ],
   "source": [
    "print(data_inicial)"
   ]
  },
  {
   "cell_type": "code",
   "execution_count": 40,
   "metadata": {},
   "outputs": [],
   "source": [
    "data_final = data_inicial"
   ]
  },
  {
   "cell_type": "code",
   "execution_count": 41,
   "metadata": {},
   "outputs": [
    {
     "name": "stdout",
     "output_type": "stream",
     "text": [
      "2019-06-01 4554.17\n",
      "2019-07-01 4103.51\n",
      "2019-08-01 3647.96\n",
      "2019-09-01 3187.48\n",
      "2019-10-01 2722.01\n",
      "2019-11-01 2251.5\n",
      "2019-12-01 1775.89\n",
      "2020-01-01 1295.13\n",
      "2020-02-01 809.16\n",
      "2020-03-01 317.93\n",
      "2020-04-01 0\n"
     ]
    }
   ],
   "source": [
    "while saldo > 0:\n",
    "    cobranca_juros = (taxa_juros / 12) * saldo\n",
    "    saldo += cobranca_juros\n",
    "    saldo -= pagamento_mensal\n",
    "    \n",
    "    saldo = round(saldo, 2)\n",
    "    if saldo < 0:\n",
    "        saldo = 0\n",
    "        \n",
    "    print(data_final, saldo)\n",
    "    \n",
    "    dias_no_mes_atual = calendar.monthrange(data_final.year, data_final.month)[1]\n",
    "    data_final = data_final + datetime.timedelta(days=dias_no_mes_atual)"
   ]
  },
  {
   "cell_type": "code",
   "execution_count": 26,
   "metadata": {},
   "outputs": [
    {
     "name": "stdout",
     "output_type": "stream",
     "text": [
      "2019-07-19\n",
      "Alcancado o objetivo em 10 semanas\n"
     ]
    }
   ],
   "source": [
    "peso_atual = 90\n",
    "peso_meta = 70\n",
    "media_peso_perdido_semanal = 2\n",
    "\n",
    "data_ini = datetime.date.today()\n",
    "data_fim = data_ini\n",
    "\n",
    "while peso_atual > peso_meta:\n",
    "    data_fim += datetime.timedelta(days=7)\n",
    "    peso_atual -= media_peso_perdido_semanal\n",
    "\n",
    "print(data_fim)\n",
    "print(f'Alcancado o objetivo em {(data_fim - data_ini).days// 7} semanas')"
   ]
  },
  {
   "cell_type": "code",
   "execution_count": 42,
   "metadata": {},
   "outputs": [
    {
     "name": "stdout",
     "output_type": "stream",
     "text": [
      "2019-07-24\n"
     ]
    }
   ],
   "source": [
    "import math\n",
    "\n",
    "objetivo_inscritos = 100000\n",
    "atual_inscritos = 85000\n",
    "inscritos_para_alcancar = objetivo_inscritos - atual_inscritos\n",
    "\n",
    "media_inscritos_dia = 200\n",
    "dias_para_alcancar = math.ceil(inscritos_para_alcancar / media_inscritos_dia)\n",
    "\n",
    "hoje = datetime.date.today()\n",
    "print(hoje + datetime.timedelta(days=dias_para_alcancar))"
   ]
  }
 ],
 "metadata": {
  "kernelspec": {
   "display_name": "Python 3",
   "language": "python",
   "name": "python3"
  },
  "language_info": {
   "codemirror_mode": {
    "name": "ipython",
    "version": 3
   },
   "file_extension": ".py",
   "mimetype": "text/x-python",
   "name": "python",
   "nbconvert_exporter": "python",
   "pygments_lexer": "ipython3",
   "version": "3.7.1"
  }
 },
 "nbformat": 4,
 "nbformat_minor": 2
}
