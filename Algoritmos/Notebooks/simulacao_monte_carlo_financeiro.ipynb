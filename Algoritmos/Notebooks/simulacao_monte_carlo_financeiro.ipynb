{
 "cells": [
  {
   "cell_type": "markdown",
   "metadata": {},
   "source": [
    "# Simulação de Monte Carlo\n",
    "\n",
    "Para mais informações: https://pbpython.com/monte-carlo.html\n",
    "\n",
    "Esse exemplo tenta prever quanto de dinheiro uma empresa deve orçamentar para comissões de venda para o próximo ano. Esse exemplo é interessante de modelar, porque existe uma fórmula definida para calcular comissões."
   ]
  },
  {
   "cell_type": "code",
   "execution_count": 1,
   "metadata": {},
   "outputs": [],
   "source": [
    "import pandas as pd\n",
    "import numpy as np\n",
    "import seaborn as sns\n",
    "\n",
    "sns.set_style('whitegrid')"
   ]
  },
  {
   "cell_type": "code",
   "execution_count": 10,
   "metadata": {},
   "outputs": [],
   "source": [
    "# Definição das variáveis\n",
    "avg = 1 # Média\n",
    "std_dev = .1 # Desvio padrão\n",
    "num_reps = 500 # Representantes de vendas\n",
    "num_simulations = 1000 # Número de simulações\n",
    "\n",
    "# Gera uma lista percentagens que irá replicar nossa distribuição normal histórica\n",
    "pct_to_target = np.random.normal(avg, std_dev, num_reps).round(2)"
   ]
  },
  {
   "cell_type": "code",
   "execution_count": 12,
   "metadata": {},
   "outputs": [],
   "source": [
    "sales_target_values = [75_000, 100_000, 200_000, 300_000, 400_000, 500_000]\n",
    "sales_target_prob = [.3, .3, .2, .1, .05, .05]\n",
    "sales_target = np.random.choice(sales_target_values, num_reps, p=sales_target_prob)"
   ]
  },
  {
   "cell_type": "code",
   "execution_count": 13,
   "metadata": {},
   "outputs": [],
   "source": [
    "df = pd.DataFrame(index=range(num_reps), data={'Pct_To_Target': pct_to_target,\n",
    "                                               'Sales_Target': sales_target})\n",
    "\n",
    "df['Sales'] = df['Pct_To_Target'] * df['Sales_Target']"
   ]
  },
  {
   "cell_type": "code",
   "execution_count": 14,
   "metadata": {},
   "outputs": [],
   "source": [
    "def calc_commission_rate(x):\n",
    "    \"\"\" Return the commission rate based on the table:\n",
    "    0-90% = 2%\n",
    "    91-99% = 3%\n",
    "    >= 100 = 4%\n",
    "    \"\"\"\n",
    "    if x <= .90:\n",
    "        return .02\n",
    "    if x <= .99:\n",
    "        return .03\n",
    "    else:\n",
    "        return .04"
   ]
  },
  {
   "cell_type": "code",
   "execution_count": 15,
   "metadata": {},
   "outputs": [],
   "source": [
    "df['Commission_Rate'] = df['Pct_To_Target'].apply(calc_commission_rate)\n",
    "df['Commission_Amount'] = df['Commission_Rate'] * df['Sales']"
   ]
  },
  {
   "cell_type": "code",
   "execution_count": 16,
   "metadata": {},
   "outputs": [],
   "source": [
    "# Define a list to keep all the results from each simulation that we want to analyze\n",
    "all_stats = []\n",
    "\n",
    "# Loop through many simulations\n",
    "for i in range(num_simulations):\n",
    "\n",
    "    # Choose random inputs for the sales targets and percent to target\n",
    "    sales_target = np.random.choice(sales_target_values, num_reps, p=sales_target_prob)\n",
    "    pct_to_target = np.random.normal(avg, std_dev, num_reps).round(2)\n",
    "\n",
    "    # Build the dataframe based on the inputs and number of reps\n",
    "    df = pd.DataFrame(index=range(num_reps), data={'Pct_To_Target': pct_to_target,\n",
    "                                                   'Sales_Target': sales_target})\n",
    "\n",
    "    # Back into the sales number using the percent to target rate\n",
    "    df['Sales'] = df['Pct_To_Target'] * df['Sales_Target']\n",
    "\n",
    "    # Determine the commissions rate and calculate it\n",
    "    df['Commission_Rate'] = df['Pct_To_Target'].apply(calc_commission_rate)\n",
    "    df['Commission_Amount'] = df['Commission_Rate'] * df['Sales']\n",
    "\n",
    "    # We want to track sales,commission amounts and sales targets over all the simulations\n",
    "    all_stats.append([df['Sales'].sum().round(0),\n",
    "                      df['Commission_Amount'].sum().round(0),\n",
    "                      df['Sales_Target'].sum().round(0)])"
   ]
  },
  {
   "cell_type": "code",
   "execution_count": 17,
   "metadata": {},
   "outputs": [],
   "source": [
    "results_df = pd.DataFrame.from_records(all_stats, columns=['Sales',\n",
    "                                                           'Commission_Amount',\n",
    "                                                           'Sales_Target'])"
   ]
  },
  {
   "cell_type": "code",
   "execution_count": 19,
   "metadata": {},
   "outputs": [
    {
     "data": {
      "text/html": [
       "<style  type=\"text/css\" >\n",
       "</style>  \n",
       "<table id=\"T_a62b180c_784c_11e9_abad_09129d7c1385\" > \n",
       "<thead>    <tr> \n",
       "        <th class=\"blank level0\" ></th> \n",
       "        <th class=\"col_heading level0 col0\" >Sales</th> \n",
       "        <th class=\"col_heading level0 col1\" >Commission_Amount</th> \n",
       "        <th class=\"col_heading level0 col2\" >Sales_Target</th> \n",
       "    </tr></thead> \n",
       "<tbody>    <tr> \n",
       "        <th id=\"T_a62b180c_784c_11e9_abad_09129d7c1385level0_row0\" class=\"row_heading level0 row0\" >count</th> \n",
       "        <td id=\"T_a62b180c_784c_11e9_abad_09129d7c1385row0_col0\" class=\"data row0 col0\" >1,000.0</td> \n",
       "        <td id=\"T_a62b180c_784c_11e9_abad_09129d7c1385row0_col1\" class=\"data row0 col1\" >1,000.0</td> \n",
       "        <td id=\"T_a62b180c_784c_11e9_abad_09129d7c1385row0_col2\" class=\"data row0 col2\" >1,000.0</td> \n",
       "    </tr>    <tr> \n",
       "        <th id=\"T_a62b180c_784c_11e9_abad_09129d7c1385level0_row1\" class=\"row_heading level0 row1\" >mean</th> \n",
       "        <td id=\"T_a62b180c_784c_11e9_abad_09129d7c1385row1_col0\" class=\"data row1 col0\" >83,780,767.25</td> \n",
       "        <td id=\"T_a62b180c_784c_11e9_abad_09129d7c1385row1_col1\" class=\"data row1 col1\" >2,860,095.391</td> \n",
       "        <td id=\"T_a62b180c_784c_11e9_abad_09129d7c1385row1_col2\" class=\"data row1 col2\" >83,782,500.0</td> \n",
       "    </tr>    <tr> \n",
       "        <th id=\"T_a62b180c_784c_11e9_abad_09129d7c1385level0_row2\" class=\"row_heading level0 row2\" >std</th> \n",
       "        <td id=\"T_a62b180c_784c_11e9_abad_09129d7c1385row2_col0\" class=\"data row2 col0\" >2,719,278.1423119125</td> \n",
       "        <td id=\"T_a62b180c_784c_11e9_abad_09129d7c1385row2_col1\" class=\"data row2 col1\" >102,889.568751599</td> \n",
       "        <td id=\"T_a62b180c_784c_11e9_abad_09129d7c1385row2_col2\" class=\"data row2 col2\" >2,688,598.1123644733</td> \n",
       "    </tr>    <tr> \n",
       "        <th id=\"T_a62b180c_784c_11e9_abad_09129d7c1385level0_row3\" class=\"row_heading level0 row3\" >min</th> \n",
       "        <td id=\"T_a62b180c_784c_11e9_abad_09129d7c1385row3_col0\" class=\"data row3 col0\" >75,724,500.0</td> \n",
       "        <td id=\"T_a62b180c_784c_11e9_abad_09129d7c1385row3_col1\" class=\"data row3 col1\" >2,529,015.0</td> \n",
       "        <td id=\"T_a62b180c_784c_11e9_abad_09129d7c1385row3_col2\" class=\"data row3 col2\" >75,925,000.0</td> \n",
       "    </tr>    <tr> \n",
       "        <th id=\"T_a62b180c_784c_11e9_abad_09129d7c1385level0_row4\" class=\"row_heading level0 row4\" >25%</th> \n",
       "        <td id=\"T_a62b180c_784c_11e9_abad_09129d7c1385row4_col0\" class=\"data row4 col0\" >81,898,562.5</td> \n",
       "        <td id=\"T_a62b180c_784c_11e9_abad_09129d7c1385row4_col1\" class=\"data row4 col1\" >2,789,791.0</td> \n",
       "        <td id=\"T_a62b180c_784c_11e9_abad_09129d7c1385row4_col2\" class=\"data row4 col2\" >81,887,500.0</td> \n",
       "    </tr>    <tr> \n",
       "        <th id=\"T_a62b180c_784c_11e9_abad_09129d7c1385level0_row5\" class=\"row_heading level0 row5\" >50%</th> \n",
       "        <td id=\"T_a62b180c_784c_11e9_abad_09129d7c1385row5_col0\" class=\"data row5 col0\" >83,671,375.0</td> \n",
       "        <td id=\"T_a62b180c_784c_11e9_abad_09129d7c1385row5_col1\" class=\"data row5 col1\" >2,859,007.5</td> \n",
       "        <td id=\"T_a62b180c_784c_11e9_abad_09129d7c1385row5_col2\" class=\"data row5 col2\" >83,650,000.0</td> \n",
       "    </tr>    <tr> \n",
       "        <th id=\"T_a62b180c_784c_11e9_abad_09129d7c1385level0_row6\" class=\"row_heading level0 row6\" >75%</th> \n",
       "        <td id=\"T_a62b180c_784c_11e9_abad_09129d7c1385row6_col0\" class=\"data row6 col0\" >85,750,187.5</td> \n",
       "        <td id=\"T_a62b180c_784c_11e9_abad_09129d7c1385row6_col1\" class=\"data row6 col1\" >2,930,399.0</td> \n",
       "        <td id=\"T_a62b180c_784c_11e9_abad_09129d7c1385row6_col2\" class=\"data row6 col2\" >85,725,000.0</td> \n",
       "    </tr>    <tr> \n",
       "        <th id=\"T_a62b180c_784c_11e9_abad_09129d7c1385level0_row7\" class=\"row_heading level0 row7\" >max</th> \n",
       "        <td id=\"T_a62b180c_784c_11e9_abad_09129d7c1385row7_col0\" class=\"data row7 col0\" >92,049,500.0</td> \n",
       "        <td id=\"T_a62b180c_784c_11e9_abad_09129d7c1385row7_col1\" class=\"data row7 col1\" >3,221,992.0</td> \n",
       "        <td id=\"T_a62b180c_784c_11e9_abad_09129d7c1385row7_col2\" class=\"data row7 col2\" >91,900,000.0</td> \n",
       "    </tr></tbody> \n",
       "</table> "
      ],
      "text/plain": [
       "<pandas.io.formats.style.Styler at 0x7f4a5476a208>"
      ]
     },
     "execution_count": 19,
     "metadata": {},
     "output_type": "execute_result"
    }
   ],
   "source": [
    "results_df.describe().style.format('{:,}')"
   ]
  },
  {
   "cell_type": "code",
   "execution_count": 18,
   "metadata": {},
   "outputs": [
    {
     "name": "stdout",
     "output_type": "stream",
     "text": [
      "          Sales  Commission_Amount  Sales_Target\n",
      "0    86188750.0          2984870.0      86050000\n",
      "1    87162000.0          3013792.0      86325000\n",
      "2    85259500.0          2945495.0      84800000\n",
      "3    87444500.0          2982300.0      87400000\n",
      "4    82574250.0          2814385.0      82775000\n",
      "5    83304750.0          2830080.0      83325000\n",
      "6    85359750.0          2917545.0      85775000\n",
      "7    83019000.0          2870158.0      82700000\n",
      "8    85246500.0          2934185.0      85225000\n",
      "9    83669500.0          2839652.0      83875000\n",
      "10   82798000.0          2863262.0      82875000\n",
      "11   85368750.0          2930902.0      85100000\n",
      "12   84153250.0          2906958.0      84000000\n",
      "13   81336250.0          2788105.0      80975000\n",
      "14   86178500.0          2908562.0      86500000\n",
      "15   85416750.0          2895852.0      85775000\n",
      "16   85636750.0          2994895.0      85075000\n",
      "17   81940500.0          2711928.0      82900000\n",
      "18   83813500.0          2858780.0      84000000\n",
      "19   87862000.0          3007085.0      87325000\n",
      "20   83855500.0          2844145.0      84425000\n",
      "21   81707250.0          2815615.0      81250000\n",
      "22   88899750.0          3029588.0      89100000\n",
      "23   85843000.0          2983882.0      85450000\n",
      "24   84593250.0          2911555.0      84125000\n",
      "25   86340000.0          2941332.0      86675000\n",
      "26   82429250.0          2820022.0      82425000\n",
      "27   86774750.0          2972760.0      86375000\n",
      "28   86067000.0          2951915.0      85750000\n",
      "29   82796250.0          2849945.0      82400000\n",
      "..          ...                ...           ...\n",
      "970  84760500.0          2942878.0      84050000\n",
      "971  86654750.0          2969512.0      86450000\n",
      "972  85370250.0          2887425.0      85775000\n",
      "973  83012250.0          2766450.0      83900000\n",
      "974  79415250.0          2680120.0      79850000\n",
      "975  80268500.0          2710768.0      80450000\n",
      "976  84289750.0          2870728.0      84325000\n",
      "977  81556750.0          2762355.0      81650000\n",
      "978  87450750.0          2948602.0      87775000\n",
      "979  80821000.0          2731648.0      81300000\n",
      "980  81918000.0          2794402.0      82025000\n",
      "981  86279250.0          2935272.0      86450000\n",
      "982  81487000.0          2734842.0      81725000\n",
      "983  86069500.0          2975995.0      85825000\n",
      "984  80913250.0          2752320.0      81350000\n",
      "985  85385250.0          2950740.0      85050000\n",
      "986  89106000.0          3095055.0      88525000\n",
      "987  79508250.0          2689542.0      80075000\n",
      "988  86874250.0          2955878.0      87250000\n",
      "989  86484250.0          2981928.0      85975000\n",
      "990  87879000.0          3008612.0      87975000\n",
      "991  86094000.0          2989485.0      84925000\n",
      "992  81936250.0          2827120.0      81600000\n",
      "993  88364000.0          3016260.0      88425000\n",
      "994  84572500.0          2886035.0      84100000\n",
      "995  87157500.0          2946515.0      87675000\n",
      "996  89341750.0          3018938.0      89750000\n",
      "997  84981000.0          2933630.0      85000000\n",
      "998  87442500.0          3073372.0      86500000\n",
      "999  83193000.0          2852985.0      83350000\n",
      "\n",
      "[1000 rows x 3 columns]\n"
     ]
    }
   ],
   "source": [
    "print(results_df)"
   ]
  }
 ],
 "metadata": {
  "kernelspec": {
   "display_name": "Python 3",
   "language": "python",
   "name": "python3"
  },
  "language_info": {
   "codemirror_mode": {
    "name": "ipython",
    "version": 3
   },
   "file_extension": ".py",
   "mimetype": "text/x-python",
   "name": "python",
   "nbconvert_exporter": "python",
   "pygments_lexer": "ipython3",
   "version": "3.7.1"
  }
 },
 "nbformat": 4,
 "nbformat_minor": 2
}
