{
 "cells": [
  {
   "cell_type": "markdown",
   "metadata": {},
   "source": [
    "# Explorando a biblioteca os\n",
    "\n",
    "Começamos importando a biblioteca"
   ]
  },
  {
   "cell_type": "code",
   "execution_count": 1,
   "metadata": {},
   "outputs": [],
   "source": [
    "import os"
   ]
  },
  {
   "cell_type": "markdown",
   "metadata": {},
   "source": [
    "Vejamos o que há disponível para trabalharmos"
   ]
  },
  {
   "cell_type": "code",
   "execution_count": 2,
   "metadata": {},
   "outputs": [
    {
     "name": "stdout",
     "output_type": "stream",
     "text": [
      "['CLD_CONTINUED', 'CLD_DUMPED', 'CLD_EXITED', 'CLD_TRAPPED', 'DirEntry', 'EX_CANTCREAT', 'EX_CONFIG', 'EX_DATAERR', 'EX_IOERR', 'EX_NOHOST', 'EX_NOINPUT', 'EX_NOPERM', 'EX_NOUSER', 'EX_OK', 'EX_OSERR', 'EX_OSFILE', 'EX_PROTOCOL', 'EX_SOFTWARE', 'EX_TEMPFAIL', 'EX_UNAVAILABLE', 'EX_USAGE', 'F_LOCK', 'F_OK', 'F_TEST', 'F_TLOCK', 'F_ULOCK', 'MutableMapping', 'NGROUPS_MAX', 'O_ACCMODE', 'O_APPEND', 'O_ASYNC', 'O_CLOEXEC', 'O_CREAT', 'O_DIRECT', 'O_DIRECTORY', 'O_DSYNC', 'O_EXCL', 'O_LARGEFILE', 'O_NDELAY', 'O_NOATIME', 'O_NOCTTY', 'O_NOFOLLOW', 'O_NONBLOCK', 'O_RDONLY', 'O_RDWR', 'O_RSYNC', 'O_SYNC', 'O_TRUNC', 'O_WRONLY', 'POSIX_FADV_DONTNEED', 'POSIX_FADV_NOREUSE', 'POSIX_FADV_NORMAL', 'POSIX_FADV_RANDOM', 'POSIX_FADV_SEQUENTIAL', 'POSIX_FADV_WILLNEED', 'PRIO_PGRP', 'PRIO_PROCESS', 'PRIO_USER', 'P_ALL', 'P_NOWAIT', 'P_NOWAITO', 'P_PGID', 'P_PID', 'P_WAIT', 'PathLike', 'RTLD_DEEPBIND', 'RTLD_GLOBAL', 'RTLD_LAZY', 'RTLD_LOCAL', 'RTLD_NODELETE', 'RTLD_NOLOAD', 'RTLD_NOW', 'R_OK', 'SCHED_BATCH', 'SCHED_FIFO', 'SCHED_IDLE', 'SCHED_OTHER', 'SCHED_RESET_ON_FORK', 'SCHED_RR', 'SEEK_CUR', 'SEEK_END', 'SEEK_SET', 'ST_APPEND', 'ST_MANDLOCK', 'ST_NOATIME', 'ST_NODEV', 'ST_NODIRATIME', 'ST_NOEXEC', 'ST_NOSUID', 'ST_RDONLY', 'ST_RELATIME', 'ST_SYNCHRONOUS', 'ST_WRITE', 'TMP_MAX', 'WCONTINUED', 'WCOREDUMP', 'WEXITED', 'WEXITSTATUS', 'WIFCONTINUED', 'WIFEXITED', 'WIFSIGNALED', 'WIFSTOPPED', 'WNOHANG', 'WNOWAIT', 'WSTOPPED', 'WSTOPSIG', 'WTERMSIG', 'WUNTRACED', 'W_OK', 'XATTR_CREATE', 'XATTR_REPLACE', 'XATTR_SIZE_MAX', 'X_OK', '_Environ', '__all__', '__builtins__', '__cached__', '__doc__', '__file__', '__loader__', '__name__', '__package__', '__spec__', '_execvpe', '_exists', '_exit', '_fspath', '_fwalk', '_get_exports_list', '_putenv', '_spawnvef', '_unsetenv', '_wrap_close', 'abc', 'abort', 'access', 'altsep', 'chdir', 'chmod', 'chown', 'chroot', 'close', 'closerange', 'confstr', 'confstr_names', 'cpu_count', 'ctermid', 'curdir', 'defpath', 'device_encoding', 'devnull', 'dup', 'dup2', 'environ', 'environb', 'error', 'execl', 'execle', 'execlp', 'execlpe', 'execv', 'execve', 'execvp', 'execvpe', 'extsep', 'fchdir', 'fchmod', 'fchown', 'fdatasync', 'fdopen', 'fork', 'forkpty', 'fpathconf', 'fsdecode', 'fsencode', 'fspath', 'fstat', 'fstatvfs', 'fsync', 'ftruncate', 'fwalk', 'get_blocking', 'get_exec_path', 'get_inheritable', 'get_terminal_size', 'getcwd', 'getcwdb', 'getegid', 'getenv', 'getenvb', 'geteuid', 'getgid', 'getgrouplist', 'getgroups', 'getloadavg', 'getlogin', 'getpgid', 'getpgrp', 'getpid', 'getppid', 'getpriority', 'getresgid', 'getresuid', 'getsid', 'getuid', 'getxattr', 'initgroups', 'isatty', 'kill', 'killpg', 'lchown', 'linesep', 'link', 'listdir', 'listxattr', 'lockf', 'lseek', 'lstat', 'major', 'makedev', 'makedirs', 'minor', 'mkdir', 'mkfifo', 'mknod', 'name', 'nice', 'open', 'openpty', 'pardir', 'path', 'pathconf', 'pathconf_names', 'pathsep', 'pipe', 'pipe2', 'popen', 'posix_fadvise', 'posix_fallocate', 'pread', 'preadv', 'putenv', 'pwrite', 'pwritev', 'read', 'readlink', 'readv', 'register_at_fork', 'remove', 'removedirs', 'removexattr', 'rename', 'renames', 'replace', 'rmdir', 'scandir', 'sched_get_priority_max', 'sched_get_priority_min', 'sched_getaffinity', 'sched_getparam', 'sched_getscheduler', 'sched_param', 'sched_rr_get_interval', 'sched_setaffinity', 'sched_setparam', 'sched_setscheduler', 'sched_yield', 'sendfile', 'sep', 'set_blocking', 'set_inheritable', 'setegid', 'seteuid', 'setgid', 'setgroups', 'setpgid', 'setpgrp', 'setpriority', 'setregid', 'setresgid', 'setresuid', 'setreuid', 'setsid', 'setuid', 'setxattr', 'spawnl', 'spawnle', 'spawnlp', 'spawnlpe', 'spawnv', 'spawnve', 'spawnvp', 'spawnvpe', 'st', 'stat', 'stat_result', 'statvfs', 'statvfs_result', 'strerror', 'supports_bytes_environ', 'supports_dir_fd', 'supports_effective_ids', 'supports_fd', 'supports_follow_symlinks', 'symlink', 'sync', 'sys', 'sysconf', 'sysconf_names', 'system', 'tcgetpgrp', 'tcsetpgrp', 'terminal_size', 'times', 'times_result', 'truncate', 'ttyname', 'umask', 'uname', 'uname_result', 'unlink', 'unsetenv', 'urandom', 'utime', 'wait', 'wait3', 'wait4', 'waitid', 'waitid_result', 'waitpid', 'walk', 'write', 'writev']\n"
     ]
    }
   ],
   "source": [
    "print(dir(os))"
   ]
  },
  {
   "cell_type": "markdown",
   "metadata": {},
   "source": [
    "#### Nós mostra o diretório que estamos trabalhando"
   ]
  },
  {
   "cell_type": "code",
   "execution_count": 3,
   "metadata": {},
   "outputs": [
    {
     "name": "stdout",
     "output_type": "stream",
     "text": [
      "/home/talantyr/Documentos/Projetos/Python\n"
     ]
    }
   ],
   "source": [
    "print(os.getcwd())"
   ]
  },
  {
   "cell_type": "markdown",
   "metadata": {},
   "source": [
    "Altera o nosso diretório atual"
   ]
  },
  {
   "cell_type": "code",
   "execution_count": 4,
   "metadata": {},
   "outputs": [],
   "source": [
    "os.chdir('/home/talantyr/Documentos/Projetos/')"
   ]
  },
  {
   "cell_type": "code",
   "execution_count": 5,
   "metadata": {},
   "outputs": [
    {
     "name": "stdout",
     "output_type": "stream",
     "text": [
      "/home/talantyr/Documentos/Projetos\n"
     ]
    }
   ],
   "source": [
    "print(os.getcwd())"
   ]
  },
  {
   "cell_type": "markdown",
   "metadata": {},
   "source": [
    "Lista todos os arquivos e diretórios de nosso diretório atual"
   ]
  },
  {
   "cell_type": "code",
   "execution_count": 6,
   "metadata": {},
   "outputs": [
    {
     "name": "stdout",
     "output_type": "stream",
     "text": [
      "['01.Python Iluminado', 'Python', 'Materiais de Pesquisa', '03.Hacking e Segurança da Informação', '.ipynb_checkpoints', 'Cyber Underground', 'Estudos Computação', 'Inteligência Artificial Distopia', 'Hacker Intelligence ', 'Lux in Tenebris', 'Python Matemática', 'Ideias', 'Estudos Filosóficos', 'Materiais Traduzidos', '02.Números Binários', 'The Matrix.txt', 'Akira']\n"
     ]
    }
   ],
   "source": [
    "print(os.listdir())"
   ]
  },
  {
   "cell_type": "markdown",
   "metadata": {},
   "source": [
    "Novamente trocamos de diretório"
   ]
  },
  {
   "cell_type": "code",
   "execution_count": 7,
   "metadata": {},
   "outputs": [],
   "source": [
    "os.chdir('/home/talantyr/Documentos/Projetos/Python')"
   ]
  },
  {
   "cell_type": "markdown",
   "metadata": {},
   "source": [
    "Os métodos **mkdir** e **makedirs** servem para criarmos diretórios"
   ]
  },
  {
   "cell_type": "code",
   "execution_count": 10,
   "metadata": {},
   "outputs": [],
   "source": [
    "os.mkdir('Diretorio-Teste') # Cria o diretório Diretorio-Teste\n",
    "os.makedirs('Diretorio_Teste/Dir-Teste') # Cria os diretórios Diretorio_Teste/Dir-Teste"
   ]
  },
  {
   "cell_type": "markdown",
   "metadata": {},
   "source": [
    "Os métodos **rmdir** e **removedirs** servem para removermos diretórios"
   ]
  },
  {
   "cell_type": "code",
   "execution_count": 11,
   "metadata": {},
   "outputs": [],
   "source": [
    "os.rmdir('Diretorio-Teste') # Remove o diretório Diretorio-Teste\n",
    "os.removedirs('Diretorio_Teste/Dir-Teste') # Remove os diretórios Diretorio_Teste/Dir-Teste"
   ]
  },
  {
   "cell_type": "markdown",
   "metadata": {},
   "source": [
    "O método **rename** nos permite renomear arquivos"
   ]
  },
  {
   "cell_type": "code",
   "execution_count": 12,
   "metadata": {},
   "outputs": [],
   "source": [
    "os.rename('teste.txt', 'demo.txt')"
   ]
  },
  {
   "cell_type": "markdown",
   "metadata": {},
   "source": [
    "O método **stat** nos traz detalhes sobre o arquivo"
   ]
  },
  {
   "cell_type": "code",
   "execution_count": 14,
   "metadata": {},
   "outputs": [
    {
     "name": "stdout",
     "output_type": "stream",
     "text": [
      "os.stat_result(st_mode=33204, st_ino=1589470, st_dev=2053, st_nlink=1, st_uid=1000, st_gid=1000, st_size=0, st_atime=1557493263, st_mtime=1557493263, st_ctime=1557493283)\n",
      "0\n"
     ]
    }
   ],
   "source": [
    "print(os.stat('demo.txt'))\n",
    "print(os.stat('demo.txt').st_size)"
   ]
  },
  {
   "cell_type": "markdown",
   "metadata": {},
   "source": [
    "O método **walk** caminha sob todos os diretórios do caminho especificado\n",
    "\n",
    "Nesse caso estamos imprimindo o **caminho do diretório**, **seu nome** e o **nome dos arquivos**"
   ]
  },
  {
   "cell_type": "code",
   "execution_count": 16,
   "metadata": {},
   "outputs": [
    {
     "name": "stdout",
     "output_type": "stream",
     "text": [
      "/home/talantyr/Documentos/Projetos/\n",
      "['01.Python Iluminado', 'Python', 'Materiais de Pesquisa', '03.Hacking e Segurança da Informação', '.ipynb_checkpoints', 'Cyber Underground', 'Hacker Intelligence ', 'Lux in Tenebris', 'Python Matemática', 'Materiais Traduzidos', '02.Números Binários', 'Akira']\n",
      "['Estudos Computação', 'Inteligência Artificial Distopia', 'Ideias', 'Estudos Filosóficos', 'The Matrix.txt']\n",
      "/home/talantyr/Documentos/Projetos/01.Python Iluminado\n",
      "[]\n",
      "['09.Tuplas', '07.Operadores', '25.PythonXML.md', '07.Operadores.md', '28.Decoradores.md', '27.Geradores', '27.Geradores.md', '21.DataTempo.md', '30.PythonMySQL', '08.Listas.md', '20.ErrosExceções.md', '12.Input', 'recursos_online.csv', '00.Estrutura.txt', '03.Sintaxe.md', '22.ClassesObjetos', '31.PythonMongoDB', '26.Iteradores', '03.Sintaxe', '12.Input.md', '23.ExpressõesRegulares.md', '02.Ambiente de Programação', '16.Funções', '01.Introdução', '02.Ambiente de Programação.md', '28.Decoradores', '06.Strings', '06.Strings.md', '15.WhileLoops.md', '23.ExpressõesRegulares', '05.Números', '04.Tipos de Variáveis', '20.ErrosExceções', '18.Módulos.md', '16.Funções.md', '17.Lambda', '30.PythonMySQL.md', '08.Listas', '11.Sets', '14.ForLoops', '24.PythonJSON.md', '33.Referências Online.md', '29.PIP.md', '18.Módulos', '32.Grandes Bibliotecas.md', '21.DataTempo', '17.Lambda.md', '05.Números.md', '10.Dicionários.md', '29.PIP', '11.Sets.md', '04.Tipos de Variáveis.md', '24.PythonJSON', '.dec.py.swp', '25.PythonXML', '19.InputOutputArquivos', '09.Tuplas.md', '13.If...Else', '32.Grandes Bibliotecas', '14.ForLoops.md', 'capa.jpg', '26.Iteradores.md', '31.PythonMongoDB.md', '13.If...Else.md', '33.Referências Online', '10.Dicionários', 'recursos_online.json', '19.InputOutputArquivos.md', '15.WhileLoops', '22.ClassesObjetos.md', '01.Introdução.md']\n",
      "/home/talantyr/Documentos/Projetos/Python\n",
      "['.ipynb_checkpoints']\n",
      "['explorando_os.ipynb', 'demo.txt']\n",
      "/home/talantyr/Documentos/Projetos/Python/.ipynb_checkpoints\n",
      "[]\n",
      "['explorando_os-checkpoint.ipynb']\n",
      "/home/talantyr/Documentos/Projetos/Materiais de Pesquisa\n",
      "['Assembly', 'C', 'Cryptography', 'Hacking e Segurança da Informação', 'Numbers', 'Artificial Intelligence', 'Python', 'OS', 'Computer Science General', 'Web', 'Computer Architecture', 'Quantum Computing', 'Linux']\n",
      "[]\n",
      "/home/talantyr/Documentos/Projetos/Materiais de Pesquisa/Assembly\n",
      "[]\n",
      "['Chapter3.ppt', 'ISA.pdf', 'x64_cheatsheet.pdf', 'Professional Assembly Language.pdf', 'SensePost_crash_course_in_x86_assembly-.pdf', 'lec10_ARMasm.pdf', '13_Assembly1.pdf', 'chapt_03.ppt', 'ReverseENGBinary.pdf', 'concise_assembly.pdf', 'mips_text.pdf', 'assembly1.ppt', 'Lec26606.pdf', 'isa_introduction.ppt', 'Lec26603.pdf', 'ReverseENG.pdf', 'L2.ISA.pdf', 'C e Assembly x86-64 v0.33.9.pdf', 'Assembly Language Step by Step .pdf', 'Chapter2.ppt', 'lecture2.pptx', 'ics312_nasm_first_program.pdf', '13Assembly.pdf', 'lec08_HackML.ppt', 'asm64-handout.pdf', 'Lec26602.pdf', 'Lec26608.pdf', 'dark2-isa1.pdf', '05-machine-basics.pdf', 'Week7.ppt', 'Practical Reverse Engineering.pdf', 'Computer_Systems-A_Programmers_Perspective-2e.pdf', 'The.Art.of.Assembly.Language.2nd.Edition.pdf', 'Introduction_to_x64_Assembly.pdf', 'class1b-ISA.pdf', '02_lecture.pdf', 'lec13_x86Asm.pdf', 'lec21.pdf', 'Modern-Computer-Architecture-and-Programming-in-Assembly-Language_tcm_183_1309076.pdf', 'Lec26613.pdf', 'assembly64.pdf']\n",
      "/home/talantyr/Documentos/Projetos/Materiais de Pesquisa/C\n",
      "[]\n",
      "['the_c_programming_language_2.pdf', 'EssentialC.pdf']\n",
      "/home/talantyr/Documentos/Projetos/Materiais de Pesquisa/Cryptography\n",
      "[]\n",
      "['criptografiaElviraMayordomo.pdf', 'Crypto101.pdf', 'Criptografia, que es, usos y beneficios - Claudia Rozas.pdf', '01-Introduction to Cryptography.pdf']\n",
      "/home/talantyr/Documentos/Projetos/Materiais de Pesquisa/Hacking e Segurança da Informação\n",
      "[]\n",
      "['2016_November_Open-Source-Intelligence-Tools-and-Resources-Handbook.pdf', 'Metasploit-The Penetration Tester s Guide.pdf', 'Smashing the Stack.ppt', '08overflow.ppt', 'Hacking Web Applications.ppt', 'overflow1.ppt', 'PENT-PSTR-SANS18-BP-V1_web.pdf', 'the-web-application-hackers-handbook.pdf', 'CEH v9 - Certified Ethical Hacker Version 9 Study Guide - 3E (2016).pdf', 'Buffer_Overflow.pdf', 'Ch03-bufferOverFlow-defense.ppt', 'CEHv8 Module 04 Enumeration.pdf', 'CSE4482_01_Introduction_2013_posted.pdf', 'Nmap Network Scanning Guide - Gordon Lyon.pdf', 'Module 24 Buffer Overflows.pdf', 'Black Hat Python.pdf', 'The Tagled Web A Guide to Securing Modern Web Applications.pdf', 'The Shellcoder’s Handbook.pdf', 'Syngress.The.Basics.of.Hacking.and.Penetration.Testing.Aug.2011.pdf', 'rtfm-red-team-field-manual.pdf', 'Ethical Hacking and Penetration Testing Guide ( PDFDrive.com ).pdf', 'The Hacker Playbook 2.pdf', 'ceh-certified-ethical-hacker-all-in-one-exam-guide-mcgrawhill-pdf-01qlt-.pdf', 'Buffer-Overflows.pdf', 'No Starch Press - Practical Packet Analysis.pdf', 'Buffer-Over.pdf', '01-intro-thompson.pdf', 'handbook-all_eng.pdf', 'Intro Malware.pdf', 'The_Tao_of_Buffer_Overflows_-_Enrique_Sanchez.pdf', 'overflow1-1.ppt', 'hacking-the-art-of-exploitation.pdf', 'netcat_tutorial.pdf', 'McGraw-Hill ~ CEH v8 Exam Guide (2014_2nd).pdf', '[Syngress] Buffer.Overflow.Attacks.-.Detect.Exploit.Prevent.pdf', 'Introduction-to-Computer-Security-pdf-DONE.pdf']\n",
      "/home/talantyr/Documentos/Projetos/Materiais de Pesquisa/Numbers\n",
      "[]\n",
      "['Yan_Li_The_Illustrated_Book_Of_Changes_(I_Ching).pdf', 'Hexadecimal Numbers.pdf', 'CS101.03.BinaryNumbers.ppt.pdf', 'Development of the Binary Number System and the Foundations of Co.pdf', 'history-of-binary.pdf', 'binary-overview.pdf', 'NumberSystemsAnnotated.pdf', 'ch_01.pdf', 'lesson%201%20understanding%20binary%20numbers.ppt', '212027005-The-Universal-History-of-Numbers.pdf', 'Understanding_Binary-Hexadecimal.pdf', 'binary-numbers-7-12-2011.pdf', 'Lecture12.ppt', 'The computer memory and the binary number system.ppt', 'The-Monadology-1714-by-Gottfried-Wilhelm-LEIBNIZ-1646-1716.pdf', 'binary-03f.ppt', 'lecture3_dec_bin_1.ppt']\n",
      "/home/talantyr/Documentos/Projetos/Materiais de Pesquisa/Artificial Intelligence\n",
      "['Machine Learning, Artificial Intelligence, Mathematics eBooks', 'Superintelligence_ Paths, Dangers .. by Nick Bostrom EPUB', 'Machine Learning']\n",
      "['011607comboIntro.pdf', '[Andrew_W._Trask]_Grokking_Deep_Learning(z-lib.org).pdf', 'Intro2Robotics.pdf', 'MachineLearningBook.pdf', 'handbookAI.pdf', 'neural-networks-for-natural-language-processing-slides.pdf', 'Society of Mind.pdf', '02_math_essentials.pdf', 'artificialintMIT.pdf', 'AI_Dummies.pdf', 'Max Tegmark - Life 3.0 Being human in the age of artificial intelligence.pdf', 'How to Create a Mind - Ray Kurzweil, 2012.pdf', 'KurzweilFuturist.pdf', 'artificial-intelligence-modern-approach.9780131038059.25368.pdf', 'csc384w11-Lecture01.pdf', 'lec-all.pdf', 'THE_AGE_OF_SPIRITUAL_MACHINES_WHEN_COMPU.pdf', 'Kurzweil, Ray - Singularity Is Near, The (hardback ed) [v1.3].pdf', 'Our Final Invention Artificial Intelligence and the End of the Human Era.pdf', 'A7.pdf']\n",
      "/home/talantyr/Documentos/Projetos/Materiais de Pesquisa/Artificial Intelligence/Machine Learning, Artificial Intelligence, Mathematics eBooks\n",
      "['ML', 'math', 'other', 'AI']\n",
      "[]\n",
      "/home/talantyr/Documentos/Projetos/Materiais de Pesquisa/Artificial Intelligence/Machine Learning, Artificial Intelligence, Mathematics eBooks/ML\n",
      "[]\n",
      "['large-scale inference - empirical bayes methods for estimation, testing, and prediction (2010).pdf', 'machine learning for hackers (2012).pdf', 'information theory, inference and learning algorithms (2003).pdf', 'introduction to machine learning (alpaydin, 2009).pdf', 'probabilistic graphical models - principles and techniques (2009).pdf', 'elements of statistical learning (2008).pdf', 'ensemble methods in data mining (2010).pdf', 'learning deep architectures for AI (2009).pdf', 'mining the social web - analyzing data from facebook, twitter, linkedin and other social media sites (2011).pdf', 'an introduction to information retrieval (2009).pdf', 'learning with kernels (2002).pdf', 'machine learning - an algorithmic perspective (2009).pdf', 'machine learning (1997).pdf', 'introduction to machine learning (smola, 2010).pdf', 'doing bayesian data analysis - a tutorial with R and BUGS (2010).pdf', 'statistical learning theory (1998).pdf', 'data analysis with open source tools (2010).pdf', 'bayesian reasoning and machine learning (2012).pdf', 'pattern recognition and machine learning (2007).pdf', 'pattern recognition (4th, 2008).pdf', 'data mining - practical machine learning tools and techniques (2011).pdf', 'data mining - concepts and techniques (3rd, 2011).pdf', 'neural networks for applied sciences and engineering (2006).pdf', 'kernel methods for pattern analysis (2004).pdf', 'a probabilistic theory of pattern recognition (1996).pdf', 'gaussian processes for machine learning (2005).pdf', 'an introduction to pattern recognition - a matlab approach (2010).pdf', 'programming collective intelligence - building smart web 2.0 applications (2007).pdf']\n",
      "/home/talantyr/Documentos/Projetos/Materiais de Pesquisa/Artificial Intelligence/Machine Learning, Artificial Intelligence, Mathematics eBooks/math\n",
      "['statistics', 'optimization', 'probability', 'analysis', 'matrix fu']\n",
      "['how to prove it - a structured approach (2nd, 2006).pdf']\n"
     ]
    },
    {
     "name": "stdout",
     "output_type": "stream",
     "text": [
      "/home/talantyr/Documentos/Projetos/Materiais de Pesquisa/Artificial Intelligence/Machine Learning, Artificial Intelligence, Mathematics eBooks/math/statistics\n",
      "[]\n",
      "['all of nonparametric statistics (2010).pdf', 'an introduction to generalized linear models (2nd, 2001).pdf', 'statistics in plain english (3rd, 2010).pdf', 'all of statistics - a concise course in statistical inference (2010).pdf', 'multivariate data analysis (7th, 2009).pdf', 'introduction to bayesian statistics (2nd, 2007).pdf', 'applied linear statistical models (5th, 2004).pdf', 'modern multivariate statistical techniques - regression, classification and manifold learning (2008).pdf', 'statistics - the exploration and analysis of data (7th, 2010).pdf', 'robust statistics (2nd, 2009).pdf']\n",
      "/home/talantyr/Documentos/Projetos/Materiais de Pesquisa/Artificial Intelligence/Machine Learning, Artificial Intelligence, Mathematics eBooks/math/optimization\n",
      "[]\n",
      "['practical methods for optimization (2nd, 1987).pdf', 'introduction to linear optimization (1997).pdf', 'numerical optimization (2nd, 2006).pdf', 'convex optimization (2004).pdf', 'introduction to stochastic search and optimization (2003).djvu', 'optimization for machine learning (2011).pdf']\n",
      "/home/talantyr/Documentos/Projetos/Materiais de Pesquisa/Artificial Intelligence/Machine Learning, Artificial Intelligence, Mathematics eBooks/math/probability\n",
      "[]\n",
      "['introduction to probability (bertsekas, 2nd, 2008).pdf', 'probability theory - the logic of science (2003).pdf', \"schaum's outline of probability, random variables and random processes (1997).pdf\", 'a first look at rigorous probability theory (2nd, 2006).pdf', 'an introduction to probability theory and applications (vol1, 3rd, 1968).pdf', 'introduction to probability (grinstead and snell, 2006).pdf', 'an introduction to probability theory and applications (vol2, 1971).pdf', 'a course in probability theory (3rd, 2000).pdf']\n",
      "/home/talantyr/Documentos/Projetos/Materiais de Pesquisa/Artificial Intelligence/Machine Learning, Artificial Intelligence, Mathematics eBooks/math/analysis\n",
      "[]\n",
      "['introduction to analysis (1985).pdf', 'mathematical analysis (2nd, 1981).djvu', 'calculus (spivak, 3rd, 1994).pdf', 'calculus (strang, 1991).pdf']\n",
      "/home/talantyr/Documentos/Projetos/Materiais de Pesquisa/Artificial Intelligence/Machine Learning, Artificial Intelligence, Mathematics eBooks/math/matrix fu\n",
      "[]\n",
      "['fundamentals of matrix computations (2nd, 2002).pdf', 'introduction to linear algebra (4th, 2009).pdf', 'matrix algebra - theory, computations, and applications in statistics (2007).pdf', 'linear algebra (1977).djvu', 'matrix cookbook.pdf', 'matrix computations (3rd, 1996).pdf']\n",
      "/home/talantyr/Documentos/Projetos/Materiais de Pesquisa/Artificial Intelligence/Machine Learning, Artificial Intelligence, Mathematics eBooks/other\n",
      "['solutions']\n",
      "['probabilistic robotics (2005).pdf', 'godel, escher, bach - an eternal golden braid (1999).pdf', 'foundations of statistical language processing (1999).pdf', 'speech and language processing (2nd, 2007).pdf', 'the algorithm design manual (2nd, 2008).pdf']\n",
      "/home/talantyr/Documentos/Projetos/Materiais de Pesquisa/Artificial Intelligence/Machine Learning, Artificial Intelligence, Mathematics eBooks/other/solutions\n",
      "[]\n",
      "['elements of statistical learning sol2.pdf', 'elements of statistical learning sol1.pdf', 'pattern recognition and machine learning solutions.pdf', 'answer book for calculus 3rd (spivak, 1994).pdf', 'introduction to linear algebra solution manual.pdf']\n",
      "/home/talantyr/Documentos/Projetos/Materiais de Pesquisa/Artificial Intelligence/Machine Learning, Artificial Intelligence, Mathematics eBooks/AI\n",
      "['evo bio']\n",
      "['knowledge representation and reasoning (2004).pdf', 'universal artificial intelligence (2005).pdf', 'artificial intelligence (luger, 6th, 2008).pdf', 'prediction, learning, and games (2006).pdf', 'artificial general intelligence (2007).pdf', 'the quest for AI - a history of ideas and achievements (2010).pdf', 'artificial intelligence - a modern approach (3rd, 2009).pdf', 'reinforcement learning - an introduction (1998).pdf', 'artificial intelligence for games (2nd, 2009).pdf']\n",
      "/home/talantyr/Documentos/Projetos/Materiais de Pesquisa/Artificial Intelligence/Machine Learning, Artificial Intelligence, Mathematics eBooks/AI/evo bio\n",
      "[]\n",
      "['a field guide to genetic programming (2008).pdf', 'swarm intelligence (2001).pdf', 'bio-inspired artificial intelligence (2008).pdf', 'the art of artificial evolution - a handbook on evolutionary art and music (2007).pdf', 'ant colony optimization (2004).pdf', 'introduction to evolutionary computing (2003).pdf', 'evolving connectionist systems - the knowledge engineering approach (2007).pdf']\n",
      "/home/talantyr/Documentos/Projetos/Materiais de Pesquisa/Artificial Intelligence/Superintelligence_ Paths, Dangers .. by Nick Bostrom EPUB\n",
      "[]\n",
      "['Superintelligence_ Paths, Dangers .. by Nick Bostrom.epub', 'free audiobook version.txt']\n",
      "/home/talantyr/Documentos/Projetos/Materiais de Pesquisa/Artificial Intelligence/Machine Learning\n",
      "[]\n",
      "['1-Introducao-ApreMaq-2007.pdf', '01_introduction.pdf', 'Introduction_To_ML_Partial_2.pdf', 'tidy-data.pdf', 'introducao.pdf', 'julia-tutorial.pdf', 'ml_test_score.pdf', 'asset-v1_ColumbiaX+CSMM.101x+1T2017+type@asset+block@AI_edx_ml_5.1intro.pdf']\n",
      "/home/talantyr/Documentos/Projetos/Materiais de Pesquisa/Python\n",
      "['Computational Physics - Problem Solving with Python, 3rd Edition']\n",
      "['PythonDeepLearning.pdf', 'Packt Publishing Getting Started with Beautiful Soup (2014).pdf', 'Lecture1.2-Fundamentals-full.pdf', 'Enthought-MATLAB-to-Python-White-Paper.pdf', 'Python-Machine-Learning.pdf', 'Python-for-Computational-Science-and-Engineering.pdf', 'Network Programming using Python.pdf', 'ModSimPy.pdf', 'sympy_tutorial.pdf', 'Pandas DataFrame Notes.pdf', 'Hands-On Machine Learning with Scikit-Learn and TensorFlow.pdf', 'sympy.pdf', 'Oxford.University.Press.Data.Science.and.Complex.Networks.Real.Case.Studies.with.Python.0199639604.pdf', 'python-tricks-buffet-awesome-features.pdf', 'pythonRE.ppt', 'Numerical.Methods.in.Engineering.with.Python.2nd.Edition.Jaan.Kiusalaas.2010.pdf', 'MODERN-PYTHON-COOKBOOK.pdf', 'pythondatasciencehandbook.pdf', '1python.ppt', 'python.ppt', 'python3.ppt', 'section1.pdf', 'Python4Infosec.pdf', 'Week01b_python_introduction.pdf', 'doingmathwithpython.pdf', 'thinkdsp.pdf', 'PythonNetBinder.pdf', 'Scientific-Computing-with-Python.pdf']\n",
      "/home/talantyr/Documentos/Projetos/Materiais de Pesquisa/Python/Computational Physics - Problem Solving with Python, 3rd Edition\n",
      "[]\n",
      "['Computational Physics - Problem Solving with Python, 3rd Edition.pdf']\n",
      "/home/talantyr/Documentos/Projetos/Materiais de Pesquisa/OS\n",
      "[]\n",
      "['so-02-intro-os-1p.pdf', 'Operating.Systems.4th.Edi.pdf', 'ch1-introduction.pdf', 'os1a-slides.pdf', 'SistemiOperativi.pdf']\n",
      "/home/talantyr/Documentos/Projetos/Materiais de Pesquisa/Computer Science General\n",
      "['Algorithms to Live By- The Computer Science of Human Decisions (2016) by Brian Christian']\n",
      "['3 The physics of computing.pdf', 'Computer Science Illuminated.pdf', 'Encyclopedia of Computer Science & Technology (iqbalkalmati.blogspot.com).pdf', '54RegularExpressions.pdf', 'sicp.pdf', 'CSPhilosophy.pdf', 'computer-science-engineering-course-MIT.pdf', 'MathCS.pdf', 'Levy_S-Hackers-Heroes-Computer-Revolution.pdf', 'code-charles-petzold.pdf', 'The Search-Search Engines History.pdf']\n",
      "/home/talantyr/Documentos/Projetos/Materiais de Pesquisa/Computer Science General/Algorithms to Live By- The Computer Science of Human Decisions (2016) by Brian Christian\n",
      "[]\n",
      "['Algorithms to Live By- The Computer Science of Human Decisions - Brian Christian.epub', 'Algorithms to Live By- The Computer Science of Human Decisions - Brian Christian.azw3']\n",
      "/home/talantyr/Documentos/Projetos/Materiais de Pesquisa/Web\n",
      "[]\n",
      "['WebFoundation.pdf', 'cs556-3rd-tutorial.pdf', '13-tcp-dns.pdf', 'IntroWWW.pdf', 'cerf74.pdf', 'www-1992.pdf', 'lecture01WebProgramming.pdf', 'RFC_TCP.pdf', 'web_programming.ppt', 'ARPANET.pdf', 'RFC_IP.pdf', 'Computer-Networks---A-Tanenbaum---5th-edition.pdf', 'history-of-internet-and-web.pdf', 'morley15e__ppt_ch07 REV.pdf', 'DARAPA60_publication-no-ads.pdf', 'RFC_TCP-IP.pdf', 'www.pdf']\n",
      "/home/talantyr/Documentos/Projetos/Materiais de Pesquisa/Computer Architecture\n",
      "[]\n",
      "['06MemoryAllocation.ppt', 'Memory Allocation.ppt', 'Arquitetura de Computadores - Ebook.pdf', 'VonNeumannEDVAC.pdf', 'Lecture27connors.pdf', 'Fundamentos1.pdf', 'Lecture09.ppt', 'lec09-memory.ppt', 'VishnuCompArch.pdf', 'A Practical Introduction to Computer Architecture By Daniel Page Springer.pdf', '2.pdf', 'Computer Organization and Architecture 10th - William Stallings.pdf', 'Advanced_Computer_Architecture.pdf', 'CS150_AVR_7.ppt', 'Arquitetura-de-Computadores.pdf', 'Computer Architechture.pdf', 'lec1.pdf', 'ComputerArch.pdf', 'ComputerArchitecture_Chapter1_introduction_color.pdf', 'InsidetheMachine.pdf', 'slides-main.pdf', 'CompOrgDesign.pdf', '081112_org_arq_comp.pdf', 'kompendium-inf2270.pdf']\n",
      "/home/talantyr/Documentos/Projetos/Materiais de Pesquisa/Quantum Computing\n",
      "[]\n",
      "['qcnotes.pdf', 'cq_vr_2013_slides_p.pdf', 'PrinciplesOfQuantumComputation1.pdf', 'QuantumTalk.pdf', 'QuantumGentle.pdf', 'QuantumComp.pdf']\n",
      "/home/talantyr/Documentos/Projetos/Materiais de Pesquisa/Linux\n",
      "[]\n",
      "['Tutorial Firewall em Linux.pdf', 'bash.pdf', 'Bible_of_shell.pdf', 'Linux Security Quick Reference Guide.pdf', 'Linux Command Line and Shell Scripting Bible 3rd Edition {PRG}.pdf', 'bash_lfnw_2017.pdf', 'Linux-101-Hacks.pdf']\n",
      "/home/talantyr/Documentos/Projetos/03.Hacking e Segurança da Informação\n",
      "[]\n",
      "['04.Scanning.txt', '00.Estrutura.txt', '02.Conhecimentos e Ferramentas.txt', '03.Footprinting e Reconhecimento.txt', '01.Introdução.txt', '05.Enumeração.txt', '06.Buffer Overflow.txt']\n",
      "/home/talantyr/Documentos/Projetos/.ipynb_checkpoints\n",
      "[]\n",
      "['calculo-checkpoint.ipynb', 'algebra_linear-checkpoint.ipynb', 'Untitled1-checkpoint.ipynb', 'python_matematica-checkpoint.ipynb', 'Untitled-checkpoint.ipynb']\n",
      "/home/talantyr/Documentos/Projetos/Cyber Underground\n",
      "[]\n",
      "['cyberanimado.pixil', 'cyberunderground2.gif', 'cyber-responsive.pixil', 'pixil-frame-0.png', 'cyber.pixil', 'pixil-gif-drawing.gif']\n",
      "/home/talantyr/Documentos/Projetos/Hacker Intelligence \n",
      "['Data Base PT', 'Web Site PHP', 'Web Site']\n",
      "['00.Projeto']\n",
      "/home/talantyr/Documentos/Projetos/Hacker Intelligence /Data Base PT\n",
      "[]\n",
      "['exploits.json', 'sql.json', 'data_mining.json', 'cryptography.json', 'cpp.json', 'web_hacking.json', 'cyber_security.json', 'elixir.json', 'machine_learning.json', 'javascript.json', 'computer_networks.json', 'signals_systems.json', 'physics.json', 'information_theory.json', 'r.json', 'quantum_computing.json', 'mathematics.json', 'operating_system.json', 'cloud_computing.json', 'nlp.json', 'python.json', 'virtual_reality.json', 'big_data.json', 'assembly.json', 'cybernetics_robotics.json', 'social_engineering.json', 'nosql.json', 'computer_vision.json', 'julia.json', 'computer_graphics.json', 'computer_architecture.json', 'reverse_engineering.json', 'php.json', 'regular_expressions.json', 'java.json', 'go.json', 'ruby.json', 'c.json', 'artificial_neural_networks.json', 'bash.json', 'haskell.json']\n",
      "/home/talantyr/Documentos/Projetos/Hacker Intelligence /Web Site PHP\n",
      "['js', 'css', 'computerscience', 'img', 'programming', 'images']\n",
      "['footer.php', 'nav.php', 'pag.php', 'index.php', 'jumbo.php', 'head.php', 'blog.php', 'contact.php']\n",
      "/home/talantyr/Documentos/Projetos/Hacker Intelligence /Web Site PHP/js\n",
      "[]\n",
      "['main.js']\n",
      "/home/talantyr/Documentos/Projetos/Hacker Intelligence /Web Site PHP/css\n",
      "[]\n",
      "['style.css', 'hacker.css', 'styles.css']\n",
      "/home/talantyr/Documentos/Projetos/Hacker Intelligence /Web Site PHP/computerscience\n",
      "[]\n",
      "['content.php', 'sidenav.php', 'head.php', 'content2.php']\n",
      "/home/talantyr/Documentos/Projetos/Hacker Intelligence /Web Site PHP/img\n",
      "[]\n",
      "['matrix.gif', 'cyberunderground2.gif', 'icon3.png', 'pixil-gif-drawing.gif']\n",
      "/home/talantyr/Documentos/Projetos/Hacker Intelligence /Web Site PHP/programming\n",
      "[]\n",
      "['content.php']\n",
      "/home/talantyr/Documentos/Projetos/Hacker Intelligence /Web Site PHP/images\n",
      "[]\n",
      "['026-0272.png', '61TN-uIUSNL._SX466_.jpg', '1374052942_nazi_propaganda_11.jpg']\n",
      "/home/talantyr/Documentos/Projetos/Hacker Intelligence /Web Site\n",
      "['js', 'css', 'img']\n",
      "['index.html', 'sidenav.html', 'contact.html', 'head.html', 'footer.html', 'computerscience.html', 'blog.html', 'home.html', 'nav.html']\n"
     ]
    },
    {
     "name": "stdout",
     "output_type": "stream",
     "text": [
      "/home/talantyr/Documentos/Projetos/Hacker Intelligence /Web Site/js\n",
      "[]\n",
      "['main.js']\n",
      "/home/talantyr/Documentos/Projetos/Hacker Intelligence /Web Site/css\n",
      "[]\n",
      "['style.css', 'hacker.css']\n",
      "/home/talantyr/Documentos/Projetos/Hacker Intelligence /Web Site/img\n",
      "[]\n",
      "['icon3.jpg', 'a.png']\n",
      "/home/talantyr/Documentos/Projetos/Lux in Tenebris\n",
      "['Thoughts']\n",
      "['Sarinha', 'Sarah']\n",
      "/home/talantyr/Documentos/Projetos/Lux in Tenebris/Thoughts\n",
      "[]\n",
      "['Pensamentos.json']\n",
      "/home/talantyr/Documentos/Projetos/Python Matemática\n",
      "['.ipynb_checkpoints', 'dados']\n",
      "['fibonacci_numeros.ipynb', 'pandas_limpando_dados.ipynb', 'explorando_numpy.ipynb', 'pandas_graficos.ipynb', 'triangulo_sierpinski.ipynb', 'funcao_relu.ipynb', 'onda_senoidal.ipynb', 'transformada_inversa_de_fourier.ipynb', 'funcao_tanh.ipynb', 'onda_quadrada.ipynb', 'iter_tools.ipynb', 'onda_cossenoidal.ipynb', 'espiral_arquimedes.ipynb', 'funcao_sigmoid.ipynb', 'estatistica_descritiva.ipynb', 'linear_algebra.ipynb', 'conjuntomandelbrot.ipynb', 'onda_dente_de_serra.ipynb', 'visualizacao_dados.ipynb', 'transformada_de_fourier.ipynb', 'calculo.ipynb', 'preco_automoveis.csv', 'euclid.ipynb', 'formula_euler.ipynb', 'sympy_graficos.ipynb']\n",
      "/home/talantyr/Documentos/Projetos/Python Matemática/.ipynb_checkpoints\n",
      "[]\n",
      "['calculo-checkpoint.ipynb', 'onda_senoidal-checkpoint.ipynb', 'espiral_arquimedes-checkpoint.ipynb', 'pandas_graficos-checkpoint.ipynb', 'onda_dente_de_serra-checkpoint.ipynb', 'euclid-checkpoint.ipynb', 'estatistica_descritiva-checkpoint.ipynb', 'pandas_limpando_dados-checkpoint.ipynb', 'algebra_linear-checkpoint.ipynb', 'fibonacci_numeros-checkpoint.ipynb', 'conjuntomandelbrot-checkpoint.ipynb', 'funcao_sigmoid-checkpoint.ipynb', 'onda_quadrada-checkpoint.ipynb', 'explorando_numpy-checkpoint.ipynb', 'visualizacao_dados-checkpoint.ipynb', 'funcao_relu-checkpoint.ipynb', 'transformada_de_fourier-checkpoint.ipynb', 'formula_euler-checkpoint.ipynb', 'funcao_tanh-checkpoint.ipynb', 'linear_algebra-checkpoint.ipynb', 'iter_tools-checkpoint.ipynb', 'transformada_inversa_de_fourier-checkpoint.ipynb', 'onda_cossenoidal-checkpoint.ipynb', 'sympy_graficos-checkpoint.ipynb', 'triangulo_sierpinski-checkpoint.ipynb']\n",
      "/home/talantyr/Documentos/Projetos/Python Matemática/dados\n",
      "[]\n",
      "['billboard_songs.csv', 'survey_visited.csv', 'pew.csv', 'survey_survey.csv', 'intro.ipynb', 'gapminder.tsv', 'weather.csv', 'country_timeseries.csv', 'billboard.csv', 'concat_2.csv', 'concat_3.csv', 'concat_1.csv', 'billboard_ratings.csv', 'survey_site.csv', 'survey_person.csv']\n",
      "/home/talantyr/Documentos/Projetos/Materiais Traduzidos\n",
      "['Assembly', 'Buffer Overflow', 'Memory', 'Computer Architecture']\n",
      "['A Escrever']\n",
      "/home/talantyr/Documentos/Projetos/Materiais Traduzidos/Assembly\n",
      "[]\n",
      "['A fundamental introduction to x86', 'Machine-Level Programming Basics', 'Assembly Language: Overview']\n",
      "/home/talantyr/Documentos/Projetos/Materiais Traduzidos/Buffer Overflow\n",
      "[]\n",
      "['Buffer Overflow Attack: Defense Techniques', 'Buffer Overflow Exploits']\n",
      "/home/talantyr/Documentos/Projetos/Materiais Traduzidos/Memory\n",
      "[]\n",
      "['Memory Allocation']\n",
      "/home/talantyr/Documentos/Projetos/Materiais Traduzidos/Computer Architecture\n",
      "[]\n",
      "['The Von Neumann Computer Model']\n",
      "/home/talantyr/Documentos/Projetos/02.Números Binários\n",
      "[]\n",
      "['05.Números Negativos.md', '00.Estrutura.txt', '06.Frações e Pontos Flutuantes.md', '03.Conversões.md', '05.Números Negativos', '04.Aritmética.md', '02.Sistemas Numéricos.md', '01.Introdução.txt', '02.Sistemas Numéricos.txt', '03.Conversões.txt', '06.Frações e Pontos Flutuantes', '01.Introdução.md', '04.Aritmética.txt']\n",
      "/home/talantyr/Documentos/Projetos/Akira\n",
      "['Old Akira', 'Web Site']\n",
      "['Projeto']\n",
      "/home/talantyr/Documentos/Projetos/Akira/Old Akira\n",
      "['python', 'js', 'css', 'binários', 'img', 'vendor', 'scss']\n",
      "['footer.php', 'nav.php', 'infocontato.php', 'projetos.php', 'header.php', 'index.php', 'listaprojetos.php', 'intro.php', 'head.php', 'contato.php']\n",
      "/home/talantyr/Documentos/Projetos/Akira/Old Akira/python\n",
      "[]\n",
      "['index.content.php', 'nav.php', 'cap1.content.php', 'index.php', 'head.php', 'cap1.php']\n",
      "/home/talantyr/Documentos/Projetos/Akira/Old Akira/js\n",
      "[]\n",
      "['stylish-portfolio.min.js', 'prism.js', 'stylish-portfolio.js']\n",
      "/home/talantyr/Documentos/Projetos/Akira/Old Akira/css\n",
      "[]\n",
      "['style.css', 'prism.css', 'stylish-portfolio.css', 'stylish-portfolio.min.css']\n",
      "/home/talantyr/Documentos/Projetos/Akira/Old Akira/binários\n",
      "[]\n",
      "['index.html', 'primeiro.html']\n",
      "/home/talantyr/Documentos/Projetos/Akira/Old Akira/img\n",
      "[]\n",
      "['295744.jpg', 'akira.jpeg', '1.jpg', 'capa.jpg']\n",
      "/home/talantyr/Documentos/Projetos/Akira/Old Akira/vendor\n",
      "['jquery', 'jquery-easing', 'fontawesome-free', 'simple-line-icons', 'bootstrap']\n",
      "[]\n",
      "/home/talantyr/Documentos/Projetos/Akira/Old Akira/vendor/jquery\n",
      "[]\n",
      "['jquery.slim.min.js', 'jquery.slim.js', 'jquery.js', 'jquery.min.js', 'jquery.min.map', 'jquery.slim.min.map']\n",
      "/home/talantyr/Documentos/Projetos/Akira/Old Akira/vendor/jquery-easing\n",
      "[]\n",
      "['jquery.easing.compatibility.js', 'jquery.easing.js', 'jquery.easing.min.js']\n",
      "/home/talantyr/Documentos/Projetos/Akira/Old Akira/vendor/fontawesome-free\n",
      "['less', 'js', 'webfonts', 'css', 'sprites', 'svgs', 'scss']\n",
      "['README.md', 'LICENSE.txt', 'package.json']\n",
      "/home/talantyr/Documentos/Projetos/Akira/Old Akira/vendor/fontawesome-free/less\n",
      "[]\n",
      "['_animated.less', 'v4-shims.less', 'solid.less', 'regular.less', 'fontawesome.less', '_rotated-flipped.less', '_bordered-pulled.less', '_core.less', '_fixed-width.less', '_icons.less', '_stacked.less', '_mixins.less', 'brands.less', '_variables.less', '_screen-reader.less', '_shims.less', '_larger.less', '_list.less']\n",
      "/home/talantyr/Documentos/Projetos/Akira/Old Akira/vendor/fontawesome-free/js\n",
      "[]\n",
      "['solid.min.js', 'v4-shims.min.js', 'solid.js', 'all.js', 'all.min.js', 'fontawesome.js', 'v4-shims.js', 'brands.min.js', 'brands.js', 'regular.js', 'regular.min.js', 'fontawesome.min.js']\n",
      "/home/talantyr/Documentos/Projetos/Akira/Old Akira/vendor/fontawesome-free/webfonts\n",
      "[]\n",
      "['fa-regular-400.woff', 'fa-brands-400.woff2', 'fa-regular-400.woff2', 'fa-solid-900.woff2', 'fa-brands-400.ttf', 'fa-regular-400.ttf', 'fa-solid-900.eot', 'fa-regular-400.svg', 'fa-solid-900.woff', 'fa-brands-400.woff', 'fa-solid-900.ttf', 'fa-brands-400.svg', 'fa-solid-900.svg', 'fa-regular-400.eot', 'fa-brands-400.eot']\n",
      "/home/talantyr/Documentos/Projetos/Akira/Old Akira/vendor/fontawesome-free/css\n",
      "[]\n",
      "['fontawesome.min.css', 'svg-with-js.min.css', 'regular.min.css', 'brands.min.css', 'regular.css', 'v4-shims.min.css', 'all.css', 'fontawesome.css', 'brands.css', 'all.min.css', 'solid.css', 'solid.min.css', 'v4-shims.css', 'svg-with-js.css']\n",
      "/home/talantyr/Documentos/Projetos/Akira/Old Akira/vendor/fontawesome-free/sprites\n",
      "[]\n",
      "['regular.svg', 'solid.svg', 'brands.svg']\n",
      "/home/talantyr/Documentos/Projetos/Akira/Old Akira/vendor/fontawesome-free/svgs\n",
      "['brands', 'regular', 'solid']\n",
      "[]\n",
      "/home/talantyr/Documentos/Projetos/Akira/Old Akira/vendor/fontawesome-free/svgs/brands\n",
      "[]\n",
      "['researchgate.svg', 'gratipay.svg', 'skyatlas.svg', 'linode.svg', 'less.svg', 'cc-stripe.svg', 'old-republic.svg', 'patreon.svg', 'accusoft.svg', 'yandex.svg', 'wix.svg', 'google-plus-square.svg', 'glide-g.svg', 'ebay.svg', 'the-red-yeti.svg', 'opencart.svg', 'phoenix-framework.svg', 'bitbucket.svg', 'facebook-messenger.svg', 'dashcube.svg', 'amazon-pay.svg', 'pinterest-p.svg', 'mix.svg', 'teamspeak.svg', 'glide.svg', 'vine.svg', 'angular.svg', 'servicestack.svg', 'nimblr.svg', 'creative-commons-remix.svg', 'simplybuilt.svg', 'creative-commons-pd.svg', 'weibo.svg', 'product-hunt.svg', 'autoprefixer.svg', 'etsy.svg', 'superpowers.svg', 'cc-amazon-pay.svg', 'windows.svg', 'node-js.svg', 'creative-commons-nc.svg', 'medrt.svg', 'cc-paypal.svg', 'deskpro.svg', 'reddit.svg', 'jedi-order.svg', 'react.svg', 'foursquare.svg', 'cc-apple-pay.svg', 'pied-piper.svg', 'dochub.svg', 'nintendo-switch.svg', 'wikipedia-w.svg', 'fort-awesome.svg', 'buysellads.svg', 'apple-pay.svg', 'kickstarter.svg', 'amilia.svg', 'vimeo.svg', 'google.svg', 'dribbble.svg', 'usb.svg', 'stripe.svg', 'creative-commons-by.svg', 'slideshare.svg', 'squarespace.svg', 'sellcast.svg', 'korvue.svg', 'bandcamp.svg', 'dribbble-square.svg', 'git-square.svg', 'font-awesome-logo-full.svg', 'quinscape.svg', 'houzz.svg', 'kaggle.svg', 'microsoft.svg', 'dyalog.svg', 'css3-alt.svg', 'renren.svg', 'uikit.svg', 'css3.svg', 'studiovinari.svg', 'itunes.svg', 'linkedin.svg', 'themeisle.svg', 'fonticons-fi.svg', 'cc-mastercard.svg', 'avianex.svg', 'buromobelexperte.svg', 'snapchat-square.svg', 'pied-piper-alt.svg', 'periscope.svg', 'palfed.svg', 'aws.svg', 'hornbill.svg', 'contao.svg', 'cloudsmith.svg', 'firefox.svg', 'ello.svg', 'creative-commons-sa.svg', 'facebook-square.svg', 'deviantart.svg', 'connectdevelop.svg', 'replyd.svg', 'app-store-ios.svg', 'shopware.svg', 'creative-commons-nc-jp.svg', 'algolia.svg', 'strava.svg', 'gitkraken.svg', 'facebook.svg', 'html5.svg', 'vk.svg', 'empire.svg', 'hubspot.svg', 'skype.svg', 'spotify.svg', 'weebly.svg', 'yelp.svg', 'forumbee.svg', 'speakap.svg', 'google-play.svg', 'cloudversify.svg', 'keycdn.svg', 'behance.svg', 'ethereum.svg', 'creative-commons-nd.svg', 'deploydog.svg', 'galactic-republic.svg', 'free-code-camp.svg', 'rendact.svg', 'discord.svg', 'viadeo.svg', 'creative-commons-nc-eu.svg', 'lyft.svg', 'cuttlefish.svg', 'blackberry.svg', 'bluetooth-b.svg', 'qq.svg', 'wolf-pack-battalion.svg', 'php.svg', 'yahoo.svg', 'steam-symbol.svg', 'viacoin.svg', 'viber.svg', 'themeco.svg', 'red-river.svg', 'cc-discover.svg', 'reddit-square.svg', 'jenkins.svg', 'hire-a-helper.svg', 'sith.svg', 'tumblr.svg', 'fly.svg', 'centercode.svg', 'quora.svg', 'megaport.svg', 'github-alt.svg', 'google-wallet.svg', 'sellsy.svg', 'uniregistry.svg', 'ravelry.svg', 'first-order-alt.svg', 'npm.svg', 'accessible-icon.svg', 'sistrix.svg', 'lastfm-square.svg', 'telegram-plane.svg', 'cc-visa.svg', 'snapchat-ghost.svg', 'font-awesome-alt.svg', 'earlybirds.svg', 'behance-square.svg', 'google-drive.svg', 'gg-circle.svg', 'creative-commons-pd-alt.svg', 'gitter.svg', 'codiepie.svg', 'affiliatetheme.svg', 'joget.svg', 'odnoklassniki.svg', 'rev.svg', 'staylinked.svg', 'internet-explorer.svg', 'ember.svg', 'leanpub.svg', 'mizuni.svg', 'apple.svg', 'stumbleupon-circle.svg', 'snapchat.svg', 'resolving.svg', 'alipay.svg', 'joomla.svg', 'gripfire.svg', '500px.svg', 'hacker-news.svg', 'medium.svg', 'y-combinator.svg', 'wordpress-simple.svg', 'hacker-news-square.svg', 'asymmetrik.svg', 'ussunnah.svg', 'cloudscale.svg', 'goodreads.svg', 'wpexplorer.svg', 'mastodon.svg', 'supple.svg', 'paypal.svg', 'creative-commons.svg', 'pinterest.svg', 'adn.svg', 'line.svg', 'tumblr-square.svg', 'whatsapp-square.svg', 'stripe-s.svg', 'node.svg', 'facebook-f.svg', 'github-square.svg', 'audible.svg', 'gg.svg', 'lastfm.svg', 'adversal.svg', 'cpanel.svg', 'uber.svg', 'stack-overflow.svg', 'grunt.svg', 'angrycreative.svg', 'telegram.svg', 'js.svg', 'reddit-alien.svg', 'discourse.svg', 'elementor.svg', 'trello.svg', 'google-plus.svg', 'bluetooth.svg', 'vuejs.svg', 'mixcloud.svg', 'wpforms.svg', 'android.svg', 'hackerrank.svg', 'js-square.svg', 'drupal.svg', 'first-order.svg', 'hotjar.svg', 'pushed.svg', 'whmcs.svg', 'linkedin-in.svg', 'font-awesome-flag.svg', 'pinterest-square.svg', 'digg.svg', 'rebel.svg', 'pied-piper-hat.svg', 'galactic-senate.svg', 'blogger-b.svg', 'git.svg', 'readme.svg', 'yandex-international.svg', 'fonticons.svg', 'schlix.svg', 'erlang.svg', 'keybase.svg', 'angellist.svg', 'xing.svg', 'linux.svg', 'medium-m.svg', 'gitlab.svg', 'scribd.svg', 'python.svg', 'flickr.svg', 'mailchimp.svg', 'digital-ocean.svg', 'freebsd.svg', 'opera.svg', 'cc-diners-club.svg', 'apper.svg', 'pagelines.svg', 'gofore.svg', 'xing-square.svg', 'twitter-square.svg', 'yoast.svg', 'typo3.svg', 'modx.svg', 'flipboard.svg', 'edge.svg', 'hips.svg', 'wordpress.svg', 'pied-piper-pp.svg', 'fort-awesome-alt.svg', 'sticker-mule.svg', 'twitch.svg', 'expeditedssl.svg', 'stack-exchange.svg', 'trade-federation.svg', 'itunes-note.svg', 'slack.svg', 'vaadin.svg', 'jsfiddle.svg', 'envira.svg', 'page4.svg', 'shirtsinbulk.svg', 'vnv.svg', 'youtube-square.svg', 'r-project.svg', 'rocketchat.svg', 'kickstarter-k.svg', 'vimeo-v.svg', 'get-pocket.svg', 'zhihu.svg', 'font-awesome.svg', 'gulp.svg', 'whatsapp.svg', 'amazon.svg', 'markdown.svg', 'ioxhost.svg', 'soundcloud.svg', 'laravel.svg', 'bity.svg', 'wpbeginner.svg', 'ns8.svg', 'google-plus-g.svg', 'aviato.svg', 'monero.svg', 'cc-jcb.svg', 'magento.svg', 'napster.svg', 'sass.svg', 'nutritionix.svg', 'safari.svg', 'firstdraft.svg', 'cc-amex.svg', 'xbox.svg', 'docker.svg', 'weixin.svg', 'odnoklassniki-square.svg', 'dropbox.svg', 'd-and-d.svg', 'creative-commons-sampling-plus.svg', 'twitter.svg', 'blogger.svg', 'creative-commons-sampling.svg', 'bimobject.svg', 'mandalorian.svg', 'phabricator.svg', 'searchengin.svg', 'neos.svg', 'tripadvisor.svg', 'btc.svg', 'steam.svg', 'instagram.svg', 'stumbleupon.svg', 'meetup.svg', 'delicious.svg', 'java.svg', 'grav.svg', 'youtube.svg', 'fulcrum.svg', 'draft2digital.svg', 'slack-hash.svg', 'hooli.svg', 'chrome.svg', 'black-tie.svg', 'app-store.svg', 'medapps.svg', 'creative-commons-share.svg', 'imdb.svg', 'phoenix-squadron.svg', 'codepen.svg', 'untappd.svg', 'goodreads-g.svg', 'vimeo-square.svg', 'tencent-weibo.svg', 'osi.svg', 'optin-monster.svg', 'rockrms.svg', 'viadeo-square.svg', 'github.svg', 'playstation.svg', 'steam-square.svg', 'bitcoin.svg', 'openid.svg', 'maxcdn.svg']\n",
      "/home/talantyr/Documentos/Projetos/Akira/Old Akira/vendor/fontawesome-free/svgs/regular\n",
      "[]\n",
      "['envelope.svg', 'chart-bar.svg', 'arrow-alt-circle-left.svg', 'pause-circle.svg', 'hand-point-up.svg', 'plus-square.svg', 'laugh-beam.svg', 'envelope-open.svg', 'futbol.svg', 'laugh.svg', 'caret-square-left.svg', 'file-pdf.svg', 'hand-lizard.svg', 'question-circle.svg', 'calendar-alt.svg', 'font-awesome-logo-full.svg', 'thumbs-up.svg', 'hdd.svg', 'registered.svg', 'grin-beam-sweat.svg', 'star.svg', 'tired.svg', 'comments.svg', 'file-excel.svg', 'life-ring.svg', 'grin-beam.svg', 'grin-wink.svg', 'meh-rolling-eyes.svg', 'circle.svg', 'calendar-check.svg', 'sad-cry.svg', 'file.svg', 'heart.svg', 'laugh-wink.svg', 'laugh-squint.svg', 'meh.svg', 'window-maximize.svg', 'grin-squint.svg', 'copyright.svg', 'grin-hearts.svg', 'dizzy.svg', 'hand-point-down.svg', 'image.svg', 'newspaper.svg', 'save.svg', 'closed-captioning.svg', 'address-book.svg', 'caret-square-down.svg', 'user-circle.svg', 'images.svg', 'play-circle.svg', 'surprise.svg', 'hand-point-right.svg', 'copy.svg', 'hourglass.svg', 'smile-wink.svg', 'compass.svg', 'grin-squint-tears.svg', 'hospital.svg', 'folder.svg', 'caret-square-up.svg', 'hand-scissors.svg', 'hand-peace.svg', 'credit-card.svg', 'building.svg', 'keyboard.svg', 'user.svg', 'grin-alt.svg', 'arrow-alt-circle-right.svg', 'sticky-note.svg', 'thumbs-down.svg', 'frown.svg', 'hand-rock.svg', 'calendar.svg', 'lemon.svg', 'list-alt.svg', 'comment-dots.svg', 'stop-circle.svg', 'file-image.svg', 'paper-plane.svg', 'window-restore.svg', 'file-alt.svg', 'object-group.svg', 'calendar-times.svg', 'bell.svg', 'comment-alt.svg', 'smile-beam.svg', 'window-close.svg', 'handshake.svg', 'id-card.svg', 'grin-tongue.svg', 'sad-tear.svg', 'hand-paper.svg', 'map.svg', 'file-video.svg', 'clone.svg', 'times-circle.svg', 'grin-tears.svg', 'clock.svg', 'arrow-alt-circle-down.svg', 'share-square.svg', 'moon.svg', 'hand-spock.svg', 'id-badge.svg', 'calendar-minus.svg', 'bell-slash.svg', 'dot-circle.svg', 'hand-point-left.svg', 'calendar-plus.svg', 'file-code.svg', 'arrow-alt-circle-up.svg', 'smile.svg', 'frown-open.svg', 'square.svg', 'caret-square-right.svg', 'grimace.svg', 'window-minimize.svg', 'check-circle.svg', 'grin-tongue-wink.svg', 'grin-stars.svg', 'money-bill-alt.svg', 'file-audio.svg', 'kiss-beam.svg', 'flushed.svg', 'object-ungroup.svg', 'minus-square.svg', 'hand-pointer.svg', 'file-powerpoint.svg', 'snowflake.svg', 'kiss-wink-heart.svg', 'clipboard.svg', 'edit.svg', 'folder-open.svg', 'address-card.svg', 'grin.svg', 'file-word.svg', 'trash-alt.svg', 'angry.svg', 'sun.svg', 'star-half.svg', 'grin-tongue-squint.svg', 'lightbulb.svg', 'meh-blank.svg', 'eye-slash.svg', 'bookmark.svg', 'comment.svg', 'check-square.svg', 'file-archive.svg', 'eye.svg', 'kiss.svg', 'flag.svg', 'gem.svg']\n",
      "/home/talantyr/Documentos/Projetos/Akira/Old Akira/vendor/fontawesome-free/svgs/solid\n",
      "[]\n",
      "['microphone.svg', 'ruler-combined.svg', 'envelope.svg', 'chart-bar.svg', 'file-invoice.svg', 'angle-right.svg', 'tshirt.svg', 'ban.svg', 'fire-extinguisher.svg', 'grip-vertical.svg', 'retweet.svg', 'stream.svg', 'star-and-crescent.svg', 'marker.svg', 'paste.svg', 'low-vision.svg', 'arrow-alt-circle-left.svg', 'fill-drip.svg', 'pause-circle.svg', 'weight.svg', 'hand-point-up.svg', 'podcast.svg', 'mosque.svg', 'cogs.svg', 'sort-alpha-down.svg', 'rocket.svg', 'plus-square.svg', 'hotel.svg', 'link.svg', 'quote-left.svg', 'desktop.svg', 'birthday-cake.svg', 'italic.svg', 'graduation-cap.svg', 'long-arrow-alt-left.svg', 'bed.svg', 'laugh-beam.svg', 'drum-steelpan.svg', 'laptop-code.svg', 'list.svg', 'file-medical.svg', 'map-marked-alt.svg', 'truck-monster.svg', 'user-alt.svg', 'phone.svg', 'tint.svg', 'quidditch.svg', 'money-bill-wave-alt.svg', 'caret-left.svg', 'braille.svg', 'file-prescription.svg', 'heartbeat.svg', 'table.svg', 'school.svg', 'spray-can.svg', 'headphones.svg', 'stroopwafel.svg', 'wine-glass-alt.svg', 'times.svg', 'hospital-alt.svg', 'headphones-alt.svg', 'arrows-alt-h.svg', 'prescription-bottle-alt.svg', 'helicopter.svg', 'vials.svg', 'om.svg', 'envelope-open.svg', 'globe-africa.svg', 'upload.svg', 'map-marker.svg', 'info.svg', 'microphone-alt-slash.svg', 'bold.svg', 'file-invoice-dollar.svg', 'star-of-david.svg', 'futbol.svg', 'list-ol.svg', 'frog.svg', 'umbrella-beach.svg', 'torii-gate.svg', 'briefcase-medical.svg', 'smoking-ban.svg', 'store-alt.svg', 'donate.svg', 'chess-knight.svg', 'teeth.svg', 'folder-plus.svg', 'truck.svg', 'laugh.svg', 'tty.svg', 'bone.svg', 'parking.svg', 'calculator.svg', 'vial.svg', 'envelope-open-text.svg', 'caret-square-left.svg', 'swimmer.svg', 'file-pdf.svg', 'bus.svg', 'plus-circle.svg', 'hand-lizard.svg', 'shopping-bag.svg', 'folder-minus.svg', 'user-md.svg', 'tooth.svg', 'eject.svg', 'sort-numeric-up.svg', 'shoe-prints.svg', 'hourglass-end.svg', 'football-ball.svg', 'dolly-flatbed.svg', 'users-cog.svg', 'question-circle.svg', 'train.svg', 'calendar-alt.svg', 'inbox.svg', 'paw.svg', 'fire.svg', 'chart-pie.svg', 'table-tennis.svg', 'subscript.svg', 'font-awesome-logo-full.svg', 'battery-quarter.svg', 'expand-arrows-alt.svg', 'indent.svg', 'video.svg', 'thumbs-up.svg', 'book-reader.svg', 'space-shuttle.svg', 'chess-board.svg', 'wheelchair.svg', 'code.svg', 'pray.svg', 'hdd.svg', 'share.svg', 'registered.svg', 'grin-beam-sweat.svg', 'american-sign-language-interpreting.svg', 'star.svg', 'exchange-alt.svg', 'tired.svg', 'boxes.svg', 'screwdriver.svg', 'comments.svg', 'passport.svg', 'dharmachakra.svg', 'arrows-alt.svg', 'star-half-alt.svg', 'file-excel.svg', 'trophy.svg', 'drafting-compass.svg', 'life-ring.svg', 'grin-beam.svg', 'chalkboard-teacher.svg', 'tree.svg', 'arrow-circle-right.svg', 'grin-wink.svg', 'dollar-sign.svg', 'arrow-circle-up.svg', 'meh-rolling-eyes.svg', 'bomb.svg', 'less-than-equal.svg', 'car-alt.svg', 'bars.svg', 'pen.svg', 'broom.svg', 'circle.svg', 'venus.svg', 'calendar-check.svg', 'unlock-alt.svg', 'kiwi-bird.svg', 'level-down-alt.svg', 'chart-area.svg', 'sad-cry.svg', 'thermometer.svg', 'bowling-ball.svg', 'umbrella.svg', 'vector-square.svg', 'pastafarianism.svg', 'hashtag.svg', 'blender.svg', 'torah.svg', 'outdent.svg', 'crown.svg', 'poo.svg', 'tags.svg', 'cloud.svg', 'gopuram.svg', 'tachometer-alt.svg', 'unlock.svg', 'volume-down.svg', 'coins.svg', 'minus-circle.svg', 'medkit.svg', 'concierge-bell.svg', 'file.svg', 'heart.svg', 'signature.svg', 'shekel-sign.svg', 'pound-sign.svg', 'laugh-wink.svg', 'greater-than.svg', 'apple-alt.svg', 'arrow-up.svg', 'laugh-squint.svg', 'gift.svg', 'piggy-bank.svg', 'meh.svg', 'align-right.svg', 'shuttle-van.svg', 'window-maximize.svg', 'charging-station.svg', 'grin-squint.svg', 'memory.svg', 'copyright.svg', 'dice.svg', 'chevron-right.svg', 'grin-hearts.svg', 'dizzy.svg', 'ruler-horizontal.svg', 'file-contract.svg', 'magnet.svg', 'undo-alt.svg', 'microphone-slash.svg', 'headset.svg', 'thermometer-full.svg', 'hand-point-down.svg', 'allergies.svg', 'image.svg', 'motorcycle.svg', 'hands.svg', 'dove.svg', 'hourglass-half.svg', 'glasses.svg', 'terminal.svg', 'sliders-h.svg', 'grip-horizontal.svg', 'newspaper.svg', 'th-list.svg', 'yin-yang.svg', 'funnel-dollar.svg', 'x-ray.svg', 'search-minus.svg', 'university.svg', 'music.svg', 'save.svg', 'ruler-vertical.svg', 'mail-bulk.svg', 'angle-left.svg', 'closed-captioning.svg', 'universal-access.svg', 'hamsa.svg', 'door-closed.svg', 'golf-ball.svg', 'truck-pickup.svg', 'address-book.svg', 'h-square.svg', 'redo-alt.svg', 'align-left.svg', 'caret-square-down.svg', 'industry.svg', 'cloud-download-alt.svg', 'hourglass-start.svg', 'text-height.svg', 'procedures.svg', 'adjust.svg', 'user-circle.svg', 'award.svg', 'images.svg', 'cannabis.svg', 'bong.svg', 'truck-loading.svg', 'splotch.svg', 'socks.svg', 'hot-tub.svg', 'pen-fancy.svg', 'phone-square.svg', 'play-circle.svg', 'genderless.svg', 'plug.svg', 'surprise.svg', 'pallet.svg', 'swimming-pool.svg', 'pause.svg', 'hand-point-right.svg', 'archway.svg', 'tablets.svg', 'mortar-pestle.svg', 'dice-four.svg', 'chevron-down.svg', 'toggle-on.svg', 'band-aid.svg', 'long-arrow-alt-up.svg', 'store.svg', 'external-link-alt.svg', 'deaf.svg', 'exclamation.svg', 'circle-notch.svg', 'journal-whills.svg', 'file-import.svg', 'comment-slash.svg', 'stopwatch.svg', 'comments-dollar.svg', 'yen-sign.svg', 'sync.svg', 'qrcode.svg', 'user-alt-slash.svg', 'pencil-alt.svg', 'toolbox.svg', 'copy.svg', 'crosshairs.svg', 'hourglass.svg', 'chevron-circle-down.svg', 'brain.svg', 'smile-wink.svg', 'hand-holding-heart.svg', 'clipboard-list.svg', 'cut.svg', 'dice-five.svg', 'i-cursor.svg', 'capsules.svg', 'air-freshener.svg', 'sort-down.svg', 'compass.svg', 'cross.svg', 'caret-down.svg', 'plane-arrival.svg', 'fast-forward.svg', 'skull.svg', 'info-circle.svg', 'peace.svg', 'heading.svg', 'church.svg', 'user-ninja.svg', 'battery-full.svg', 'plane-departure.svg', 'grin-squint-tears.svg', 'arrow-circle-left.svg', 'expand.svg', 'sign-out-alt.svg', 'hospital.svg', 'ship.svg', 'walking.svg', 'wallet.svg', 'vihara.svg', 'folder.svg', 'car-side.svg', 'caret-square-up.svg', 'place-of-worship.svg', 'traffic-light.svg', 'sort.svg', 'arrow-circle-down.svg', 'share-alt.svg', 'fill.svg', 'mars-stroke-h.svg', 'mars-double.svg', 'map-marker-alt.svg', 'venus-mars.svg', 'undo.svg', 'hand-scissors.svg', 'hand-peace.svg', 'credit-card.svg', 'stethoscope.svg', 'burn.svg', 'gamepad.svg', 'user-shield.svg', 'user-plus.svg', 'building.svg', 'drum.svg', 'parachute-box.svg', 'tag.svg', 'keyboard.svg', 'taxi.svg', 'user.svg', 'chess-pawn.svg', 'arrow-left.svg', 'dumbbell.svg', 'fingerprint.svg', 'grin-alt.svg', 'assistive-listening-systems.svg', 'atlas.svg', 'arrow-alt-circle-right.svg', 'text-width.svg', 'square-root-alt.svg', 'th-large.svg', 'arrows-alt-v.svg', 'barcode.svg', 'file-signature.svg', 'sticky-note.svg', 'star-of-life.svg', 'cloud-upload-alt.svg', 'bus-alt.svg', 'thumbs-down.svg', 'user-cog.svg', 'frown.svg', 'certificate.svg', 'sign.svg', 'map-signs.svg', 'underline.svg', 'diagnoses.svg', 'car-battery.svg', 'hand-rock.svg', 'won-sign.svg', 'pills.svg', 'chevron-circle-left.svg', 'money-bill-wave.svg', 'poll-h.svg', 'chevron-left.svg', 'syringe.svg', 'calendar.svg', 'user-secret.svg', 'paperclip.svg', 'lemon.svg', 'gas-pump.svg', 'user-clock.svg', 'list-alt.svg', 'leaf.svg', 'share-alt-square.svg', 'comment-dots.svg', 'stop-circle.svg', 'shopping-cart.svg', 'road.svg', 'cart-arrow-down.svg', 'seedling.svg', 'cookie-bite.svg', 'car-crash.svg', 'dice-two.svg', 'solar-panel.svg', 'volleyball-ball.svg', 'shopping-basket.svg', 'bullseye.svg', 'palette.svg', 'pen-nib.svg', 'file-image.svg', 'backward.svg', 'paper-plane.svg', 'file-upload.svg', 'luggage-cart.svg', 'sign-in-alt.svg', 'wifi.svg', 'user-tie.svg', 'ruler.svg', 'menorah.svg', 'volume-off.svg', 'thermometer-half.svg', 'greater-than-equal.svg', 'redo.svg', 'comment-dollar.svg', 'tasks.svg', 'sign-language.svg', 'window-restore.svg', 'rss-square.svg', 'first-aid.svg', 'angle-double-left.svg', 'city.svg', 'mouse-pointer.svg', 'equals.svg', 'battery-three-quarters.svg', 'file-alt.svg', 'font.svg', 'user-astronaut.svg', 'plus.svg', 'square-full.svg', 'stamp.svg', 'ankh.svg', 'globe.svg', 'rss.svg', 'list-ul.svg', 'clipboard-check.svg', 'user-tag.svg', 'search-plus.svg', 'object-group.svg', 'calendar-times.svg', 'bell.svg', 'wrench.svg', 'angle-double-up.svg', 'layer-group.svg', 'phone-slash.svg', 'fast-backward.svg', 'swatchbook.svg', 'money-check-alt.svg', 'brush.svg', 'user-check.svg', 'haykal.svg', 'lock-open.svg', 'globe-asia.svg', 'power-off.svg', 'chevron-circle-right.svg', 'ambulance.svg', 'utensil-spoon.svg', 'dice-one.svg', 'history.svg', 'comment-alt.svg', 'synagogue.svg', 'smile-beam.svg', 'unlink.svg', 'window-close.svg', 'arrow-down.svg', 'coffee.svg', 'handshake.svg', 'id-card.svg', 'oil-can.svg', 'user-times.svg', 'grin-tongue.svg', 'sad-tear.svg', 'id-card-alt.svg', 'venus-double.svg', 'minus.svg', 'hand-paper.svg', 'map.svg', 'exclamation-circle.svg', 'magic.svg', 'strikethrough.svg', 'file-video.svg', 'align-center.svg', 'suitcase-rolling.svg', 'clone.svg', 'percentage.svg', 'gavel.svg', 'tablet-alt.svg', 'ribbon.svg', 'shower.svg', 'euro-sign.svg', 'check-double.svg', 'chevron-up.svg', 'lira-sign.svg', 'user-minus.svg', 'play.svg', 'receipt.svg', 'glass-martini.svg', 'times-circle.svg', 'audio-description.svg', 'database.svg', 'mars-stroke.svg', 'stop.svg', 'recycle.svg', 'grin-tears.svg', 'long-arrow-alt-right.svg', 'cocktail.svg', 'percent.svg', 'question.svg', 'prescription.svg', 'people-carry.svg', 'clock.svg', 'binoculars.svg', 'draw-polygon.svg', 'language.svg', 'door-open.svg', 'columns.svg', 'user-lock.svg', 'chevron-circle-up.svg', 'film.svg', 'highlighter.svg', 'arrow-alt-circle-down.svg', 'project-diagram.svg', 'quote-right.svg', 'share-square.svg', 'prescription-bottle.svg', 'teeth-open.svg', 'crop-alt.svg', 'praying-hands.svg', 'cookie.svg', 'key.svg', 'paint-brush.svg', 'poop.svg', 'jedi.svg', 'battery-empty.svg', 'monument.svg', 'moon.svg', 'compress.svg', 'chess-queen.svg', 'basketball-ball.svg', 'car.svg', 'female.svg', 'hand-spock.svg', 'business-time.svg', 'step-backward.svg', 'file-download.svg', 'quran.svg', 'sort-up.svg', 'smoking.svg', 'cart-plus.svg', 'id-badge.svg', 'box-open.svg', 'pen-square.svg', 'chess-king.svg', 'calendar-minus.svg', 'asterisk.svg', 'at.svg', 'child.svg', 'cubes.svg', 'users.svg', 'angle-double-right.svg', 'mars.svg', 'home.svg', 'beer.svg', 'chess-bishop.svg', 'bolt.svg', 'bell-slash.svg', 'dice-three.svg', 'long-arrow-alt-down.svg', 'subway.svg', 'dot-circle.svg', 'hand-point-left.svg', 'caret-up.svg', 'chess.svg', 'cog.svg', 'shapes.svg', 'plane.svg', 'money-check.svg', 'chalkboard.svg', 'crow.svg', 'calendar-plus.svg', 'tint-slash.svg', 'file-code.svg', 'print.svg', 'sort-numeric-down.svg', 'user-graduate.svg', 'arrow-alt-circle-up.svg', 'suitcase.svg', 'smile.svg', 'spa.svg', 'frown-open.svg', 'random.svg', 'search.svg', 'file-export.svg', 'square.svg', 'joint.svg', 'caret-square-right.svg', 'flag-checkered.svg', 'grimace.svg', 'step-forward.svg', 'sync-alt.svg', 'chart-line.svg', 'landmark.svg', 'route.svg', 'battery-half.svg', 'window-minimize.svg', 'glass-martini-alt.svg', 'less-than.svg', 'medal.svg', 'sitemap.svg', 'microscope.svg', 'atom.svg', 'video-slash.svg', 'server.svg', 'signal.svg', 'caret-right.svg', 'baseball-ball.svg', 'check-circle.svg', 'digital-tachograph.svg', 'ticket-alt.svg', 'briefcase.svg', 'theater-masks.svg', 'box.svg', 'angle-double-down.svg', 'crop.svg', 'infinity.svg', 'map-pin.svg', 'grin-tongue-wink.svg', 'grin-stars.svg', 'dice-six.svg', 'money-bill-alt.svg', 'fax.svg', 'thermometer-quarter.svg', 'utensils.svg', 'map-marked.svg', 'robot.svg', 'bezier-curve.svg', 'ad.svg', 'book-open.svg', 'backspace.svg', 'file-audio.svg', 'pen-alt.svg', 'superscript.svg', 'paragraph.svg', 'bug.svg', 'kiss-beam.svg', 'th.svg', 'camera.svg', 'flushed.svg', 'kaaba.svg', 'angle-down.svg', 'ellipsis-v.svg', 'ruble-sign.svg', 'object-ungroup.svg', 'minus-square.svg', 'level-up-alt.svg', 'feather-alt.svg', 'laptop.svg', 'anchor.svg', 'check.svg', 'portrait.svg', 'trash.svg', 'pencil-ruler.svg', 'shipping-fast.svg', 'microchip.svg', 'hand-pointer.svg', 'spinner.svg', 'book.svg', 'file-powerpoint.svg', 'thermometer-empty.svg', 'snowflake.svg', 'kiss-wink-heart.svg', 'clipboard.svg', 'edit.svg', 'volume-up.svg', 'street-view.svg', 'user-friends.svg', 'folder-open.svg', 'address-card.svg', 'transgender-alt.svg', 'bicycle.svg', 'puzzle-piece.svg', 'grin.svg', 'chess-rook.svg', 'phone-volume.svg', 'filter.svg', 'mobile.svg', 'trademark.svg', 'envelope-square.svg', 'ellipsis-h.svg', 'not-equal.svg', 'rupee-sign.svg', 'file-word.svg', 'trash-alt.svg', 'bullhorn.svg', 'mars-stroke-v.svg', 'sort-alpha-up.svg', 'toggle-off.svg', 'angry.svg', 'truck-moving.svg', 'archive.svg', 'shield-alt.svg', 'sun.svg', 'khanda.svg', 'bath.svg', 'wine-glass.svg', 'warehouse.svg', 'poll.svg', 'blind.svg', 'search-location.svg', 'neuter.svg', 'reply.svg', 'star-half.svg', 'reply-all.svg', 'dolly.svg', 'male.svg', 'notes-medical.svg', 'dna.svg', 'globe-americas.svg', 'transgender.svg', 'eraser.svg', 'grin-tongue-squint.svg', 'location-arrow.svg', 'download.svg', 'arrow-right.svg', 'tv.svg', 'exclamation-triangle.svg', 'user-slash.svg', 'sort-amount-up.svg', 'angle-up.svg', 'eye-dropper.svg', 'lightbulb.svg', 'fighter-jet.svg', 'file-medical-alt.svg', 'tape.svg', 'cube.svg', 'weight-hanging.svg', 'hands-helping.svg', 'balance-scale.svg', 'external-link-square-alt.svg', 'align-justify.svg', 'paint-roller.svg', 'meh-blank.svg', 'eye-slash.svg', 'thermometer-three-quarters.svg', 'sort-amount-down.svg', 'search-dollar.svg', 'mercury.svg', 'user-edit.svg', 'bookmark.svg', 'code-branch.svg', 'hockey-puck.svg', 'mobile-alt.svg', 'bible.svg', 'money-bill.svg', 'feather.svg', 'lock.svg', 'broadcast-tower.svg', 'comment.svg', 'fish.svg', 'camera-retro.svg', 'hospital-symbol.svg', 'hand-holding-usd.svg', 'hand-holding.svg', 'couch.svg', 'thumbtack.svg', 'check-square.svg', 'file-archive.svg', 'eye.svg', 'tablet.svg', 'divide.svg', 'kiss.svg', 'flag.svg', 'forward.svg', 'compact-disc.svg', 'microphone-alt.svg', 'flask.svg', 'directions.svg', 'gem.svg']\n",
      "/home/talantyr/Documentos/Projetos/Akira/Old Akira/vendor/fontawesome-free/scss\n",
      "[]\n",
      "['v4-shims.scss', '_larger.scss', '_core.scss', 'brands.scss', '_variables.scss', '_stacked.scss', '_bordered-pulled.scss', 'solid.scss', '_screen-reader.scss', '_rotated-flipped.scss', '_list.scss', 'fontawesome.scss', '_icons.scss', '_animated.scss', '_shims.scss', '_mixins.scss', 'regular.scss', '_fixed-width.scss']\n",
      "/home/talantyr/Documentos/Projetos/Akira/Old Akira/vendor/simple-line-icons\n",
      "['less', 'fonts', 'css', 'scss']\n",
      "[]\n",
      "/home/talantyr/Documentos/Projetos/Akira/Old Akira/vendor/simple-line-icons/less\n",
      "[]\n",
      "['simple-line-icons.less']\n",
      "/home/talantyr/Documentos/Projetos/Akira/Old Akira/vendor/simple-line-icons/fonts\n",
      "[]\n",
      "['Simple-Line-Icons.ttf', 'Simple-Line-Icons.eot', 'Simple-Line-Icons.svg', 'Simple-Line-Icons.woff', 'Simple-Line-Icons.woff2']\n",
      "/home/talantyr/Documentos/Projetos/Akira/Old Akira/vendor/simple-line-icons/css\n",
      "[]\n",
      "['simple-line-icons.css']\n",
      "/home/talantyr/Documentos/Projetos/Akira/Old Akira/vendor/simple-line-icons/scss\n",
      "[]\n",
      "['simple-line-icons.scss']\n",
      "/home/talantyr/Documentos/Projetos/Akira/Old Akira/vendor/bootstrap\n",
      "['js', 'css']\n",
      "[]\n",
      "/home/talantyr/Documentos/Projetos/Akira/Old Akira/vendor/bootstrap/js\n",
      "[]\n",
      "['bootstrap.min.js', 'bootstrap.bundle.js.map', 'bootstrap.js', 'bootstrap.js.map', 'bootstrap.bundle.min.js', 'bootstrap.bundle.js', 'bootstrap.bundle.min.js.map', 'bootstrap.min.js.map']\n",
      "/home/talantyr/Documentos/Projetos/Akira/Old Akira/vendor/bootstrap/css\n",
      "[]\n",
      "['bootstrap.css', 'bootstrap-reboot.min.css', 'bootstrap-grid.min.css', 'bootstrap-reboot.css', 'bootstrap.css.map', 'bootstrap.min.css.map', 'bootstrap-grid.css', 'bootstrap.min.css']\n",
      "/home/talantyr/Documentos/Projetos/Akira/Old Akira/scss\n",
      "[]\n",
      "['_footer.scss', '_bootstrap-overrides.scss', '_masthead.scss', '_portfolio.scss', '_variables.scss', '_global.scss', '_sidebar.scss', 'stylish-portfolio.scss', '_services.scss', '_callout.scss', '_mixins.scss']\n",
      "/home/talantyr/Documentos/Projetos/Akira/Web Site\n",
      "['python', 'js', 'css', 'binários', 'img', 'vendor', 'scss']\n",
      "['index.html', 'projetos.html']\n",
      "/home/talantyr/Documentos/Projetos/Akira/Web Site/python\n",
      "[]\n",
      "['index.html', 'primeiro.html']\n",
      "/home/talantyr/Documentos/Projetos/Akira/Web Site/js\n",
      "[]\n",
      "['stylish-portfolio.min.js', 'prism.js', 'stylish-portfolio.js']\n",
      "/home/talantyr/Documentos/Projetos/Akira/Web Site/css\n",
      "[]\n",
      "['style.css', 'prism.css', 'stylish-portfolio.css', 'stylish-portfolio.min.css']\n",
      "/home/talantyr/Documentos/Projetos/Akira/Web Site/binários\n",
      "[]\n",
      "['index.html', 'primeiro.html']\n",
      "/home/talantyr/Documentos/Projetos/Akira/Web Site/img\n",
      "[]\n",
      "['portfolio-3.jpg', 'portfolio-1.jpg', 'bg-masthead.jpg', 'akira.jpeg', 'portfolio-2.jpg', 'bg-callout.jpg', '1.jpg', 'portfolio-4.jpg', 'capa.jpg']\n",
      "/home/talantyr/Documentos/Projetos/Akira/Web Site/vendor\n",
      "['jquery', 'jquery-easing', 'fontawesome-free', 'simple-line-icons', 'bootstrap']\n",
      "[]\n",
      "/home/talantyr/Documentos/Projetos/Akira/Web Site/vendor/jquery\n",
      "[]\n",
      "['jquery.slim.min.js', 'jquery.slim.js', 'jquery.js', 'jquery.min.js', 'jquery.min.map', 'jquery.slim.min.map']\n",
      "/home/talantyr/Documentos/Projetos/Akira/Web Site/vendor/jquery-easing\n",
      "[]\n",
      "['jquery.easing.compatibility.js', 'jquery.easing.js', 'jquery.easing.min.js']\n",
      "/home/talantyr/Documentos/Projetos/Akira/Web Site/vendor/fontawesome-free\n",
      "['less', 'js', 'webfonts', 'css', 'sprites', 'svgs', 'scss']\n",
      "['README.md', 'LICENSE.txt', 'package.json']\n",
      "/home/talantyr/Documentos/Projetos/Akira/Web Site/vendor/fontawesome-free/less\n",
      "[]\n",
      "['_animated.less', 'v4-shims.less', 'solid.less', 'regular.less', 'fontawesome.less', '_rotated-flipped.less', '_bordered-pulled.less', '_core.less', '_fixed-width.less', '_icons.less', '_stacked.less', '_mixins.less', 'brands.less', '_variables.less', '_screen-reader.less', '_shims.less', '_larger.less', '_list.less']\n"
     ]
    },
    {
     "name": "stdout",
     "output_type": "stream",
     "text": [
      "/home/talantyr/Documentos/Projetos/Akira/Web Site/vendor/fontawesome-free/js\n",
      "[]\n",
      "['solid.min.js', 'v4-shims.min.js', 'solid.js', 'all.js', 'all.min.js', 'fontawesome.js', 'v4-shims.js', 'brands.min.js', 'brands.js', 'regular.js', 'regular.min.js', 'fontawesome.min.js']\n",
      "/home/talantyr/Documentos/Projetos/Akira/Web Site/vendor/fontawesome-free/webfonts\n",
      "[]\n",
      "['fa-regular-400.woff', 'fa-brands-400.woff2', 'fa-regular-400.woff2', 'fa-solid-900.woff2', 'fa-brands-400.ttf', 'fa-regular-400.ttf', 'fa-solid-900.eot', 'fa-regular-400.svg', 'fa-solid-900.woff', 'fa-brands-400.woff', 'fa-solid-900.ttf', 'fa-brands-400.svg', 'fa-solid-900.svg', 'fa-regular-400.eot', 'fa-brands-400.eot']\n",
      "/home/talantyr/Documentos/Projetos/Akira/Web Site/vendor/fontawesome-free/css\n",
      "[]\n",
      "['fontawesome.min.css', 'svg-with-js.min.css', 'regular.min.css', 'brands.min.css', 'regular.css', 'v4-shims.min.css', 'all.css', 'fontawesome.css', 'brands.css', 'all.min.css', 'solid.css', 'solid.min.css', 'v4-shims.css', 'svg-with-js.css']\n",
      "/home/talantyr/Documentos/Projetos/Akira/Web Site/vendor/fontawesome-free/sprites\n",
      "[]\n",
      "['regular.svg', 'solid.svg', 'brands.svg']\n",
      "/home/talantyr/Documentos/Projetos/Akira/Web Site/vendor/fontawesome-free/svgs\n",
      "['brands', 'regular', 'solid']\n",
      "[]\n",
      "/home/talantyr/Documentos/Projetos/Akira/Web Site/vendor/fontawesome-free/svgs/brands\n",
      "[]\n",
      "['researchgate.svg', 'gratipay.svg', 'skyatlas.svg', 'linode.svg', 'less.svg', 'cc-stripe.svg', 'old-republic.svg', 'patreon.svg', 'accusoft.svg', 'yandex.svg', 'wix.svg', 'google-plus-square.svg', 'glide-g.svg', 'ebay.svg', 'the-red-yeti.svg', 'opencart.svg', 'phoenix-framework.svg', 'bitbucket.svg', 'facebook-messenger.svg', 'dashcube.svg', 'amazon-pay.svg', 'pinterest-p.svg', 'mix.svg', 'teamspeak.svg', 'glide.svg', 'vine.svg', 'angular.svg', 'servicestack.svg', 'nimblr.svg', 'creative-commons-remix.svg', 'simplybuilt.svg', 'creative-commons-pd.svg', 'weibo.svg', 'product-hunt.svg', 'autoprefixer.svg', 'etsy.svg', 'superpowers.svg', 'cc-amazon-pay.svg', 'windows.svg', 'node-js.svg', 'creative-commons-nc.svg', 'medrt.svg', 'cc-paypal.svg', 'deskpro.svg', 'reddit.svg', 'jedi-order.svg', 'react.svg', 'foursquare.svg', 'cc-apple-pay.svg', 'pied-piper.svg', 'dochub.svg', 'nintendo-switch.svg', 'wikipedia-w.svg', 'fort-awesome.svg', 'buysellads.svg', 'apple-pay.svg', 'kickstarter.svg', 'amilia.svg', 'vimeo.svg', 'google.svg', 'dribbble.svg', 'usb.svg', 'stripe.svg', 'creative-commons-by.svg', 'slideshare.svg', 'squarespace.svg', 'sellcast.svg', 'korvue.svg', 'bandcamp.svg', 'dribbble-square.svg', 'git-square.svg', 'font-awesome-logo-full.svg', 'quinscape.svg', 'houzz.svg', 'kaggle.svg', 'microsoft.svg', 'dyalog.svg', 'css3-alt.svg', 'renren.svg', 'uikit.svg', 'css3.svg', 'studiovinari.svg', 'itunes.svg', 'linkedin.svg', 'themeisle.svg', 'fonticons-fi.svg', 'cc-mastercard.svg', 'avianex.svg', 'buromobelexperte.svg', 'snapchat-square.svg', 'pied-piper-alt.svg', 'periscope.svg', 'palfed.svg', 'aws.svg', 'hornbill.svg', 'contao.svg', 'cloudsmith.svg', 'firefox.svg', 'ello.svg', 'creative-commons-sa.svg', 'facebook-square.svg', 'deviantart.svg', 'connectdevelop.svg', 'replyd.svg', 'app-store-ios.svg', 'shopware.svg', 'creative-commons-nc-jp.svg', 'algolia.svg', 'strava.svg', 'gitkraken.svg', 'facebook.svg', 'html5.svg', 'vk.svg', 'empire.svg', 'hubspot.svg', 'skype.svg', 'spotify.svg', 'weebly.svg', 'yelp.svg', 'forumbee.svg', 'speakap.svg', 'google-play.svg', 'cloudversify.svg', 'keycdn.svg', 'behance.svg', 'ethereum.svg', 'creative-commons-nd.svg', 'deploydog.svg', 'galactic-republic.svg', 'free-code-camp.svg', 'rendact.svg', 'discord.svg', 'viadeo.svg', 'creative-commons-nc-eu.svg', 'lyft.svg', 'cuttlefish.svg', 'blackberry.svg', 'bluetooth-b.svg', 'qq.svg', 'wolf-pack-battalion.svg', 'php.svg', 'yahoo.svg', 'steam-symbol.svg', 'viacoin.svg', 'viber.svg', 'themeco.svg', 'red-river.svg', 'cc-discover.svg', 'reddit-square.svg', 'jenkins.svg', 'hire-a-helper.svg', 'sith.svg', 'tumblr.svg', 'fly.svg', 'centercode.svg', 'quora.svg', 'megaport.svg', 'github-alt.svg', 'google-wallet.svg', 'sellsy.svg', 'uniregistry.svg', 'ravelry.svg', 'first-order-alt.svg', 'npm.svg', 'accessible-icon.svg', 'sistrix.svg', 'lastfm-square.svg', 'telegram-plane.svg', 'cc-visa.svg', 'snapchat-ghost.svg', 'font-awesome-alt.svg', 'earlybirds.svg', 'behance-square.svg', 'google-drive.svg', 'gg-circle.svg', 'creative-commons-pd-alt.svg', 'gitter.svg', 'codiepie.svg', 'affiliatetheme.svg', 'joget.svg', 'odnoklassniki.svg', 'rev.svg', 'staylinked.svg', 'internet-explorer.svg', 'ember.svg', 'leanpub.svg', 'mizuni.svg', 'apple.svg', 'stumbleupon-circle.svg', 'snapchat.svg', 'resolving.svg', 'alipay.svg', 'joomla.svg', 'gripfire.svg', '500px.svg', 'hacker-news.svg', 'medium.svg', 'y-combinator.svg', 'wordpress-simple.svg', 'hacker-news-square.svg', 'asymmetrik.svg', 'ussunnah.svg', 'cloudscale.svg', 'goodreads.svg', 'wpexplorer.svg', 'mastodon.svg', 'supple.svg', 'paypal.svg', 'creative-commons.svg', 'pinterest.svg', 'adn.svg', 'line.svg', 'tumblr-square.svg', 'whatsapp-square.svg', 'stripe-s.svg', 'node.svg', 'facebook-f.svg', 'github-square.svg', 'audible.svg', 'gg.svg', 'lastfm.svg', 'adversal.svg', 'cpanel.svg', 'uber.svg', 'stack-overflow.svg', 'grunt.svg', 'angrycreative.svg', 'telegram.svg', 'js.svg', 'reddit-alien.svg', 'discourse.svg', 'elementor.svg', 'trello.svg', 'google-plus.svg', 'bluetooth.svg', 'vuejs.svg', 'mixcloud.svg', 'wpforms.svg', 'android.svg', 'hackerrank.svg', 'js-square.svg', 'drupal.svg', 'first-order.svg', 'hotjar.svg', 'pushed.svg', 'whmcs.svg', 'linkedin-in.svg', 'font-awesome-flag.svg', 'pinterest-square.svg', 'digg.svg', 'rebel.svg', 'pied-piper-hat.svg', 'galactic-senate.svg', 'blogger-b.svg', 'git.svg', 'readme.svg', 'yandex-international.svg', 'fonticons.svg', 'schlix.svg', 'erlang.svg', 'keybase.svg', 'angellist.svg', 'xing.svg', 'linux.svg', 'medium-m.svg', 'gitlab.svg', 'scribd.svg', 'python.svg', 'flickr.svg', 'mailchimp.svg', 'digital-ocean.svg', 'freebsd.svg', 'opera.svg', 'cc-diners-club.svg', 'apper.svg', 'pagelines.svg', 'gofore.svg', 'xing-square.svg', 'twitter-square.svg', 'yoast.svg', 'typo3.svg', 'modx.svg', 'flipboard.svg', 'edge.svg', 'hips.svg', 'wordpress.svg', 'pied-piper-pp.svg', 'fort-awesome-alt.svg', 'sticker-mule.svg', 'twitch.svg', 'expeditedssl.svg', 'stack-exchange.svg', 'trade-federation.svg', 'itunes-note.svg', 'slack.svg', 'vaadin.svg', 'jsfiddle.svg', 'envira.svg', 'page4.svg', 'shirtsinbulk.svg', 'vnv.svg', 'youtube-square.svg', 'r-project.svg', 'rocketchat.svg', 'kickstarter-k.svg', 'vimeo-v.svg', 'get-pocket.svg', 'zhihu.svg', 'font-awesome.svg', 'gulp.svg', 'whatsapp.svg', 'amazon.svg', 'markdown.svg', 'ioxhost.svg', 'soundcloud.svg', 'laravel.svg', 'bity.svg', 'wpbeginner.svg', 'ns8.svg', 'google-plus-g.svg', 'aviato.svg', 'monero.svg', 'cc-jcb.svg', 'magento.svg', 'napster.svg', 'sass.svg', 'nutritionix.svg', 'safari.svg', 'firstdraft.svg', 'cc-amex.svg', 'xbox.svg', 'docker.svg', 'weixin.svg', 'odnoklassniki-square.svg', 'dropbox.svg', 'd-and-d.svg', 'creative-commons-sampling-plus.svg', 'twitter.svg', 'blogger.svg', 'creative-commons-sampling.svg', 'bimobject.svg', 'mandalorian.svg', 'phabricator.svg', 'searchengin.svg', 'neos.svg', 'tripadvisor.svg', 'btc.svg', 'steam.svg', 'instagram.svg', 'stumbleupon.svg', 'meetup.svg', 'delicious.svg', 'java.svg', 'grav.svg', 'youtube.svg', 'fulcrum.svg', 'draft2digital.svg', 'slack-hash.svg', 'hooli.svg', 'chrome.svg', 'black-tie.svg', 'app-store.svg', 'medapps.svg', 'creative-commons-share.svg', 'imdb.svg', 'phoenix-squadron.svg', 'codepen.svg', 'untappd.svg', 'goodreads-g.svg', 'vimeo-square.svg', 'tencent-weibo.svg', 'osi.svg', 'optin-monster.svg', 'rockrms.svg', 'viadeo-square.svg', 'github.svg', 'playstation.svg', 'steam-square.svg', 'bitcoin.svg', 'openid.svg', 'maxcdn.svg']\n",
      "/home/talantyr/Documentos/Projetos/Akira/Web Site/vendor/fontawesome-free/svgs/regular\n",
      "[]\n",
      "['envelope.svg', 'chart-bar.svg', 'arrow-alt-circle-left.svg', 'pause-circle.svg', 'hand-point-up.svg', 'plus-square.svg', 'laugh-beam.svg', 'envelope-open.svg', 'futbol.svg', 'laugh.svg', 'caret-square-left.svg', 'file-pdf.svg', 'hand-lizard.svg', 'question-circle.svg', 'calendar-alt.svg', 'font-awesome-logo-full.svg', 'thumbs-up.svg', 'hdd.svg', 'registered.svg', 'grin-beam-sweat.svg', 'star.svg', 'tired.svg', 'comments.svg', 'file-excel.svg', 'life-ring.svg', 'grin-beam.svg', 'grin-wink.svg', 'meh-rolling-eyes.svg', 'circle.svg', 'calendar-check.svg', 'sad-cry.svg', 'file.svg', 'heart.svg', 'laugh-wink.svg', 'laugh-squint.svg', 'meh.svg', 'window-maximize.svg', 'grin-squint.svg', 'copyright.svg', 'grin-hearts.svg', 'dizzy.svg', 'hand-point-down.svg', 'image.svg', 'newspaper.svg', 'save.svg', 'closed-captioning.svg', 'address-book.svg', 'caret-square-down.svg', 'user-circle.svg', 'images.svg', 'play-circle.svg', 'surprise.svg', 'hand-point-right.svg', 'copy.svg', 'hourglass.svg', 'smile-wink.svg', 'compass.svg', 'grin-squint-tears.svg', 'hospital.svg', 'folder.svg', 'caret-square-up.svg', 'hand-scissors.svg', 'hand-peace.svg', 'credit-card.svg', 'building.svg', 'keyboard.svg', 'user.svg', 'grin-alt.svg', 'arrow-alt-circle-right.svg', 'sticky-note.svg', 'thumbs-down.svg', 'frown.svg', 'hand-rock.svg', 'calendar.svg', 'lemon.svg', 'list-alt.svg', 'comment-dots.svg', 'stop-circle.svg', 'file-image.svg', 'paper-plane.svg', 'window-restore.svg', 'file-alt.svg', 'object-group.svg', 'calendar-times.svg', 'bell.svg', 'comment-alt.svg', 'smile-beam.svg', 'window-close.svg', 'handshake.svg', 'id-card.svg', 'grin-tongue.svg', 'sad-tear.svg', 'hand-paper.svg', 'map.svg', 'file-video.svg', 'clone.svg', 'times-circle.svg', 'grin-tears.svg', 'clock.svg', 'arrow-alt-circle-down.svg', 'share-square.svg', 'moon.svg', 'hand-spock.svg', 'id-badge.svg', 'calendar-minus.svg', 'bell-slash.svg', 'dot-circle.svg', 'hand-point-left.svg', 'calendar-plus.svg', 'file-code.svg', 'arrow-alt-circle-up.svg', 'smile.svg', 'frown-open.svg', 'square.svg', 'caret-square-right.svg', 'grimace.svg', 'window-minimize.svg', 'check-circle.svg', 'grin-tongue-wink.svg', 'grin-stars.svg', 'money-bill-alt.svg', 'file-audio.svg', 'kiss-beam.svg', 'flushed.svg', 'object-ungroup.svg', 'minus-square.svg', 'hand-pointer.svg', 'file-powerpoint.svg', 'snowflake.svg', 'kiss-wink-heart.svg', 'clipboard.svg', 'edit.svg', 'folder-open.svg', 'address-card.svg', 'grin.svg', 'file-word.svg', 'trash-alt.svg', 'angry.svg', 'sun.svg', 'star-half.svg', 'grin-tongue-squint.svg', 'lightbulb.svg', 'meh-blank.svg', 'eye-slash.svg', 'bookmark.svg', 'comment.svg', 'check-square.svg', 'file-archive.svg', 'eye.svg', 'kiss.svg', 'flag.svg', 'gem.svg']\n",
      "/home/talantyr/Documentos/Projetos/Akira/Web Site/vendor/fontawesome-free/svgs/solid\n",
      "[]\n",
      "['microphone.svg', 'ruler-combined.svg', 'envelope.svg', 'chart-bar.svg', 'file-invoice.svg', 'angle-right.svg', 'tshirt.svg', 'ban.svg', 'fire-extinguisher.svg', 'grip-vertical.svg', 'retweet.svg', 'stream.svg', 'star-and-crescent.svg', 'marker.svg', 'paste.svg', 'low-vision.svg', 'arrow-alt-circle-left.svg', 'fill-drip.svg', 'pause-circle.svg', 'weight.svg', 'hand-point-up.svg', 'podcast.svg', 'mosque.svg', 'cogs.svg', 'sort-alpha-down.svg', 'rocket.svg', 'plus-square.svg', 'hotel.svg', 'link.svg', 'quote-left.svg', 'desktop.svg', 'birthday-cake.svg', 'italic.svg', 'graduation-cap.svg', 'long-arrow-alt-left.svg', 'bed.svg', 'laugh-beam.svg', 'drum-steelpan.svg', 'laptop-code.svg', 'list.svg', 'file-medical.svg', 'map-marked-alt.svg', 'truck-monster.svg', 'user-alt.svg', 'phone.svg', 'tint.svg', 'quidditch.svg', 'money-bill-wave-alt.svg', 'caret-left.svg', 'braille.svg', 'file-prescription.svg', 'heartbeat.svg', 'table.svg', 'school.svg', 'spray-can.svg', 'headphones.svg', 'stroopwafel.svg', 'wine-glass-alt.svg', 'times.svg', 'hospital-alt.svg', 'headphones-alt.svg', 'arrows-alt-h.svg', 'prescription-bottle-alt.svg', 'helicopter.svg', 'vials.svg', 'om.svg', 'envelope-open.svg', 'globe-africa.svg', 'upload.svg', 'map-marker.svg', 'info.svg', 'microphone-alt-slash.svg', 'bold.svg', 'file-invoice-dollar.svg', 'star-of-david.svg', 'futbol.svg', 'list-ol.svg', 'frog.svg', 'umbrella-beach.svg', 'torii-gate.svg', 'briefcase-medical.svg', 'smoking-ban.svg', 'store-alt.svg', 'donate.svg', 'chess-knight.svg', 'teeth.svg', 'folder-plus.svg', 'truck.svg', 'laugh.svg', 'tty.svg', 'bone.svg', 'parking.svg', 'calculator.svg', 'vial.svg', 'envelope-open-text.svg', 'caret-square-left.svg', 'swimmer.svg', 'file-pdf.svg', 'bus.svg', 'plus-circle.svg', 'hand-lizard.svg', 'shopping-bag.svg', 'folder-minus.svg', 'user-md.svg', 'tooth.svg', 'eject.svg', 'sort-numeric-up.svg', 'shoe-prints.svg', 'hourglass-end.svg', 'football-ball.svg', 'dolly-flatbed.svg', 'users-cog.svg', 'question-circle.svg', 'train.svg', 'calendar-alt.svg', 'inbox.svg', 'paw.svg', 'fire.svg', 'chart-pie.svg', 'table-tennis.svg', 'subscript.svg', 'font-awesome-logo-full.svg', 'battery-quarter.svg', 'expand-arrows-alt.svg', 'indent.svg', 'video.svg', 'thumbs-up.svg', 'book-reader.svg', 'space-shuttle.svg', 'chess-board.svg', 'wheelchair.svg', 'code.svg', 'pray.svg', 'hdd.svg', 'share.svg', 'registered.svg', 'grin-beam-sweat.svg', 'american-sign-language-interpreting.svg', 'star.svg', 'exchange-alt.svg', 'tired.svg', 'boxes.svg', 'screwdriver.svg', 'comments.svg', 'passport.svg', 'dharmachakra.svg', 'arrows-alt.svg', 'star-half-alt.svg', 'file-excel.svg', 'trophy.svg', 'drafting-compass.svg', 'life-ring.svg', 'grin-beam.svg', 'chalkboard-teacher.svg', 'tree.svg', 'arrow-circle-right.svg', 'grin-wink.svg', 'dollar-sign.svg', 'arrow-circle-up.svg', 'meh-rolling-eyes.svg', 'bomb.svg', 'less-than-equal.svg', 'car-alt.svg', 'bars.svg', 'pen.svg', 'broom.svg', 'circle.svg', 'venus.svg', 'calendar-check.svg', 'unlock-alt.svg', 'kiwi-bird.svg', 'level-down-alt.svg', 'chart-area.svg', 'sad-cry.svg', 'thermometer.svg', 'bowling-ball.svg', 'umbrella.svg', 'vector-square.svg', 'pastafarianism.svg', 'hashtag.svg', 'blender.svg', 'torah.svg', 'outdent.svg', 'crown.svg', 'poo.svg', 'tags.svg', 'cloud.svg', 'gopuram.svg', 'tachometer-alt.svg', 'unlock.svg', 'volume-down.svg', 'coins.svg', 'minus-circle.svg', 'medkit.svg', 'concierge-bell.svg', 'file.svg', 'heart.svg', 'signature.svg', 'shekel-sign.svg', 'pound-sign.svg', 'laugh-wink.svg', 'greater-than.svg', 'apple-alt.svg', 'arrow-up.svg', 'laugh-squint.svg', 'gift.svg', 'piggy-bank.svg', 'meh.svg', 'align-right.svg', 'shuttle-van.svg', 'window-maximize.svg', 'charging-station.svg', 'grin-squint.svg', 'memory.svg', 'copyright.svg', 'dice.svg', 'chevron-right.svg', 'grin-hearts.svg', 'dizzy.svg', 'ruler-horizontal.svg', 'file-contract.svg', 'magnet.svg', 'undo-alt.svg', 'microphone-slash.svg', 'headset.svg', 'thermometer-full.svg', 'hand-point-down.svg', 'allergies.svg', 'image.svg', 'motorcycle.svg', 'hands.svg', 'dove.svg', 'hourglass-half.svg', 'glasses.svg', 'terminal.svg', 'sliders-h.svg', 'grip-horizontal.svg', 'newspaper.svg', 'th-list.svg', 'yin-yang.svg', 'funnel-dollar.svg', 'x-ray.svg', 'search-minus.svg', 'university.svg', 'music.svg', 'save.svg', 'ruler-vertical.svg', 'mail-bulk.svg', 'angle-left.svg', 'closed-captioning.svg', 'universal-access.svg', 'hamsa.svg', 'door-closed.svg', 'golf-ball.svg', 'truck-pickup.svg', 'address-book.svg', 'h-square.svg', 'redo-alt.svg', 'align-left.svg', 'caret-square-down.svg', 'industry.svg', 'cloud-download-alt.svg', 'hourglass-start.svg', 'text-height.svg', 'procedures.svg', 'adjust.svg', 'user-circle.svg', 'award.svg', 'images.svg', 'cannabis.svg', 'bong.svg', 'truck-loading.svg', 'splotch.svg', 'socks.svg', 'hot-tub.svg', 'pen-fancy.svg', 'phone-square.svg', 'play-circle.svg', 'genderless.svg', 'plug.svg', 'surprise.svg', 'pallet.svg', 'swimming-pool.svg', 'pause.svg', 'hand-point-right.svg', 'archway.svg', 'tablets.svg', 'mortar-pestle.svg', 'dice-four.svg', 'chevron-down.svg', 'toggle-on.svg', 'band-aid.svg', 'long-arrow-alt-up.svg', 'store.svg', 'external-link-alt.svg', 'deaf.svg', 'exclamation.svg', 'circle-notch.svg', 'journal-whills.svg', 'file-import.svg', 'comment-slash.svg', 'stopwatch.svg', 'comments-dollar.svg', 'yen-sign.svg', 'sync.svg', 'qrcode.svg', 'user-alt-slash.svg', 'pencil-alt.svg', 'toolbox.svg', 'copy.svg', 'crosshairs.svg', 'hourglass.svg', 'chevron-circle-down.svg', 'brain.svg', 'smile-wink.svg', 'hand-holding-heart.svg', 'clipboard-list.svg', 'cut.svg', 'dice-five.svg', 'i-cursor.svg', 'capsules.svg', 'air-freshener.svg', 'sort-down.svg', 'compass.svg', 'cross.svg', 'caret-down.svg', 'plane-arrival.svg', 'fast-forward.svg', 'skull.svg', 'info-circle.svg', 'peace.svg', 'heading.svg', 'church.svg', 'user-ninja.svg', 'battery-full.svg', 'plane-departure.svg', 'grin-squint-tears.svg', 'arrow-circle-left.svg', 'expand.svg', 'sign-out-alt.svg', 'hospital.svg', 'ship.svg', 'walking.svg', 'wallet.svg', 'vihara.svg', 'folder.svg', 'car-side.svg', 'caret-square-up.svg', 'place-of-worship.svg', 'traffic-light.svg', 'sort.svg', 'arrow-circle-down.svg', 'share-alt.svg', 'fill.svg', 'mars-stroke-h.svg', 'mars-double.svg', 'map-marker-alt.svg', 'venus-mars.svg', 'undo.svg', 'hand-scissors.svg', 'hand-peace.svg', 'credit-card.svg', 'stethoscope.svg', 'burn.svg', 'gamepad.svg', 'user-shield.svg', 'user-plus.svg', 'building.svg', 'drum.svg', 'parachute-box.svg', 'tag.svg', 'keyboard.svg', 'taxi.svg', 'user.svg', 'chess-pawn.svg', 'arrow-left.svg', 'dumbbell.svg', 'fingerprint.svg', 'grin-alt.svg', 'assistive-listening-systems.svg', 'atlas.svg', 'arrow-alt-circle-right.svg', 'text-width.svg', 'square-root-alt.svg', 'th-large.svg', 'arrows-alt-v.svg', 'barcode.svg', 'file-signature.svg', 'sticky-note.svg', 'star-of-life.svg', 'cloud-upload-alt.svg', 'bus-alt.svg', 'thumbs-down.svg', 'user-cog.svg', 'frown.svg', 'certificate.svg', 'sign.svg', 'map-signs.svg', 'underline.svg', 'diagnoses.svg', 'car-battery.svg', 'hand-rock.svg', 'won-sign.svg', 'pills.svg', 'chevron-circle-left.svg', 'money-bill-wave.svg', 'poll-h.svg', 'chevron-left.svg', 'syringe.svg', 'calendar.svg', 'user-secret.svg', 'paperclip.svg', 'lemon.svg', 'gas-pump.svg', 'user-clock.svg', 'list-alt.svg', 'leaf.svg', 'share-alt-square.svg', 'comment-dots.svg', 'stop-circle.svg', 'shopping-cart.svg', 'road.svg', 'cart-arrow-down.svg', 'seedling.svg', 'cookie-bite.svg', 'car-crash.svg', 'dice-two.svg', 'solar-panel.svg', 'volleyball-ball.svg', 'shopping-basket.svg', 'bullseye.svg', 'palette.svg', 'pen-nib.svg', 'file-image.svg', 'backward.svg', 'paper-plane.svg', 'file-upload.svg', 'luggage-cart.svg', 'sign-in-alt.svg', 'wifi.svg', 'user-tie.svg', 'ruler.svg', 'menorah.svg', 'volume-off.svg', 'thermometer-half.svg', 'greater-than-equal.svg', 'redo.svg', 'comment-dollar.svg', 'tasks.svg', 'sign-language.svg', 'window-restore.svg', 'rss-square.svg', 'first-aid.svg', 'angle-double-left.svg', 'city.svg', 'mouse-pointer.svg', 'equals.svg', 'battery-three-quarters.svg', 'file-alt.svg', 'font.svg', 'user-astronaut.svg', 'plus.svg', 'square-full.svg', 'stamp.svg', 'ankh.svg', 'globe.svg', 'rss.svg', 'list-ul.svg', 'clipboard-check.svg', 'user-tag.svg', 'search-plus.svg', 'object-group.svg', 'calendar-times.svg', 'bell.svg', 'wrench.svg', 'angle-double-up.svg', 'layer-group.svg', 'phone-slash.svg', 'fast-backward.svg', 'swatchbook.svg', 'money-check-alt.svg', 'brush.svg', 'user-check.svg', 'haykal.svg', 'lock-open.svg', 'globe-asia.svg', 'power-off.svg', 'chevron-circle-right.svg', 'ambulance.svg', 'utensil-spoon.svg', 'dice-one.svg', 'history.svg', 'comment-alt.svg', 'synagogue.svg', 'smile-beam.svg', 'unlink.svg', 'window-close.svg', 'arrow-down.svg', 'coffee.svg', 'handshake.svg', 'id-card.svg', 'oil-can.svg', 'user-times.svg', 'grin-tongue.svg', 'sad-tear.svg', 'id-card-alt.svg', 'venus-double.svg', 'minus.svg', 'hand-paper.svg', 'map.svg', 'exclamation-circle.svg', 'magic.svg', 'strikethrough.svg', 'file-video.svg', 'align-center.svg', 'suitcase-rolling.svg', 'clone.svg', 'percentage.svg', 'gavel.svg', 'tablet-alt.svg', 'ribbon.svg', 'shower.svg', 'euro-sign.svg', 'check-double.svg', 'chevron-up.svg', 'lira-sign.svg', 'user-minus.svg', 'play.svg', 'receipt.svg', 'glass-martini.svg', 'times-circle.svg', 'audio-description.svg', 'database.svg', 'mars-stroke.svg', 'stop.svg', 'recycle.svg', 'grin-tears.svg', 'long-arrow-alt-right.svg', 'cocktail.svg', 'percent.svg', 'question.svg', 'prescription.svg', 'people-carry.svg', 'clock.svg', 'binoculars.svg', 'draw-polygon.svg', 'language.svg', 'door-open.svg', 'columns.svg', 'user-lock.svg', 'chevron-circle-up.svg', 'film.svg', 'highlighter.svg', 'arrow-alt-circle-down.svg', 'project-diagram.svg', 'quote-right.svg', 'share-square.svg', 'prescription-bottle.svg', 'teeth-open.svg', 'crop-alt.svg', 'praying-hands.svg', 'cookie.svg', 'key.svg', 'paint-brush.svg', 'poop.svg', 'jedi.svg', 'battery-empty.svg', 'monument.svg', 'moon.svg', 'compress.svg', 'chess-queen.svg', 'basketball-ball.svg', 'car.svg', 'female.svg', 'hand-spock.svg', 'business-time.svg', 'step-backward.svg', 'file-download.svg', 'quran.svg', 'sort-up.svg', 'smoking.svg', 'cart-plus.svg', 'id-badge.svg', 'box-open.svg', 'pen-square.svg', 'chess-king.svg', 'calendar-minus.svg', 'asterisk.svg', 'at.svg', 'child.svg', 'cubes.svg', 'users.svg', 'angle-double-right.svg', 'mars.svg', 'home.svg', 'beer.svg', 'chess-bishop.svg', 'bolt.svg', 'bell-slash.svg', 'dice-three.svg', 'long-arrow-alt-down.svg', 'subway.svg', 'dot-circle.svg', 'hand-point-left.svg', 'caret-up.svg', 'chess.svg', 'cog.svg', 'shapes.svg', 'plane.svg', 'money-check.svg', 'chalkboard.svg', 'crow.svg', 'calendar-plus.svg', 'tint-slash.svg', 'file-code.svg', 'print.svg', 'sort-numeric-down.svg', 'user-graduate.svg', 'arrow-alt-circle-up.svg', 'suitcase.svg', 'smile.svg', 'spa.svg', 'frown-open.svg', 'random.svg', 'search.svg', 'file-export.svg', 'square.svg', 'joint.svg', 'caret-square-right.svg', 'flag-checkered.svg', 'grimace.svg', 'step-forward.svg', 'sync-alt.svg', 'chart-line.svg', 'landmark.svg', 'route.svg', 'battery-half.svg', 'window-minimize.svg', 'glass-martini-alt.svg', 'less-than.svg', 'medal.svg', 'sitemap.svg', 'microscope.svg', 'atom.svg', 'video-slash.svg', 'server.svg', 'signal.svg', 'caret-right.svg', 'baseball-ball.svg', 'check-circle.svg', 'digital-tachograph.svg', 'ticket-alt.svg', 'briefcase.svg', 'theater-masks.svg', 'box.svg', 'angle-double-down.svg', 'crop.svg', 'infinity.svg', 'map-pin.svg', 'grin-tongue-wink.svg', 'grin-stars.svg', 'dice-six.svg', 'money-bill-alt.svg', 'fax.svg', 'thermometer-quarter.svg', 'utensils.svg', 'map-marked.svg', 'robot.svg', 'bezier-curve.svg', 'ad.svg', 'book-open.svg', 'backspace.svg', 'file-audio.svg', 'pen-alt.svg', 'superscript.svg', 'paragraph.svg', 'bug.svg', 'kiss-beam.svg', 'th.svg', 'camera.svg', 'flushed.svg', 'kaaba.svg', 'angle-down.svg', 'ellipsis-v.svg', 'ruble-sign.svg', 'object-ungroup.svg', 'minus-square.svg', 'level-up-alt.svg', 'feather-alt.svg', 'laptop.svg', 'anchor.svg', 'check.svg', 'portrait.svg', 'trash.svg', 'pencil-ruler.svg', 'shipping-fast.svg', 'microchip.svg', 'hand-pointer.svg', 'spinner.svg', 'book.svg', 'file-powerpoint.svg', 'thermometer-empty.svg', 'snowflake.svg', 'kiss-wink-heart.svg', 'clipboard.svg', 'edit.svg', 'volume-up.svg', 'street-view.svg', 'user-friends.svg', 'folder-open.svg', 'address-card.svg', 'transgender-alt.svg', 'bicycle.svg', 'puzzle-piece.svg', 'grin.svg', 'chess-rook.svg', 'phone-volume.svg', 'filter.svg', 'mobile.svg', 'trademark.svg', 'envelope-square.svg', 'ellipsis-h.svg', 'not-equal.svg', 'rupee-sign.svg', 'file-word.svg', 'trash-alt.svg', 'bullhorn.svg', 'mars-stroke-v.svg', 'sort-alpha-up.svg', 'toggle-off.svg', 'angry.svg', 'truck-moving.svg', 'archive.svg', 'shield-alt.svg', 'sun.svg', 'khanda.svg', 'bath.svg', 'wine-glass.svg', 'warehouse.svg', 'poll.svg', 'blind.svg', 'search-location.svg', 'neuter.svg', 'reply.svg', 'star-half.svg', 'reply-all.svg', 'dolly.svg', 'male.svg', 'notes-medical.svg', 'dna.svg', 'globe-americas.svg', 'transgender.svg', 'eraser.svg', 'grin-tongue-squint.svg', 'location-arrow.svg', 'download.svg', 'arrow-right.svg', 'tv.svg', 'exclamation-triangle.svg', 'user-slash.svg', 'sort-amount-up.svg', 'angle-up.svg', 'eye-dropper.svg', 'lightbulb.svg', 'fighter-jet.svg', 'file-medical-alt.svg', 'tape.svg', 'cube.svg', 'weight-hanging.svg', 'hands-helping.svg', 'balance-scale.svg', 'external-link-square-alt.svg', 'align-justify.svg', 'paint-roller.svg', 'meh-blank.svg', 'eye-slash.svg', 'thermometer-three-quarters.svg', 'sort-amount-down.svg', 'search-dollar.svg', 'mercury.svg', 'user-edit.svg', 'bookmark.svg', 'code-branch.svg', 'hockey-puck.svg', 'mobile-alt.svg', 'bible.svg', 'money-bill.svg', 'feather.svg', 'lock.svg', 'broadcast-tower.svg', 'comment.svg', 'fish.svg', 'camera-retro.svg', 'hospital-symbol.svg', 'hand-holding-usd.svg', 'hand-holding.svg', 'couch.svg', 'thumbtack.svg', 'check-square.svg', 'file-archive.svg', 'eye.svg', 'tablet.svg', 'divide.svg', 'kiss.svg', 'flag.svg', 'forward.svg', 'compact-disc.svg', 'microphone-alt.svg', 'flask.svg', 'directions.svg', 'gem.svg']\n",
      "/home/talantyr/Documentos/Projetos/Akira/Web Site/vendor/fontawesome-free/scss\n",
      "[]\n",
      "['v4-shims.scss', '_larger.scss', '_core.scss', 'brands.scss', '_variables.scss', '_stacked.scss', '_bordered-pulled.scss', 'solid.scss', '_screen-reader.scss', '_rotated-flipped.scss', '_list.scss', 'fontawesome.scss', '_icons.scss', '_animated.scss', '_shims.scss', '_mixins.scss', 'regular.scss', '_fixed-width.scss']\n",
      "/home/talantyr/Documentos/Projetos/Akira/Web Site/vendor/simple-line-icons\n",
      "['less', 'fonts', 'css', 'scss']\n",
      "[]\n",
      "/home/talantyr/Documentos/Projetos/Akira/Web Site/vendor/simple-line-icons/less\n",
      "[]\n",
      "['simple-line-icons.less']\n",
      "/home/talantyr/Documentos/Projetos/Akira/Web Site/vendor/simple-line-icons/fonts\n",
      "[]\n",
      "['Simple-Line-Icons.ttf', 'Simple-Line-Icons.eot', 'Simple-Line-Icons.svg', 'Simple-Line-Icons.woff', 'Simple-Line-Icons.woff2']\n",
      "/home/talantyr/Documentos/Projetos/Akira/Web Site/vendor/simple-line-icons/css\n",
      "[]\n",
      "['simple-line-icons.css']\n",
      "/home/talantyr/Documentos/Projetos/Akira/Web Site/vendor/simple-line-icons/scss\n",
      "[]\n",
      "['simple-line-icons.scss']\n",
      "/home/talantyr/Documentos/Projetos/Akira/Web Site/vendor/bootstrap\n",
      "['js', 'css']\n",
      "[]\n",
      "/home/talantyr/Documentos/Projetos/Akira/Web Site/vendor/bootstrap/js\n",
      "[]\n",
      "['bootstrap.min.js', 'bootstrap.bundle.js.map', 'bootstrap.js', 'bootstrap.js.map', 'bootstrap.bundle.min.js', 'bootstrap.bundle.js', 'bootstrap.bundle.min.js.map', 'bootstrap.min.js.map']\n",
      "/home/talantyr/Documentos/Projetos/Akira/Web Site/vendor/bootstrap/css\n",
      "[]\n",
      "['bootstrap.css', 'bootstrap-reboot.min.css', 'bootstrap-grid.min.css', 'bootstrap-reboot.css', 'bootstrap.css.map', 'bootstrap.min.css.map', 'bootstrap-grid.css', 'bootstrap.min.css']\n",
      "/home/talantyr/Documentos/Projetos/Akira/Web Site/scss\n",
      "[]\n",
      "['_footer.scss', '_bootstrap-overrides.scss', '_masthead.scss', '_portfolio.scss', '_variables.scss', '_global.scss', '_sidebar.scss', 'stylish-portfolio.scss', '_services.scss', '_callout.scss', '_mixins.scss']\n"
     ]
    }
   ],
   "source": [
    "for dirpath, dirname, filenames in os.walk('/home/talantyr/Documentos/Projetos/'):\n",
    "    print(dirpath)\n",
    "    print(dirname)\n",
    "    print(filenames)"
   ]
  },
  {
   "cell_type": "markdown",
   "metadata": {},
   "source": [
    "Também podemos obter todas as variáveis de ambiente de nosso sistema"
   ]
  },
  {
   "cell_type": "code",
   "execution_count": 17,
   "metadata": {},
   "outputs": [
    {
     "data": {
      "text/plain": [
       "environ{'XDG_VTNR': '7',\n",
       "        'LC_PAPER': 'pt_BR.UTF-8',\n",
       "        'LC_ADDRESS': 'pt_BR.UTF-8',\n",
       "        'XDG_SESSION_ID': 'c2',\n",
       "        'XDG_GREETER_DATA_DIR': '/var/lib/lightdm-data/talantyr',\n",
       "        'LC_MONETARY': 'pt_BR.UTF-8',\n",
       "        'CLUTTER_IM_MODULE': 'xim',\n",
       "        'SESSION': 'ubuntu',\n",
       "        'GEM_HOME': '/home/talantyr/gems',\n",
       "        'GPG_AGENT_INFO': '/home/talantyr/.gnupg/S.gpg-agent:0:1',\n",
       "        'TERM': 'xterm-color',\n",
       "        'VTE_VERSION': '4205',\n",
       "        'XDG_MENU_PREFIX': 'gnome-',\n",
       "        'SHELL': '/bin/bash',\n",
       "        'QT_LINUX_ACCESSIBILITY_ALWAYS_ON': '1',\n",
       "        'WINDOWID': '65011722',\n",
       "        'LC_NUMERIC': 'pt_BR.UTF-8',\n",
       "        'UPSTART_SESSION': 'unix:abstract=/com/ubuntu/upstart-session/1000/1801',\n",
       "        'GNOME_KEYRING_CONTROL': '',\n",
       "        'GTK_MODULES': 'gail:atk-bridge:unity-gtk-module',\n",
       "        'USER': 'talantyr',\n",
       "        'LS_COLORS': 'rs=0:di=01;34:ln=01;36:mh=00:pi=40;33:so=01;35:do=01;35:bd=40;33;01:cd=40;33;01:or=40;31;01:mi=00:su=37;41:sg=30;43:ca=30;41:tw=30;42:ow=34;42:st=37;44:ex=01;32:*.tar=01;31:*.tgz=01;31:*.arc=01;31:*.arj=01;31:*.taz=01;31:*.lha=01;31:*.lz4=01;31:*.lzh=01;31:*.lzma=01;31:*.tlz=01;31:*.txz=01;31:*.tzo=01;31:*.t7z=01;31:*.zip=01;31:*.z=01;31:*.Z=01;31:*.dz=01;31:*.gz=01;31:*.lrz=01;31:*.lz=01;31:*.lzo=01;31:*.xz=01;31:*.bz2=01;31:*.bz=01;31:*.tbz=01;31:*.tbz2=01;31:*.tz=01;31:*.deb=01;31:*.rpm=01;31:*.jar=01;31:*.war=01;31:*.ear=01;31:*.sar=01;31:*.rar=01;31:*.alz=01;31:*.ace=01;31:*.zoo=01;31:*.cpio=01;31:*.7z=01;31:*.rz=01;31:*.cab=01;31:*.jpg=01;35:*.jpeg=01;35:*.gif=01;35:*.bmp=01;35:*.pbm=01;35:*.pgm=01;35:*.ppm=01;35:*.tga=01;35:*.xbm=01;35:*.xpm=01;35:*.tif=01;35:*.tiff=01;35:*.png=01;35:*.svg=01;35:*.svgz=01;35:*.mng=01;35:*.pcx=01;35:*.mov=01;35:*.mpg=01;35:*.mpeg=01;35:*.m2v=01;35:*.mkv=01;35:*.webm=01;35:*.ogm=01;35:*.mp4=01;35:*.m4v=01;35:*.mp4v=01;35:*.vob=01;35:*.qt=01;35:*.nuv=01;35:*.wmv=01;35:*.asf=01;35:*.rm=01;35:*.rmvb=01;35:*.flc=01;35:*.avi=01;35:*.fli=01;35:*.flv=01;35:*.gl=01;35:*.dl=01;35:*.xcf=01;35:*.xwd=01;35:*.yuv=01;35:*.cgm=01;35:*.emf=01;35:*.ogv=01;35:*.ogx=01;35:*.aac=00;36:*.au=00;36:*.flac=00;36:*.m4a=00;36:*.mid=00;36:*.midi=00;36:*.mka=00;36:*.mp3=00;36:*.mpc=00;36:*.ogg=00;36:*.ra=00;36:*.wav=00;36:*.oga=00;36:*.opus=00;36:*.spx=00;36:*.xspf=00;36:',\n",
       "        'QT_ACCESSIBILITY': '1',\n",
       "        'LC_TELEPHONE': 'pt_BR.UTF-8',\n",
       "        'XDG_SESSION_PATH': '/org/freedesktop/DisplayManager/Session0',\n",
       "        'UNITY_HAS_3D_SUPPORT': 'true',\n",
       "        'XDG_SEAT_PATH': '/org/freedesktop/DisplayManager/Seat0',\n",
       "        'SSH_AUTH_SOCK': '/run/user/1000/keyring/ssh',\n",
       "        'SESSION_MANAGER': 'local/talantyr:@/tmp/.ICE-unix/2459,unix/talantyr:/tmp/.ICE-unix/2459',\n",
       "        'DEFAULTS_PATH': '/usr/share/gconf/ubuntu.default.path',\n",
       "        'XDG_CONFIG_DIRS': '/etc/xdg/xdg-ubuntu:/usr/share/upstart/xdg:/etc/xdg',\n",
       "        'UNITY_DEFAULT_PROFILE': 'unity',\n",
       "        'DESKTOP_SESSION': 'ubuntu',\n",
       "        'PATH': '/home/talantyr/anaconda3/bin:/home/talantyr/gems/bin:/home/talantyr/.cabal/bin:/opt/cabal/1.22/bin:/opt/ghc/7.10.3/bin:/bin/lscript:/bin/lscript:/home/talantyr/bin:/home/talantyr/.local/bin:/usr/local/sbin:/usr/local/bin:/usr/sbin:/usr/bin:/sbin:/bin:/usr/games:/usr/local/games:/snap/bin',\n",
       "        'QT_IM_MODULE': 'ibus',\n",
       "        'QT_QPA_PLATFORMTHEME': 'appmenu-qt5',\n",
       "        'LC_IDENTIFICATION': 'pt_BR.UTF-8',\n",
       "        'XDG_SESSION_TYPE': 'x11',\n",
       "        'PWD': '/home/talantyr',\n",
       "        'JOB': 'unity-settings-daemon',\n",
       "        'XMODIFIERS': '@im=ibus',\n",
       "        'GNOME_KEYRING_PID': '',\n",
       "        'LANG': 'en_US.UTF-8',\n",
       "        'GDM_LANG': 'en',\n",
       "        'MANDATORY_PATH': '/usr/share/gconf/ubuntu.mandatory.path',\n",
       "        'LC_MEASUREMENT': 'pt_BR.UTF-8',\n",
       "        'COMPIZ_CONFIG_PROFILE': 'ubuntu',\n",
       "        'IM_CONFIG_PHASE': '1',\n",
       "        'PAPERSIZE': 'a4',\n",
       "        'GDMSESSION': 'ubuntu',\n",
       "        'SESSIONTYPE': 'gnome-session',\n",
       "        'GTK2_MODULES': 'overlay-scrollbar',\n",
       "        'SHLVL': '1',\n",
       "        'HOME': '/home/talantyr',\n",
       "        'XDG_SEAT': 'seat0',\n",
       "        'LANGUAGE': 'en',\n",
       "        'GNOME_DESKTOP_SESSION_ID': 'this-is-deprecated',\n",
       "        'UPSTART_INSTANCE': '',\n",
       "        'XDG_SESSION_DESKTOP': 'ubuntu',\n",
       "        'UPSTART_EVENTS': 'xsession started',\n",
       "        'LOGNAME': 'talantyr',\n",
       "        'COMPIZ_BIN_PATH': '/usr/bin/',\n",
       "        'DBUS_SESSION_BUS_ADDRESS': 'unix:abstract=/tmp/dbus-Ne9DPy2SR9',\n",
       "        'XDG_DATA_DIRS': '/usr/share/ubuntu:/usr/share/gnome:/usr/local/share:/usr/share:/var/lib/snapd/desktop:/var/lib/snapd/desktop',\n",
       "        'QT4_IM_MODULE': 'xim',\n",
       "        'LC_CTYPE': 'pt_BR.UTF-8',\n",
       "        'LESSOPEN': '| /usr/bin/lesspipe %s',\n",
       "        'INSTANCE': '',\n",
       "        'UPSTART_JOB': 'unity7',\n",
       "        'XDG_RUNTIME_DIR': '/run/user/1000',\n",
       "        'DISPLAY': ':0',\n",
       "        'XDG_CURRENT_DESKTOP': 'Unity',\n",
       "        'GTK_IM_MODULE': 'ibus',\n",
       "        'LESSCLOSE': '/usr/bin/lesspipe %s %s',\n",
       "        'LC_TIME': 'pt_BR.UTF-8',\n",
       "        'LC_NAME': 'pt_BR.UTF-8',\n",
       "        'XAUTHORITY': '/home/talantyr/.Xauthority',\n",
       "        '_': '/home/talantyr/anaconda3/bin/jupyter-notebook',\n",
       "        'JPY_PARENT_PID': '10965',\n",
       "        'CLICOLOR': '1',\n",
       "        'PAGER': 'cat',\n",
       "        'GIT_PAGER': 'cat',\n",
       "        'MPLBACKEND': 'module://ipykernel.pylab.backend_inline'}"
      ]
     },
     "execution_count": 17,
     "metadata": {},
     "output_type": "execute_result"
    }
   ],
   "source": [
    "os.environ"
   ]
  },
  {
   "cell_type": "markdown",
   "metadata": {},
   "source": [
    "Com o método **get** podemos obter o caminho para nosso home diretório"
   ]
  },
  {
   "cell_type": "code",
   "execution_count": 18,
   "metadata": {},
   "outputs": [
    {
     "data": {
      "text/plain": [
       "'/home/talantyr'"
      ]
     },
     "execution_count": 18,
     "metadata": {},
     "output_type": "execute_result"
    }
   ],
   "source": [
    "os.environ.get('HOME')"
   ]
  },
  {
   "cell_type": "markdown",
   "metadata": {},
   "source": [
    "O método **path.join()** nos permite criar uniões"
   ]
  },
  {
   "cell_type": "code",
   "execution_count": 19,
   "metadata": {},
   "outputs": [
    {
     "name": "stdout",
     "output_type": "stream",
     "text": [
      "/home/talantyr/test.txt\n"
     ]
    }
   ],
   "source": [
    "caminho = os.path.join(os.environ.get('HOME'), 'test.txt')\n",
    "print(caminho)"
   ]
  },
  {
   "cell_type": "markdown",
   "metadata": {},
   "source": [
    "O método **path.basename()** nos traz apenas o arquivo"
   ]
  },
  {
   "cell_type": "code",
   "execution_count": 20,
   "metadata": {},
   "outputs": [
    {
     "data": {
      "text/plain": [
       "'teste.txt'"
      ]
     },
     "execution_count": 20,
     "metadata": {},
     "output_type": "execute_result"
    }
   ],
   "source": [
    "os.path.basename('/tmp/teste.txt')"
   ]
  },
  {
   "cell_type": "markdown",
   "metadata": {},
   "source": [
    "O método **path.dirname()** nos traz apenas o diretório"
   ]
  },
  {
   "cell_type": "code",
   "execution_count": 22,
   "metadata": {},
   "outputs": [
    {
     "data": {
      "text/plain": [
       "'/tmp'"
      ]
     },
     "execution_count": 22,
     "metadata": {},
     "output_type": "execute_result"
    }
   ],
   "source": [
    "os.path.dirname('/tmp/teste.txt')"
   ]
  },
  {
   "cell_type": "markdown",
   "metadata": {},
   "source": [
    "O método **path.split()** divide os diretórios e arquivos"
   ]
  },
  {
   "cell_type": "code",
   "execution_count": 23,
   "metadata": {},
   "outputs": [
    {
     "data": {
      "text/plain": [
       "('/tmp', 'teste.txt')"
      ]
     },
     "execution_count": 23,
     "metadata": {},
     "output_type": "execute_result"
    }
   ],
   "source": [
    "os.path.split('/tmp/teste.txt')"
   ]
  },
  {
   "cell_type": "markdown",
   "metadata": {},
   "source": [
    "O método **path.exists()** é capaz de testar se o caminho existe"
   ]
  },
  {
   "cell_type": "code",
   "execution_count": 24,
   "metadata": {},
   "outputs": [
    {
     "data": {
      "text/plain": [
       "False"
      ]
     },
     "execution_count": 24,
     "metadata": {},
     "output_type": "execute_result"
    }
   ],
   "source": [
    "os.path.exists('/tmp/teste.txt')"
   ]
  },
  {
   "cell_type": "markdown",
   "metadata": {},
   "source": [
    "O método **path.isdir()** retorna **True** se for um diretório e **False** caso não seja"
   ]
  },
  {
   "cell_type": "code",
   "execution_count": 25,
   "metadata": {},
   "outputs": [
    {
     "data": {
      "text/plain": [
       "False"
      ]
     },
     "execution_count": 25,
     "metadata": {},
     "output_type": "execute_result"
    }
   ],
   "source": [
    "os.path.isdir('/tmp/teste.txt')"
   ]
  },
  {
   "cell_type": "markdown",
   "metadata": {},
   "source": [
    "O método **path.isfile()** retorna **True** se for um arquivo e **False** caso não seja"
   ]
  },
  {
   "cell_type": "code",
   "execution_count": 26,
   "metadata": {},
   "outputs": [
    {
     "data": {
      "text/plain": [
       "False"
      ]
     },
     "execution_count": 26,
     "metadata": {},
     "output_type": "execute_result"
    }
   ],
   "source": [
    "os.path.isfile('/tmp/teste.txt')"
   ]
  },
  {
   "cell_type": "markdown",
   "metadata": {},
   "source": [
    "O método **path.splitext()** separa a extensão do arquivo"
   ]
  },
  {
   "cell_type": "code",
   "execution_count": 27,
   "metadata": {},
   "outputs": [
    {
     "data": {
      "text/plain": [
       "('/tmp/teste', '.txt')"
      ]
     },
     "execution_count": 27,
     "metadata": {},
     "output_type": "execute_result"
    }
   ],
   "source": [
    "os.path.splitext('/tmp/teste.txt')"
   ]
  },
  {
   "cell_type": "markdown",
   "metadata": {},
   "source": [
    "Observe que dentro de **os.path** existem diversos métodos e atributos para trabalharmos"
   ]
  },
  {
   "cell_type": "code",
   "execution_count": 28,
   "metadata": {},
   "outputs": [
    {
     "name": "stdout",
     "output_type": "stream",
     "text": [
      "['__all__', '__builtins__', '__cached__', '__doc__', '__file__', '__loader__', '__name__', '__package__', '__spec__', '_get_sep', '_joinrealpath', '_varprog', '_varprogb', 'abspath', 'altsep', 'basename', 'commonpath', 'commonprefix', 'curdir', 'defpath', 'devnull', 'dirname', 'exists', 'expanduser', 'expandvars', 'extsep', 'genericpath', 'getatime', 'getctime', 'getmtime', 'getsize', 'isabs', 'isdir', 'isfile', 'islink', 'ismount', 'join', 'lexists', 'normcase', 'normpath', 'os', 'pardir', 'pathsep', 'realpath', 'relpath', 'samefile', 'sameopenfile', 'samestat', 'sep', 'split', 'splitdrive', 'splitext', 'stat', 'supports_unicode_filenames', 'sys']\n"
     ]
    }
   ],
   "source": [
    "print(dir(os.path))"
   ]
  }
 ],
 "metadata": {
  "kernelspec": {
   "display_name": "Python 3",
   "language": "python",
   "name": "python3"
  },
  "language_info": {
   "codemirror_mode": {
    "name": "ipython",
    "version": 3
   },
   "file_extension": ".py",
   "mimetype": "text/x-python",
   "name": "python",
   "nbconvert_exporter": "python",
   "pygments_lexer": "ipython3",
   "version": "3.7.1"
  }
 },
 "nbformat": 4,
 "nbformat_minor": 2
}
