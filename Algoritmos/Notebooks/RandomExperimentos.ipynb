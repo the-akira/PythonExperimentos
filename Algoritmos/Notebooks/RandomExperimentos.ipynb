{
 "cells": [
  {
   "cell_type": "markdown",
   "metadata": {},
   "source": [
    "# Experimentos Random\n",
    "\n",
    "#### Iniciamos importando a biblioteca [random](https://docs.python.org/3/library/random.html):"
   ]
  },
  {
   "cell_type": "code",
   "execution_count": 2,
   "metadata": {},
   "outputs": [],
   "source": [
    "import random"
   ]
  },
  {
   "cell_type": "markdown",
   "metadata": {},
   "source": [
    "#### Gerando um valor entre 0 e 1:"
   ]
  },
  {
   "cell_type": "code",
   "execution_count": 3,
   "metadata": {},
   "outputs": [
    {
     "name": "stdout",
     "output_type": "stream",
     "text": [
      "0.8727877690509268\n"
     ]
    }
   ],
   "source": [
    "valor = random.random() \n",
    "print(valor) "
   ]
  },
  {
   "cell_type": "markdown",
   "metadata": {},
   "source": [
    "#### Gerando um valor entre 1 e 10:"
   ]
  },
  {
   "cell_type": "code",
   "execution_count": 5,
   "metadata": {},
   "outputs": [
    {
     "name": "stdout",
     "output_type": "stream",
     "text": [
      "6.090165830373349\n"
     ]
    }
   ],
   "source": [
    "valor = random.uniform(1,10) \n",
    "print(valor)"
   ]
  },
  {
   "cell_type": "markdown",
   "metadata": {},
   "source": [
    "#### Simulando o rolar de um dado:"
   ]
  },
  {
   "cell_type": "code",
   "execution_count": 6,
   "metadata": {},
   "outputs": [
    {
     "name": "stdout",
     "output_type": "stream",
     "text": [
      "2\n"
     ]
    }
   ],
   "source": [
    "valor = random.randint(1,6) \n",
    "print(valor)"
   ]
  },
  {
   "cell_type": "markdown",
   "metadata": {},
   "source": [
    "#### Simulando o arremesso de uma moeda:"
   ]
  },
  {
   "cell_type": "code",
   "execution_count": 15,
   "metadata": {},
   "outputs": [
    {
     "name": "stdout",
     "output_type": "stream",
     "text": [
      "cara\n"
     ]
    }
   ],
   "source": [
    "valor = random.randint(0,1) \n",
    "\n",
    "if valor == 0:\n",
    "    print('cara')\n",
    "else:\n",
    "    print('coroa')"
   ]
  },
  {
   "cell_type": "markdown",
   "metadata": {},
   "source": [
    "#### Simulando uma escolha:"
   ]
  },
  {
   "cell_type": "code",
   "execution_count": 19,
   "metadata": {},
   "outputs": [
    {
     "name": "stdout",
     "output_type": "stream",
     "text": [
      "PHP\n"
     ]
    }
   ],
   "source": [
    "linguagens = ['Python','JavaScript','PHP','C++']\n",
    "escolha = random.choice(linguagens)\n",
    "print(escolha)"
   ]
  },
  {
   "cell_type": "markdown",
   "metadata": {},
   "source": [
    "#### Simulando diversas escolhadas:"
   ]
  },
  {
   "cell_type": "code",
   "execution_count": 21,
   "metadata": {},
   "outputs": [
    {
     "name": "stdout",
     "output_type": "stream",
     "text": [
      "['verde', 'vermelho', 'verde', 'verde', 'verde', 'azul', 'verde', 'verde', 'azul', 'azul']\n"
     ]
    }
   ],
   "source": [
    "cores = ['vermelho', 'verde', 'azul']\n",
    "resultados = random.choices(cores, k=10)\n",
    "print(resultados)"
   ]
  },
  {
   "cell_type": "markdown",
   "metadata": {},
   "source": [
    "#### Atribuindo tendência (maior chance de um item ser escolhido):"
   ]
  },
  {
   "cell_type": "code",
   "execution_count": 33,
   "metadata": {},
   "outputs": [
    {
     "name": "stdout",
     "output_type": "stream",
     "text": [
      "['Pink Floyd', 'Pink Floyd', 'Iron Maiden', 'Iron Maiden', 'Iron Maiden', 'Iron Maiden', 'Iron Maiden', 'Blind Guardian']\n"
     ]
    }
   ],
   "source": [
    "cores = ['Pink Floyd', 'Iron Maiden', 'Blind Guardian']\n",
    "resultados = random.choices(cores, weights=[18,18,2], k=8)\n",
    "print(resultados)"
   ]
  },
  {
   "cell_type": "markdown",
   "metadata": {},
   "source": [
    "#### Criando um deck de 52 cartas:"
   ]
  },
  {
   "cell_type": "code",
   "execution_count": 35,
   "metadata": {},
   "outputs": [
    {
     "name": "stdout",
     "output_type": "stream",
     "text": [
      "[1, 2, 3, 4, 5, 6, 7, 8, 9, 10, 11, 12, 13, 14, 15, 16, 17, 18, 19, 20, 21, 22, 23, 24, 25, 26, 27, 28, 29, 30, 31, 32, 33, 34, 35, 36, 37, 38, 39, 40, 41, 42, 43, 44, 45, 46, 47, 48, 49, 50, 51, 52]\n"
     ]
    }
   ],
   "source": [
    "deck_cartas = list(range(1,53)) \n",
    "print(deck_cartas)"
   ]
  },
  {
   "cell_type": "markdown",
   "metadata": {},
   "source": [
    "#### Embaralhando as cartas:"
   ]
  },
  {
   "cell_type": "code",
   "execution_count": 36,
   "metadata": {},
   "outputs": [
    {
     "name": "stdout",
     "output_type": "stream",
     "text": [
      "[37, 12, 40, 13, 16, 23, 46, 52, 15, 41, 42, 14, 26, 20, 11, 21, 45, 49, 9, 7, 8, 18, 48, 51, 29, 6, 10, 39, 36, 2, 32, 5, 1, 25, 50, 43, 24, 4, 28, 19, 38, 44, 27, 35, 17, 33, 22, 31, 34, 47, 30, 3]\n"
     ]
    }
   ],
   "source": [
    "random.shuffle(deck_cartas)\n",
    "print(deck_cartas)"
   ]
  },
  {
   "cell_type": "markdown",
   "metadata": {},
   "source": [
    "#### Coletando uma amostra aleatória de 5 cartas do deck:"
   ]
  },
  {
   "cell_type": "code",
   "execution_count": 37,
   "metadata": {},
   "outputs": [
    {
     "name": "stdout",
     "output_type": "stream",
     "text": [
      "[9, 13, 30, 32, 2]\n"
     ]
    }
   ],
   "source": [
    "mão = random.sample(deck_cartas, k=5)\n",
    "print(mão)"
   ]
  }
 ],
 "metadata": {
  "kernelspec": {
   "display_name": "Python 3",
   "language": "python",
   "name": "python3"
  },
  "language_info": {
   "codemirror_mode": {
    "name": "ipython",
    "version": 3
   },
   "file_extension": ".py",
   "mimetype": "text/x-python",
   "name": "python",
   "nbconvert_exporter": "python",
   "pygments_lexer": "ipython3",
   "version": "3.7.10"
  }
 },
 "nbformat": 4,
 "nbformat_minor": 4
}
