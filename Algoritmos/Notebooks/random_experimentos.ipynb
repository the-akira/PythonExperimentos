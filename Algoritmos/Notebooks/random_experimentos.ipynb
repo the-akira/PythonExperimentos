{
 "cells": [
  {
   "cell_type": "markdown",
   "metadata": {},
   "source": [
    "# Experimentos com a biblioteca random\n",
    "\n",
    "Começamos importando a biblioteca"
   ]
  },
  {
   "cell_type": "code",
   "execution_count": 1,
   "metadata": {},
   "outputs": [],
   "source": [
    "import random"
   ]
  },
  {
   "cell_type": "code",
   "execution_count": 3,
   "metadata": {},
   "outputs": [
    {
     "name": "stdout",
     "output_type": "stream",
     "text": [
      "0.41575766438437045\n"
     ]
    }
   ],
   "source": [
    "valor = random.random() # Gera valores entre 0 e 1\n",
    "print(valor) "
   ]
  },
  {
   "cell_type": "code",
   "execution_count": 5,
   "metadata": {},
   "outputs": [
    {
     "name": "stdout",
     "output_type": "stream",
     "text": [
      "7.425410257201848\n"
     ]
    }
   ],
   "source": [
    "valor = random.uniform(1,10) # Gera valores entre 1 e 10\n",
    "print(valor)"
   ]
  },
  {
   "cell_type": "code",
   "execution_count": 16,
   "metadata": {},
   "outputs": [
    {
     "name": "stdout",
     "output_type": "stream",
     "text": [
      "6\n"
     ]
    }
   ],
   "source": [
    "valor = random.randint(1,6) # Simulando um dado\n",
    "print(valor)"
   ]
  },
  {
   "cell_type": "code",
   "execution_count": 18,
   "metadata": {},
   "outputs": [
    {
     "name": "stdout",
     "output_type": "stream",
     "text": [
      "0\n"
     ]
    }
   ],
   "source": [
    "valor = random.randint(0,1) # Simulando uma moeda\n",
    "print(valor)"
   ]
  },
  {
   "cell_type": "code",
   "execution_count": 20,
   "metadata": {},
   "outputs": [
    {
     "name": "stdout",
     "output_type": "stream",
     "text": [
      "opa\n"
     ]
    }
   ],
   "source": [
    "cumprimentos = ['Oi', 'olá', 'ei', 'ow', 'opa']\n",
    "valor = random.choice(cumprimentos)\n",
    "print(valor)"
   ]
  },
  {
   "cell_type": "code",
   "execution_count": 22,
   "metadata": {},
   "outputs": [
    {
     "name": "stdout",
     "output_type": "stream",
     "text": [
      "['verde', 'vermelho', 'vermelho', 'preto', 'verde', 'verde', 'vermelho', 'preto', 'vermelho', 'verde', 'verde', 'vermelho', 'preto', 'verde', 'verde', 'preto', 'vermelho', 'preto', 'vermelho', 'verde']\n"
     ]
    }
   ],
   "source": [
    "cores = ['vermelho', 'preto', 'verde']\n",
    "resultados = random.choices(cores, k=20)\n",
    "print(resultados)"
   ]
  },
  {
   "cell_type": "code",
   "execution_count": 23,
   "metadata": {},
   "outputs": [
    {
     "name": "stdout",
     "output_type": "stream",
     "text": [
      "['vermelho', 'vermelho', 'vermelho', 'preto', 'vermelho', 'verde', 'verde', 'preto', 'preto', 'vermelho', 'vermelho', 'vermelho', 'vermelho', 'vermelho', 'vermelho', 'vermelho', 'vermelho', 'vermelho', 'preto', 'preto']\n"
     ]
    }
   ],
   "source": [
    "cores = ['vermelho', 'preto', 'verde']\n",
    "resultados = random.choices(cores, weights=[18,18,2], k=20)\n",
    "print(resultados)"
   ]
  },
  {
   "cell_type": "code",
   "execution_count": 28,
   "metadata": {},
   "outputs": [
    {
     "name": "stdout",
     "output_type": "stream",
     "text": [
      "[1, 2, 3, 4, 5, 6, 7, 8, 9, 10, 11, 12, 13, 14, 15, 16, 17, 18, 19, 20, 21, 22, 23, 24, 25, 26, 27, 28, 29, 30, 31, 32, 33, 34, 35, 36, 37, 38, 39, 40, 41, 42, 43, 44, 45, 46, 47, 48, 49, 50, 51, 52]\n"
     ]
    }
   ],
   "source": [
    "deck_cartas = list(range(1,53)) # Cria um deck de cartas de 52 duas cartas\n",
    "print(deck_cartas)"
   ]
  },
  {
   "cell_type": "code",
   "execution_count": 29,
   "metadata": {},
   "outputs": [
    {
     "name": "stdout",
     "output_type": "stream",
     "text": [
      "[17, 29, 2, 18, 51, 38, 46, 44, 6, 9, 22, 35, 1, 37, 52, 20, 3, 30, 4, 12, 5, 11, 49, 31, 47, 41, 40, 45, 50, 33, 23, 25, 7, 36, 15, 8, 14, 34, 21, 42, 27, 43, 28, 16, 13, 26, 32, 24, 10, 39, 19, 48]\n"
     ]
    }
   ],
   "source": [
    "random.shuffle(deck_cartas) # Embaralha o deck\n",
    "print(deck_cartas)"
   ]
  },
  {
   "cell_type": "code",
   "execution_count": 30,
   "metadata": {},
   "outputs": [
    {
     "name": "stdout",
     "output_type": "stream",
     "text": [
      "[46, 38, 33, 50, 3]\n"
     ]
    }
   ],
   "source": [
    "mao = random.sample(deck_cartas, k=5) # Compra cinco cartas únicas\n",
    "print(mao)"
   ]
  }
 ],
 "metadata": {
  "kernelspec": {
   "display_name": "Python 3",
   "language": "python",
   "name": "python3"
  },
  "language_info": {
   "codemirror_mode": {
    "name": "ipython",
    "version": 3
   },
   "file_extension": ".py",
   "mimetype": "text/x-python",
   "name": "python",
   "nbconvert_exporter": "python",
   "pygments_lexer": "ipython3",
   "version": "3.7.1"
  }
 },
 "nbformat": 4,
 "nbformat_minor": 2
}
