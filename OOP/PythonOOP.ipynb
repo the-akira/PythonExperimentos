{
 "cells": [
  {
   "cell_type": "markdown",
   "metadata": {},
   "source": [
    "# Classes e Objetos\n",
    "\n",
    "## Programação Orientada a Objetos\n",
    "\n",
    "Python é uma **linguagem de programação orientada a objetos**, isso significa que ela possui características que suportam à programação orientada a objetos.\n",
    "\n",
    "A programação orientada a objetos tem suas raízes nos anos 1960, mas foi apenas em meados dos anos 80 que se tornou o principal paradigma de programação usado na criação de novos softwares. Foi desenvolvida como uma maneira de lidar com o rápido crescimento em tamanho e complexidade de sistemas de software e para fazer com que seja mais fácil de modificar esses grandes e complexos sistemas ao longo do tempo.\n",
    "\n",
    "Na programação orientada a objetos o foco está na criação de **objetos** no qual contém ambos dados e funcionalidades juntos.\n",
    "\n",
    "Geralmente, cada definição de objeto corresponde a algum objeto ou conceito no mundo real, e as funções que operam nesse objeto correspondem à maneira como os objetos do mundo real interagem"
   ]
  },
  {
   "cell_type": "markdown",
   "metadata": {},
   "source": [
    "## Tipos de Dados Compostos definidos pelo Usuário\n",
    "\n",
    "Considere o conceito de um ponto matemático. Em duas dimensões, um ponto é dois números (coordenadas) que são tratados coletivamente como um único objeto. Os pontos geralmente são escritos entre parênteses com uma vírgula separando as coordenadas. Por exemplo, (0, 0) representa a origem e (x, y) representa o ponto x unidades à direita e y unidades acima da origem.\n",
    "\n",
    "Algumas das operações típicas que se associam a pontos podem estar calculando a distância de um ponto da origem, ou de outro ponto, encontrar um ponto médio de dois pontos ou perguntar se um ponto está dentro de um determinado retângulo ou círculo. Em breve, veremos como podemos organizá-los juntamente com os dados.\n",
    "\n",
    "Uma maneira natural de representar um ponto em Python é com dois valores numéricos. A questão, então, é como agrupar esses dois valores em um objeto composto. A solução rápida e suja é usar uma tupla e, para alguns aplicativos, essa pode ser uma boa escolha.\n",
    "\n",
    "Uma alternativa é definir uma nova **class**. Essa abordagem envolve um pouco mais de esforço, mas tem vantagens que serão aparentes em breve. Queremos que nossos pontos tenham cada um um atributo x e um y, para que nossa definição de primeira classe seja assim:"
   ]
  },
  {
   "cell_type": "code",
   "execution_count": 1,
   "metadata": {},
   "outputs": [],
   "source": [
    "class Point:\n",
    "    \"\"\" Point class represents and manipulates x,y coords. \"\"\"\n",
    "    def __init__(self):\n",
    "        \"\"\" Create a new point at the origin \"\"\"\n",
    "        self.x = 0\n",
    "        self.y = 0"
   ]
  },
  {
   "cell_type": "markdown",
   "metadata": {},
   "source": [
    "As definições de **class** podem aparecer em qualquer lugar do programa, mas geralmente estão no início (após as instruções de importação). Alguns programadores e linguagens preferem colocar cada classe em um módulo próprio - não faremos isso aqui. As regras de sintaxe para uma definição de **class** são as mesmas que para outras instruções compostas. Há um cabeçalho que começa com a palavra-chave, **class**, seguido pelo nome da class e termina com dois pontos. Os níveis de recuo nos dizem onde a clss termina.\n",
    "\n",
    "Se a primeira linha após o cabeçalho da class for uma string, ela se tornará a string de documentação (**docstring**) da classe e será reconhecida por várias ferramentas. (Também é assim que os documentos funcionam em funções.)\n",
    "\n",
    "Toda classe deve ter um método com o nome especial __init__. Esse método inicializador é chamado automaticamente sempre que uma nova instância do **Point** é criada. Isso dá ao programador a oportunidade de configurar os atributos necessários na nova instância, fornecendo a eles seu estado / valores iniciais. O parâmetro self (poderíamos escolher qualquer outro nome, mas self é a convenção) é automaticamente definido para referenciar o objeto recém-criado que precisa ser inicializado."
   ]
  },
  {
   "cell_type": "code",
   "execution_count": 2,
   "metadata": {},
   "outputs": [
    {
     "name": "stdout",
     "output_type": "stream",
     "text": [
      "0 0 0 0\n"
     ]
    }
   ],
   "source": [
    "p = Point() # Instancia um objeto do tipo Point\n",
    "q = Point() # Cria um segundo Point\n",
    "\n",
    "print(p.x, p.y, q.x, q.y)  # Cada Point tem seu x e y próprio"
   ]
  },
  {
   "cell_type": "markdown",
   "metadata": {},
   "source": [
    "Esse programa imprime 0 0 0 0 porque durante a inicialização dos objetos, criamos dois atributos chamados x e y para cada um e atribuímos a ambos o valor 0.\n",
    "\n",
    "As variáveis p e q são atribuídas referências a dois novos objetos Point. Uma função como Point que cria uma nova instância de objeto é chamada de **construtor**, e toda classe fornece automaticamente uma função de construtor denominada da mesma forma que a class.\n",
    "\n",
    "Pode ser útil pensar em uma classe como uma fábrica para fazer objetos. A classe em si não é uma instância de um ponto, mas contém o mecanismo para criar instâncias de pontos. Toda vez que chamamos o construtor, pedimos à fábrica que nos torne um novo objeto. À medida que o objeto sai da linha de produção, seu método de inicialização é executado para obter o objeto corretamente configurado com as configurações padrão de fábrica.\n",
    "\n",
    "O processo combinado de \"faça de mim um novo objeto\" e \"obtenha suas configurações inicializadas com as configurações padrão de fábrica\" é chamado de instanciação."
   ]
  },
  {
   "cell_type": "markdown",
   "metadata": {},
   "source": [
    "## Atributos\n",
    "\n",
    "Como objetos do mundo real, as instâncias de objetos têm atributos e métodos.\n",
    "\n",
    "Podemos modificar os atributos em uma instância usando a notação de ponto:"
   ]
  },
  {
   "cell_type": "code",
   "execution_count": 3,
   "metadata": {},
   "outputs": [],
   "source": [
    "p.x = 3\n",
    "p.y = 4"
   ]
  },
  {
   "cell_type": "markdown",
   "metadata": {},
   "source": [
    "Os módulos e as instâncias criam seus próprios namespaces, e a sintaxe para acessar os nomes contidos em cada um, chamados atributos, é a mesma. Nesse caso, o atributo que estamos selecionando é um item de dados de uma instância.\n",
    "\n",
    "O diagrama de estado a seguir mostra o resultado dessas atribuições:\n",
    "\n",
    "![img](http://openbookproject.net/thinkcs/python/english3e/_images/point.png)\n",
    "\n",
    "A variável p refere-se a um objeto Point, que contém dois atributos. Cada atributo refere-se a um número.\n",
    "\n",
    "Podemos acessar o valor de um atributo usando a mesma sintaxe:"
   ]
  },
  {
   "cell_type": "code",
   "execution_count": 4,
   "metadata": {},
   "outputs": [
    {
     "name": "stdout",
     "output_type": "stream",
     "text": [
      "4\n",
      "3\n"
     ]
    }
   ],
   "source": [
    "print(p.y)\n",
    "x = p.x\n",
    "print(x)"
   ]
  },
  {
   "cell_type": "markdown",
   "metadata": {},
   "source": [
    "A expressão p.x significa: \"Vá para o objeto p refere-se a ele e obtenha o valor de x\". Nesse caso, atribuímos esse valor a uma variável chamada x. Não há conflito entre a variável x (no espaço para nome global aqui) e o atributo x (no espaço para nome pertencente à instância). O objetivo da notação de ponto é qualificar totalmente a qual variável estamos nos referindo sem ambiguidade.\n",
    "\n",
    "Podemos usar a notação de ponto como parte de qualquer expressão; portanto, as seguintes declarações são legais:"
   ]
  },
  {
   "cell_type": "code",
   "execution_count": 6,
   "metadata": {},
   "outputs": [
    {
     "name": "stdout",
     "output_type": "stream",
     "text": [
      "(x=3, y=4)\n",
      "25\n"
     ]
    }
   ],
   "source": [
    "print(f\"(x={p.x}, y={p.y})\")\n",
    "distance_squared_from_origin = p.x * p.x + p.y * p.y\n",
    "print(distance_squared_from_origin)"
   ]
  },
  {
   "cell_type": "markdown",
   "metadata": {},
   "source": [
    "A primeira linha imprime (x=3, y=4). A segunda linha calcula o valor 25."
   ]
  },
  {
   "cell_type": "markdown",
   "metadata": {},
   "source": [
    "## Melhorando nosso Inicializador\n",
    "\n",
    "Para criar um ponto na posição (7, 6), no momento, são necessárias três linhas de código:"
   ]
  },
  {
   "cell_type": "code",
   "execution_count": 7,
   "metadata": {},
   "outputs": [],
   "source": [
    "p = Point()\n",
    "p.x = 7\n",
    "p.y = 6"
   ]
  },
  {
   "cell_type": "markdown",
   "metadata": {},
   "source": [
    "Podemos tornar nosso construtor de classe mais geral, colocando parâmetros extras no método __init__, conforme mostrado neste exemplo:"
   ]
  },
  {
   "cell_type": "code",
   "execution_count": 8,
   "metadata": {},
   "outputs": [],
   "source": [
    "class Point:\n",
    "    \"\"\" Point class represents and manipulates x,y coords. \"\"\"\n",
    "    def __init__(self, x=0, y=0):\n",
    "        \"\"\" Create a new point at x, y \"\"\"\n",
    "        self.x = x\n",
    "        self.y = y"
   ]
  },
  {
   "cell_type": "markdown",
   "metadata": {},
   "source": [
    "Os parâmetros x e y são opcionais. Se o chamador não fornecer argumentos, ele obterá os valores padrão de 0. Aqui está nossa classe aprimorada em ação:"
   ]
  },
  {
   "cell_type": "code",
   "execution_count": 11,
   "metadata": {},
   "outputs": [
    {
     "name": "stdout",
     "output_type": "stream",
     "text": [
      "4 3 0\n"
     ]
    }
   ],
   "source": [
    "p = Point(4, 2)\n",
    "q = Point(6, 3)\n",
    "r = Point() # r representa a origem (0, 0)\n",
    "print(p.x, q.y, r.x)"
   ]
  },
  {
   "cell_type": "markdown",
   "metadata": {},
   "source": [
    "## Adicionando outros métodos à nossa Classe\n",
    "\n",
    "A principal vantagem de usar uma classe como Point em vez de uma simples tupla (6, 7) agora se torna aparente. Podemos adicionar métodos à classe Point que são operações sensíveis a pontos, mas que podem não ser apropriadas para outras tuplas como (25, 12) que podem representar, por exemplo, um dia e um mês, por exemplo. Dia de Natal. \n",
    "\n",
    "Portanto, é possível calcular a distância da origem para pontos, mas não para dados (dia, mês). Para dados (dia, mês), gostaríamos de operações diferentes, talvez para descobrir em que dia da semana ele ocorrerá em 2020.\n",
    "\n",
    "Criar uma classe como a Point traz uma quantidade excepcional de \"poder organizacional\" aos nossos programas e ao nosso pensamento. Podemos agrupar as operações sensíveis e os tipos de dados aos quais eles se aplicam, e cada instância da classe pode ter seu próprio estado.\n",
    "\n",
    "Um método se comporta como uma função, mas é invocado em uma instância específica, por exemplo tess.right (90). Como um atributo de dados, os métodos são acessados usando a notação de ponto.\n",
    "\n",
    "Vamos adicionar outro método, distance_from_origin, para ver melhor como os métodos funcionam:"
   ]
  },
  {
   "cell_type": "code",
   "execution_count": 13,
   "metadata": {},
   "outputs": [],
   "source": [
    "class Point:\n",
    "    \"\"\" Create a new Point, at coordinates x, y \"\"\"\n",
    "    def __init__(self, x=0, y=0):\n",
    "        \"\"\" Create a new point at x, y \"\"\"\n",
    "        self.x = x\n",
    "        self.y = y\n",
    "\n",
    "    def distance_from_origin(self):\n",
    "        \"\"\" Compute my distance from the origin \"\"\"\n",
    "        return ((self.x ** 2) + (self.y ** 2)) ** 0.5"
   ]
  },
  {
   "cell_type": "markdown",
   "metadata": {},
   "source": [
    "Vamos criar algumas instâncias de pontos, examinar seus atributos e chamar nosso novo método para elas: (devemos executar nosso programa primeiro, para tornar nossa classe Point disponível para o intérprete.)"
   ]
  },
  {
   "cell_type": "code",
   "execution_count": 14,
   "metadata": {},
   "outputs": [
    {
     "name": "stdout",
     "output_type": "stream",
     "text": [
      "3 4\n"
     ]
    }
   ],
   "source": [
    "p = Point(3, 4)\n",
    "print(p.x, p.y)"
   ]
  },
  {
   "cell_type": "code",
   "execution_count": 15,
   "metadata": {},
   "outputs": [
    {
     "data": {
      "text/plain": [
       "5.0"
      ]
     },
     "execution_count": 15,
     "metadata": {},
     "output_type": "execute_result"
    }
   ],
   "source": [
    "p.distance_from_origin()"
   ]
  },
  {
   "cell_type": "code",
   "execution_count": 16,
   "metadata": {},
   "outputs": [
    {
     "name": "stdout",
     "output_type": "stream",
     "text": [
      "7 13\n"
     ]
    }
   ],
   "source": [
    "q = Point(7, 13)\n",
    "print(q.x, q.y)"
   ]
  },
  {
   "cell_type": "code",
   "execution_count": 17,
   "metadata": {},
   "outputs": [
    {
     "data": {
      "text/plain": [
       "14.7648230602334"
      ]
     },
     "execution_count": 17,
     "metadata": {},
     "output_type": "execute_result"
    }
   ],
   "source": [
    "q.distance_from_origin()"
   ]
  },
  {
   "cell_type": "markdown",
   "metadata": {},
   "source": [
    "Ao definir um método, o primeiro parâmetro se refere à instância que está sendo manipulada. Como já observado, é habitual nomear esse parâmetro como auto.\n",
    "\n",
    "Observe que o chamador de distance_from_origin não fornece explicitamente um argumento para corresponder ao parâmetro self - isso é feito por nós, pelas nossas costas."
   ]
  },
  {
   "cell_type": "markdown",
   "metadata": {},
   "source": [
    "## Instâncias como argumentos e parâmetros\n",
    "\n",
    "Podemos passar um objeto como argumento da maneira usual.\n",
    "\n",
    "Esteja ciente de que nossa variável contém apenas uma referência a um objeto, portanto, passar o tess para uma função cria um alias: tanto o chamador quanto a função chamada agora têm uma referência.\n",
    "\n",
    "Aqui está uma função simples que envolve nossos novos objetos Point:"
   ]
  },
  {
   "cell_type": "code",
   "execution_count": 19,
   "metadata": {},
   "outputs": [],
   "source": [
    "def print_point(pt):\n",
    "    print(f\"({pt.x}, {pt.y})\")"
   ]
  },
  {
   "cell_type": "markdown",
   "metadata": {},
   "source": [
    "print_point recebe um ponto como argumento e formata a saída da maneira que escolhermos. Se chamarmos print_point (p) com o ponto p como definido anteriormente, a saída será (3, 4)."
   ]
  },
  {
   "cell_type": "code",
   "execution_count": 20,
   "metadata": {},
   "outputs": [
    {
     "name": "stdout",
     "output_type": "stream",
     "text": [
      "(3, 4)\n"
     ]
    }
   ],
   "source": [
    "print_point(p)"
   ]
  },
  {
   "cell_type": "markdown",
   "metadata": {},
   "source": [
    "## Convertendo uma Instância em uma String\n",
    "\n",
    "A maioria dos programadores orientados a objetos provavelmente não faria o que acabamos de fazer no print_point. Quando trabalhamos com classes e objetos, uma alternativa preferida é adicionar um novo método à classe. E não gostamos de métodos de tagarela que chamam de impressão. Uma abordagem melhor é ter um método para que cada instância possa produzir uma string de si mesma. Vamos chamar inicialmente de **to_string**:"
   ]
  },
  {
   "cell_type": "code",
   "execution_count": 21,
   "metadata": {},
   "outputs": [],
   "source": [
    "class Point:\n",
    "    \"\"\" Create a new Point, at coordinates x, y \"\"\"\n",
    "    def __init__(self, x=0, y=0):\n",
    "        \"\"\" Create a new point at x, y \"\"\"\n",
    "        self.x = x\n",
    "        self.y = y\n",
    "\n",
    "    def distance_from_origin(self):\n",
    "        \"\"\" Compute my distance from the origin \"\"\"\n",
    "        return ((self.x ** 2) + (self.y ** 2)) ** 0.5\n",
    "\n",
    "    def to_string(self):\n",
    "        return \"({0}, {1})\".format(self.x, self.y)"
   ]
  },
  {
   "cell_type": "markdown",
   "metadata": {},
   "source": [
    "Agora podemos dizer:"
   ]
  },
  {
   "cell_type": "code",
   "execution_count": 23,
   "metadata": {},
   "outputs": [
    {
     "name": "stdout",
     "output_type": "stream",
     "text": [
      "(5, 7)\n"
     ]
    }
   ],
   "source": [
    "p = Point(5, 7)\n",
    "print(p.to_string())"
   ]
  },
  {
   "cell_type": "markdown",
   "metadata": {},
   "source": [
    "Mas já não temos um conversor de tipo str que pode transformar nosso objeto em uma string? Sim! E a impressão não usa automaticamente isso ao imprimir coisas? Sim novamente! Mas esses mecanismos automáticos ainda não fazem exatamente o que queremos:"
   ]
  },
  {
   "cell_type": "code",
   "execution_count": 24,
   "metadata": {},
   "outputs": [
    {
     "data": {
      "text/plain": [
       "'<__main__.Point object at 0x7f277450e3d0>'"
      ]
     },
     "execution_count": 24,
     "metadata": {},
     "output_type": "execute_result"
    }
   ],
   "source": [
    "str(p)"
   ]
  },
  {
   "cell_type": "code",
   "execution_count": 25,
   "metadata": {},
   "outputs": [
    {
     "name": "stdout",
     "output_type": "stream",
     "text": [
      "<__main__.Point object at 0x7f277450e3d0>\n"
     ]
    }
   ],
   "source": [
    "print(p)"
   ]
  },
  {
   "cell_type": "markdown",
   "metadata": {},
   "source": [
    "O Python tem um truque inteligente na manga para consertar isso. Se chamarmos nosso novo método __str__ em vez de to_string, o interpretador Python usará nosso código sempre que precisar converter um Point em uma string. Vamos fazer isso novamente agora:"
   ]
  },
  {
   "cell_type": "code",
   "execution_count": 28,
   "metadata": {},
   "outputs": [],
   "source": [
    "class Point:\n",
    "    \"\"\" Create a new Point, at coordinates x, y \"\"\"\n",
    "    def __init__(self, x=0, y=0):\n",
    "        \"\"\" Create a new point at x, y \"\"\"\n",
    "        self.x = x\n",
    "        self.y = y\n",
    "\n",
    "    def distance_from_origin(self):\n",
    "        \"\"\" Compute my distance from the origin \"\"\"\n",
    "        return ((self.x ** 2) + (self.y ** 2)) ** 0.5\n",
    "\n",
    "    def __str__(self):\n",
    "        return \"({0}, {1})\".format(self.x, self.y)"
   ]
  },
  {
   "cell_type": "markdown",
   "metadata": {},
   "source": [
    "Agora sim:"
   ]
  },
  {
   "cell_type": "code",
   "execution_count": 30,
   "metadata": {},
   "outputs": [
    {
     "data": {
      "text/plain": [
       "'(6, 7)'"
      ]
     },
     "execution_count": 30,
     "metadata": {},
     "output_type": "execute_result"
    }
   ],
   "source": [
    "p = Point(6, 7)\n",
    "str(p)"
   ]
  },
  {
   "cell_type": "code",
   "execution_count": 31,
   "metadata": {},
   "outputs": [
    {
     "name": "stdout",
     "output_type": "stream",
     "text": [
      "(6, 7)\n"
     ]
    }
   ],
   "source": [
    "print(p)"
   ]
  },
  {
   "cell_type": "markdown",
   "metadata": {},
   "source": [
    "## Instâncias como valores de retorno\n",
    "\n",
    "Funções e métodos podem retornar instâncias. Por exemplo, dados dois objetos Point, encontre seu ponto médio. Primeiro, escreveremos isso como uma função regular:"
   ]
  },
  {
   "cell_type": "code",
   "execution_count": 32,
   "metadata": {},
   "outputs": [],
   "source": [
    "def midpoint(p1, p2):\n",
    "    \"\"\" Return the midpoint of points p1 and p2 \"\"\"\n",
    "    mx = (p1.x + p2.x)/2\n",
    "    my = (p1.y + p2.y)/2\n",
    "    return Point(mx, my)"
   ]
  },
  {
   "cell_type": "markdown",
   "metadata": {},
   "source": [
    "A função cria e retorna um novo objeto Point:"
   ]
  },
  {
   "cell_type": "code",
   "execution_count": 34,
   "metadata": {},
   "outputs": [
    {
     "name": "stdout",
     "output_type": "stream",
     "text": [
      "(4.0, 8.0)\n"
     ]
    }
   ],
   "source": [
    "p = Point(3, 4)\n",
    "q = Point(5, 12)\n",
    "r = midpoint(p, q)\n",
    "print(r)"
   ]
  },
  {
   "cell_type": "markdown",
   "metadata": {},
   "source": [
    "Agora vamos fazer isso como um método. Suponha que tenhamos um objeto de ponto e desejemos encontrar o ponto médio entre ele e algum outro ponto de destino:"
   ]
  },
  {
   "cell_type": "code",
   "execution_count": 3,
   "metadata": {},
   "outputs": [],
   "source": [
    "class Point:\n",
    "    \"\"\" Create a new Point, at coordinates x, y \"\"\"\n",
    "    def __init__(self, x=0, y=0):\n",
    "        \"\"\" Create a new point at x, y \"\"\"\n",
    "        self.x = x\n",
    "        self.y = y\n",
    "\n",
    "    def distance_from_origin(self):\n",
    "        \"\"\" Compute my distance from the origin \"\"\"\n",
    "        return ((self.x ** 2) + (self.y ** 2)) ** 0.5\n",
    "\n",
    "    def __str__(self):\n",
    "        return \"({0}, {1})\".format(self.x, self.y)\n",
    "\n",
    "    def halfway(self, target):\n",
    "        \"\"\" Return the halfway point between myself and the target \"\"\"\n",
    "        mx = (self.x + target.x)/2\n",
    "        my = (self.y + target.y)/2\n",
    "        return Point(mx, my)"
   ]
  },
  {
   "cell_type": "markdown",
   "metadata": {},
   "source": [
    "Este método é idêntico à função, além de algumas renomeações. Seu uso pode ser assim:"
   ]
  },
  {
   "cell_type": "code",
   "execution_count": 37,
   "metadata": {},
   "outputs": [
    {
     "name": "stdout",
     "output_type": "stream",
     "text": [
      "(4.0, 8.0)\n"
     ]
    }
   ],
   "source": [
    "p = Point(3, 4)\n",
    "q = Point(5, 12)\n",
    "r = p.halfway(q)\n",
    "print(r)"
   ]
  },
  {
   "cell_type": "markdown",
   "metadata": {},
   "source": [
    "Embora este exemplo atribua cada ponto a uma variável, isso não precisa ser feito. Assim como as chamadas de função são compostas, as chamadas de método e a instanciação de objetos também são compostas, levando a essa alternativa que não usa variáveis:"
   ]
  },
  {
   "cell_type": "code",
   "execution_count": 38,
   "metadata": {},
   "outputs": [
    {
     "name": "stdout",
     "output_type": "stream",
     "text": [
      "(4.0, 8.0)\n"
     ]
    }
   ],
   "source": [
    "print(Point(3, 4).halfway(Point(5, 12)))"
   ]
  },
  {
   "cell_type": "markdown",
   "metadata": {},
   "source": [
    "## Uma mudança de Perspectiva\n",
    "\n",
    "Uma alteração na sintaxe original de uma chamada de função, print_time (current_time), sugere que a função é o agente ativo. Diz algo como: “Ei, hora da impressão! Aqui está um objeto para você imprimir. \"\n",
    "\n",
    "Na programação orientada a objetos, os objetos são considerados os agentes ativos. Uma invocação como current_time.print_time () diz “Ei current_time! Por favor, imprima você mesmo!”\n",
    "\n",
    "Essa mudança de perspectiva pode ser mais educada, mas pode não ser óbvio inicialmente que seja útil. Mas, às vezes, transferir a responsabilidade das funções para os objetos torna possível escrever funções mais versáteis e facilita a manutenção e a reutilização do código.\n",
    "\n",
    "A vantagem mais importante do estilo orientado a objetos é que ele se encaixa com mais precisão em nossa experiência mental e na vida real. Na vida real, o nosso método de cozinhar faz parte do nosso forno de microondas - não temos uma função de cozinhar no canto da cozinha, pela qual passamos o microondas! Da mesma forma, usamos os métodos do celular para enviar um sms ou alterar seu estado para silencioso. A funcionalidade dos objetos do mundo real tende a estar fortemente ligada aos próprios objetos. OOP nos permite refletir com precisão isso quando organizamos nossos programas."
   ]
  },
  {
   "cell_type": "markdown",
   "metadata": {},
   "source": [
    "## Objetos podem ter estado\n",
    "\n",
    "Os objetos são mais úteis quando também precisamos manter algum estado atualizado periodicamente. Considere um objeto de tartaruga. Seu estado consiste em coisas como sua posição, posição, cor e forma. Um método como left (90) atualiza o rumo da tartaruga, o forward muda de posição e assim por diante.\n",
    "\n",
    "Para um objeto de conta bancária, um componente principal do estado seria o saldo atual e talvez um log de todas as transações. Os métodos nos permitiriam consultar o saldo atual, depositar novos fundos ou efetuar um pagamento. Fazer um pagamento incluiria um valor e uma descrição, para que isso pudesse ser adicionado ao log de transações. Também queremos um método para mostrar o log de transações."
   ]
  },
  {
   "cell_type": "markdown",
   "metadata": {},
   "source": [
    "## Retângulos\n",
    "\n",
    "Digamos que queremos que uma classe represente um retângulo localizado em algum lugar no plano XY. A questão é: que informações temos para fornecer para especificar esse retângulo? Para simplificar, suponha que o retângulo seja orientado vertical ou horizontalmente, nunca em ângulo.\n",
    "\n",
    "Existem algumas possibilidades: poderíamos especificar o centro do retângulo (duas coordenadas) e seu tamanho (largura e altura); ou podemos especificar um dos cantos e o tamanho; ou podemos especificar dois cantos opostos. Uma opção convencional é especificar o canto superior esquerdo do retângulo e o tamanho.\n",
    "\n",
    "Novamente, definiremos uma nova classe e forneceremos a ela um inicializador e um método de conversão de string:"
   ]
  },
  {
   "cell_type": "code",
   "execution_count": 4,
   "metadata": {},
   "outputs": [
    {
     "name": "stdout",
     "output_type": "stream",
     "text": [
      "box:  ((0, 0), 100, 200)\n",
      "bomb:  ((100, 80), 5, 10)\n"
     ]
    }
   ],
   "source": [
    "class Rectangle:\n",
    "    \"\"\" A class to manufacture rectangle objects \"\"\"\n",
    "\n",
    "    def __init__(self, posn, w, h):\n",
    "        \"\"\" Initialize rectangle at posn, with width w, height h \"\"\"\n",
    "        self.corner = posn\n",
    "        self.width = w\n",
    "        self.height = h\n",
    "\n",
    "    def __str__(self):\n",
    "        return f\"({self.corner}, {self.width}, {self.height})\"\n",
    "\n",
    "box = Rectangle(Point(0, 0), 100, 200)\n",
    "bomb = Rectangle(Point(100, 80), 5, 10)   \n",
    "print(\"box: \", box)\n",
    "print(\"bomb: \", bomb)"
   ]
  },
  {
   "cell_type": "markdown",
   "metadata": {},
   "source": [
    "Para especificar o canto superior esquerdo, incorporamos um objeto Point (como o usamos no capítulo anterior) em nosso novo objeto Rectangle! Criamos dois novos objetos Rectangle e os imprimimos produzindo:\n",
    "\n",
    "box: ((0, 0), 100, 200)\n",
    "\n",
    "bomb: ((100, 80), 5, 10)\n",
    "\n",
    "O operador de ponto compõe. A expressão box.corner.x significa: “Vá para o objeto a que a caixa se refere e selecione seu atributo chamado corner, depois vá para esse objeto e selecione seu atributo chamado x”.\n",
    "\n",
    "A figura mostra o estado deste objeto:\n",
    "\n",
    "![img](http://openbookproject.net/thinkcs/python/english3e/_images/rectangle.png)"
   ]
  },
  {
   "cell_type": "markdown",
   "metadata": {},
   "source": [
    "## Objetos são Mutáveis\n",
    "\n",
    "Podemos alterar o estado de um objeto fazendo uma atribuição a um de seus atributos. Por exemplo, para aumentar o tamanho de um retângulo sem alterar sua posição, podemos modificar os valores de largura e altura:"
   ]
  },
  {
   "cell_type": "code",
   "execution_count": 6,
   "metadata": {},
   "outputs": [],
   "source": [
    "box.width += 50\n",
    "box.height += 100"
   ]
  },
  {
   "cell_type": "markdown",
   "metadata": {},
   "source": [
    "Obviamente, gostaríamos de fornecer um método para encapsular isso dentro da classe. Também forneceremos outro método para mover a posição do retângulo para outro lugar:"
   ]
  },
  {
   "cell_type": "code",
   "execution_count": 7,
   "metadata": {},
   "outputs": [],
   "source": [
    "class Rectangle:\n",
    "    \"\"\" A class to manufacture rectangle objects \"\"\"\n",
    "\n",
    "    def __init__(self, posn, w, h):\n",
    "        \"\"\" Initialize rectangle at posn, with width w, height h \"\"\"\n",
    "        self.corner = posn\n",
    "        self.width = w\n",
    "        self.height = h\n",
    "\n",
    "    def __str__(self):\n",
    "        return f\"({self.corner}, {self.width}, {self.height})\"\n",
    "\n",
    "    def grow(self, delta_width, delta_height):\n",
    "        \"\"\" Grow (or shrink) this object by the deltas \"\"\"\n",
    "        self.width += delta_width\n",
    "        self.height += delta_height\n",
    "\n",
    "    def move(self, dx, dy):\n",
    "        \"\"\" Move this object by the deltas \"\"\"\n",
    "        self.corner.x += dx\n",
    "        self.corner.y += dy"
   ]
  },
  {
   "cell_type": "code",
   "execution_count": 8,
   "metadata": {},
   "outputs": [],
   "source": [
    "r = Rectangle(Point(10,5), 100, 50)"
   ]
  },
  {
   "cell_type": "code",
   "execution_count": 9,
   "metadata": {},
   "outputs": [
    {
     "name": "stdout",
     "output_type": "stream",
     "text": [
      "((10, 5), 100, 50)\n"
     ]
    }
   ],
   "source": [
    "print(r)"
   ]
  },
  {
   "cell_type": "code",
   "execution_count": 10,
   "metadata": {},
   "outputs": [],
   "source": [
    "r.grow(25, -10)"
   ]
  },
  {
   "cell_type": "code",
   "execution_count": 11,
   "metadata": {},
   "outputs": [
    {
     "name": "stdout",
     "output_type": "stream",
     "text": [
      "((10, 5), 125, 40)\n"
     ]
    }
   ],
   "source": [
    "print(r)"
   ]
  },
  {
   "cell_type": "code",
   "execution_count": 12,
   "metadata": {},
   "outputs": [],
   "source": [
    "r.move(-10, 10)"
   ]
  },
  {
   "cell_type": "code",
   "execution_count": 13,
   "metadata": {},
   "outputs": [
    {
     "name": "stdout",
     "output_type": "stream",
     "text": [
      "((0, 15), 125, 40)\n"
     ]
    }
   ],
   "source": [
    "print(r)"
   ]
  },
  {
   "cell_type": "markdown",
   "metadata": {},
   "source": [
    "## Semelhança\n",
    "\n",
    "O significado da palavra \"mesmo\" parece perfeitamente claro até pensarmos um pouco e então percebemos que há mais do que esperávamos inicialmente.\n",
    "\n",
    "Por exemplo, se dissermos \"Alice e Bob têm o mesmo carro\", queremos dizer que o carro dela e o dele são da mesma marca e modelo, mas que são dois carros diferentes. Se dizemos \"Alice e Bob têm a mesma mãe\", queremos dizer que a mãe dela e a dele são a mesma pessoa.\n",
    "\n",
    "Quando falamos de objetos, há uma ambiguidade semelhante. Por exemplo, se dois pontos são iguais, isso significa que eles contêm os mesmos dados (coordenadas) ou que eles são realmente o mesmo objeto?"
   ]
  },
  {
   "cell_type": "code",
   "execution_count": 14,
   "metadata": {},
   "outputs": [],
   "source": [
    "p1 = Point(3, 4)\n",
    "p2 = Point(3, 4)"
   ]
  },
  {
   "cell_type": "code",
   "execution_count": 15,
   "metadata": {},
   "outputs": [
    {
     "data": {
      "text/plain": [
       "False"
      ]
     },
     "execution_count": 15,
     "metadata": {},
     "output_type": "execute_result"
    }
   ],
   "source": [
    "p1 is p2"
   ]
  },
  {
   "cell_type": "markdown",
   "metadata": {},
   "source": [
    "Embora p1 e p2 contenham as mesmas coordenadas, elas não são o mesmo objeto. Se atribuirmos p1 a p3, as duas variáveis serão aliases do mesmo objeto:"
   ]
  },
  {
   "cell_type": "code",
   "execution_count": 16,
   "metadata": {},
   "outputs": [],
   "source": [
    "p3 = p1"
   ]
  },
  {
   "cell_type": "code",
   "execution_count": 17,
   "metadata": {},
   "outputs": [
    {
     "data": {
      "text/plain": [
       "True"
      ]
     },
     "execution_count": 17,
     "metadata": {},
     "output_type": "execute_result"
    }
   ],
   "source": [
    "p1 is p3"
   ]
  },
  {
   "cell_type": "markdown",
   "metadata": {},
   "source": [
    "Esse tipo de igualdade é chamado igualdade rasa porque compara apenas as referências, não o conteúdo dos objetos.\n",
    "\n",
    "Para comparar o conteúdo dos objetos - profunda igualdade -, podemos escrever uma função chamada same_coordinates:"
   ]
  },
  {
   "cell_type": "code",
   "execution_count": 18,
   "metadata": {},
   "outputs": [],
   "source": [
    "def same_coordinates(p1, p2):\n",
    "    return (p1.x == p2.x) and (p1.y == p2.y)"
   ]
  },
  {
   "cell_type": "markdown",
   "metadata": {},
   "source": [
    "Agora, se criarmos dois objetos diferentes que contêm os mesmos dados, podemos usar same_point para descobrir se eles representam pontos com as mesmas coordenadas."
   ]
  },
  {
   "cell_type": "code",
   "execution_count": 19,
   "metadata": {},
   "outputs": [],
   "source": [
    "p1 = Point(3, 4)\n",
    "p2 = Point(3, 4)"
   ]
  },
  {
   "cell_type": "code",
   "execution_count": 20,
   "metadata": {},
   "outputs": [
    {
     "data": {
      "text/plain": [
       "True"
      ]
     },
     "execution_count": 20,
     "metadata": {},
     "output_type": "execute_result"
    }
   ],
   "source": [
    "same_coordinates(p1, p2)"
   ]
  },
  {
   "cell_type": "markdown",
   "metadata": {},
   "source": [
    "Obviamente, se as duas variáveis se referem ao mesmo objeto, elas têm igualdade rasa e profunda."
   ]
  },
  {
   "cell_type": "markdown",
   "metadata": {},
   "source": [
    "## Copiando\n",
    "\n",
    "O aliasing pode dificultar a leitura de um programa, pois as alterações feitas em um local podem ter efeitos inesperados em outro local. É difícil acompanhar todas as variáveis que podem se referir a um determinado objeto.\n",
    "\n",
    "Copiar um objeto geralmente é uma alternativa ao alias. O módulo de cópia contém uma função chamada **copy** que pode duplicar qualquer objeto:"
   ]
  },
  {
   "cell_type": "code",
   "execution_count": 21,
   "metadata": {},
   "outputs": [],
   "source": [
    "import copy"
   ]
  },
  {
   "cell_type": "code",
   "execution_count": 22,
   "metadata": {},
   "outputs": [
    {
     "data": {
      "text/plain": [
       "False"
      ]
     },
     "execution_count": 22,
     "metadata": {},
     "output_type": "execute_result"
    }
   ],
   "source": [
    "p1 = Point(3, 4)\n",
    "p2 = copy.copy(p1)\n",
    "p1 is p2"
   ]
  },
  {
   "cell_type": "code",
   "execution_count": 23,
   "metadata": {},
   "outputs": [
    {
     "data": {
      "text/plain": [
       "True"
      ]
     },
     "execution_count": 23,
     "metadata": {},
     "output_type": "execute_result"
    }
   ],
   "source": [
    "same_coordinates(p1, p2)"
   ]
  },
  {
   "cell_type": "markdown",
   "metadata": {},
   "source": [
    "Depois de importar o módulo de cópia, podemos usar a função de cópia para criar um novo ponto. p1 e p2 não são o mesmo ponto, mas contêm os mesmos dados.\n",
    "\n",
    "Para copiar um objeto simples como um Point, que não contém objetos incorporados, a cópia é suficiente. Isso é chamado de cópia superficial.\n",
    "\n",
    "Para algo como um retângulo, que contém uma referência a um ponto, a cópia não faz a coisa certa. Ele copia a referência ao objeto Point, portanto, o Retângulo antigo e o novo referem-se a um único Ponto.\n",
    "\n",
    "Se criarmos uma caixa, b1, da maneira usual e depois fizermos uma cópia, b2, usando copy, o diagrama de estado resultante será semelhante a este:\n",
    "\n",
    "![img](http://openbookproject.net/thinkcs/python/english3e/_images/rectangle2.png)\n",
    "\n",
    "Isso quase certamente não é o que queremos. Nesse caso, invocar grow em um dos objetos Rectangle não afetaria o outro, mas invocar mover em qualquer um afetaria ambos! Esse comportamento é confuso e propenso a erros. A cópia superficial criou um alias para o ponto que representa o canto.\n",
    "\n",
    "Felizmente, o módulo de cópia contém uma função chamada deepcopy que copia não apenas o objeto, mas também quaisquer objetos incorporados. Não será surpreendente saber que essa operação é chamada de cópia profunda."
   ]
  },
  {
   "cell_type": "code",
   "execution_count": 25,
   "metadata": {},
   "outputs": [],
   "source": [
    "p2 = copy.deepcopy(p1)"
   ]
  },
  {
   "cell_type": "markdown",
   "metadata": {},
   "source": [
    "Agora p1 e p2 são objetos completamente separados."
   ]
  }
 ],
 "metadata": {
  "kernelspec": {
   "display_name": "Python 3",
   "language": "python",
   "name": "python3"
  },
  "language_info": {
   "codemirror_mode": {
    "name": "ipython",
    "version": 3
   },
   "file_extension": ".py",
   "mimetype": "text/x-python",
   "name": "python",
   "nbconvert_exporter": "python",
   "pygments_lexer": "ipython3",
   "version": "3.7.10"
  }
 },
 "nbformat": 4,
 "nbformat_minor": 4
}
