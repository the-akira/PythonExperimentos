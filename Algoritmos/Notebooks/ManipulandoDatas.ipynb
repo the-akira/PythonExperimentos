{
 "cells": [
  {
   "cell_type": "markdown",
   "metadata": {},
   "source": [
    "# Manipulando Datas com Python\n",
    "\n",
    "#### Começamos importando a biblioteca **[datetime](https://docs.python.org/3/library/datetime.html)**:"
   ]
  },
  {
   "cell_type": "code",
   "execution_count": 152,
   "metadata": {},
   "outputs": [],
   "source": [
    "import datetime"
   ]
  },
  {
   "cell_type": "markdown",
   "metadata": {},
   "source": [
    "#### Criando uma data através do método **date**:"
   ]
  },
  {
   "cell_type": "code",
   "execution_count": 153,
   "metadata": {},
   "outputs": [
    {
     "name": "stdout",
     "output_type": "stream",
     "text": [
      "2016-05-20\n"
     ]
    }
   ],
   "source": [
    "data = datetime.date(2016, 5, 20)\n",
    "print(data)"
   ]
  },
  {
   "cell_type": "markdown",
   "metadata": {},
   "source": [
    "#### Obtendo o dia de hoje através do método **date.today**:"
   ]
  },
  {
   "cell_type": "code",
   "execution_count": 154,
   "metadata": {},
   "outputs": [
    {
     "name": "stdout",
     "output_type": "stream",
     "text": [
      "2021-07-05\n",
      "2021\n",
      "5\n",
      "0\n",
      "1\n"
     ]
    }
   ],
   "source": [
    "hoje = datetime.date.today()\n",
    "print(hoje) # data completa\n",
    "print(hoje.year) # ano\n",
    "print(hoje.day) # dia\n",
    "print(hoje.weekday()) # Segunda 0 Domingo 6\n",
    "print(hoje.isoweekday()) # Segunda 1 Domingo 7"
   ]
  },
  {
   "cell_type": "markdown",
   "metadata": {},
   "source": [
    "#### Criando um **timedelta** através do método **timedelta()**:"
   ]
  },
  {
   "cell_type": "code",
   "execution_count": 155,
   "metadata": {},
   "outputs": [],
   "source": [
    "timedelta = datetime.timedelta(days=7)"
   ]
  },
  {
   "cell_type": "markdown",
   "metadata": {},
   "source": [
    "#### Podemos somar o **timedelta** com o nosso dia de hoje para obter uma nova data:"
   ]
  },
  {
   "cell_type": "code",
   "execution_count": 156,
   "metadata": {},
   "outputs": [
    {
     "name": "stdout",
     "output_type": "stream",
     "text": [
      "2021-07-12\n"
     ]
    }
   ],
   "source": [
    "print(hoje + timedelta)"
   ]
  },
  {
   "cell_type": "markdown",
   "metadata": {},
   "source": [
    "#### Também é possível subtrair o **timedelta**:"
   ]
  },
  {
   "cell_type": "code",
   "execution_count": 157,
   "metadata": {},
   "outputs": [
    {
     "name": "stdout",
     "output_type": "stream",
     "text": [
      "2021-06-28\n"
     ]
    }
   ],
   "source": [
    "print(hoje - timedelta)"
   ]
  },
  {
   "cell_type": "markdown",
   "metadata": {},
   "source": [
    "#### Podemos, por exemplo, criar a data do nosso aniversário através do método **date**:"
   ]
  },
  {
   "cell_type": "code",
   "execution_count": 158,
   "metadata": {},
   "outputs": [
    {
     "name": "stdout",
     "output_type": "stream",
     "text": [
      "2021-12-13\n"
     ]
    }
   ],
   "source": [
    "aniversário = datetime.date(2021, 12, 13)\n",
    "print(aniversário)"
   ]
  },
  {
   "cell_type": "markdown",
   "metadata": {},
   "source": [
    "#### Para sabermos quantos dias faltam para nosso aniversário, podemos fazer a subtração de sua data pelo dia de hoje:"
   ]
  },
  {
   "cell_type": "code",
   "execution_count": 159,
   "metadata": {},
   "outputs": [
    {
     "name": "stdout",
     "output_type": "stream",
     "text": [
      "161 days, 0:00:00\n"
     ]
    }
   ],
   "source": [
    "dias_para_aniversário = aniversário - hoje\n",
    "print(dias_para_aniversário)"
   ]
  },
  {
   "cell_type": "markdown",
   "metadata": {},
   "source": [
    "#### Podemos também manipular o tempo com mais precisão através do método **time**:"
   ]
  },
  {
   "cell_type": "code",
   "execution_count": 160,
   "metadata": {},
   "outputs": [
    {
     "name": "stdout",
     "output_type": "stream",
     "text": [
      "9\n",
      "30\n",
      "45\n",
      "10000\n"
     ]
    }
   ],
   "source": [
    "tempo = datetime.time(9, 30, 45, 10000)\n",
    "print(tempo.hour) # Imprime a hora\n",
    "print(tempo.minute) # Imprime os minutos\n",
    "print(tempo.second) # Imprime os segundos\n",
    "print(tempo.microsecond) # Imprime os microsegundos"
   ]
  },
  {
   "cell_type": "markdown",
   "metadata": {},
   "source": [
    "#### Além disso podemos combinar **data** e **tempo** para uma construção mais específica e precisa:"
   ]
  },
  {
   "cell_type": "code",
   "execution_count": 161,
   "metadata": {},
   "outputs": [
    {
     "name": "stdout",
     "output_type": "stream",
     "text": [
      "2019-07-26 12:30:45.100000\n",
      "2019-07-26\n",
      "12:30:45.100000\n"
     ]
    }
   ],
   "source": [
    "data_tempo = datetime.datetime(2019, 7, 26, 12, 30, 45, 100000)\n",
    "print(data_tempo)\n",
    "print(data_tempo.date())\n",
    "print(data_tempo.time())"
   ]
  },
  {
   "cell_type": "markdown",
   "metadata": {},
   "source": [
    "#### Novamente podemos criar um **timedelta** de 10 dias:"
   ]
  },
  {
   "cell_type": "code",
   "execution_count": 162,
   "metadata": {},
   "outputs": [],
   "source": [
    "timedelta = datetime.timedelta(days=10)"
   ]
  },
  {
   "cell_type": "code",
   "execution_count": 163,
   "metadata": {},
   "outputs": [
    {
     "name": "stdout",
     "output_type": "stream",
     "text": [
      "2019-08-05 12:30:45.100000\n"
     ]
    }
   ],
   "source": [
    "nova_data = data_tempo + timedelta\n",
    "print(nova_data)"
   ]
  },
  {
   "cell_type": "markdown",
   "metadata": {},
   "source": [
    "#### Também é possível criar **timedelta** usando horas:"
   ]
  },
  {
   "cell_type": "code",
   "execution_count": 164,
   "metadata": {},
   "outputs": [],
   "source": [
    "timedelta = datetime.timedelta(hours=7)"
   ]
  },
  {
   "cell_type": "code",
   "execution_count": 165,
   "metadata": {},
   "outputs": [
    {
     "name": "stdout",
     "output_type": "stream",
     "text": [
      "2019-08-05 19:30:45.100000\n"
     ]
    }
   ],
   "source": [
    "print(nova_data + timedelta)"
   ]
  },
  {
   "cell_type": "markdown",
   "metadata": {},
   "source": [
    "#### Através dos métodos **today()**, **now()** e **utcnow()** podemos obter o momento e data atuais:"
   ]
  },
  {
   "cell_type": "code",
   "execution_count": 166,
   "metadata": {},
   "outputs": [],
   "source": [
    "data_hoje = datetime.datetime.today() \n",
    "data_agora = datetime.datetime.now()\n",
    "data_utc_agora = datetime.datetime.utcnow()"
   ]
  },
  {
   "cell_type": "code",
   "execution_count": 167,
   "metadata": {},
   "outputs": [
    {
     "name": "stdout",
     "output_type": "stream",
     "text": [
      "2021-07-05 20:30:07.838747\n",
      "2021-07-05 20:30:07.839186\n",
      "2021-07-05 23:30:07.839550\n"
     ]
    }
   ],
   "source": [
    "print(data_hoje)\n",
    "print(data_agora)\n",
    "print(data_utc_agora)"
   ]
  },
  {
   "cell_type": "markdown",
   "metadata": {},
   "source": [
    "## pytz\n",
    "\n",
    "A biblioteca **pytz** nos permite trabalhar com zonas de tempo, para obtê-la é necessário instalar ela através do **pip** ou **pipenv**:\n",
    "\n",
    "```\n",
    "pip install pytz\n",
    "\n",
    "pipenv install pytz\n",
    "```"
   ]
  },
  {
   "cell_type": "code",
   "execution_count": 168,
   "metadata": {},
   "outputs": [],
   "source": [
    "import pytz"
   ]
  },
  {
   "cell_type": "markdown",
   "metadata": {},
   "source": [
    "#### Dessa vez criaremos uma data com o método **datetime()** e passaremos a zona de tempo como argumento:"
   ]
  },
  {
   "cell_type": "code",
   "execution_count": 169,
   "metadata": {},
   "outputs": [
    {
     "name": "stdout",
     "output_type": "stream",
     "text": [
      "2019-07-20 12:30:45+00:00\n"
     ]
    }
   ],
   "source": [
    "data_tz = datetime.datetime(2019, 7, 20, 12, 30, 45, tzinfo=pytz.UTC)\n",
    "print(data_tz)"
   ]
  },
  {
   "cell_type": "markdown",
   "metadata": {},
   "source": [
    "#### Obtendo a data e tempo de agora com a zona de tempo:"
   ]
  },
  {
   "cell_type": "code",
   "execution_count": 170,
   "metadata": {},
   "outputs": [
    {
     "name": "stdout",
     "output_type": "stream",
     "text": [
      "2021-07-05 23:30:08.499747+00:00\n"
     ]
    }
   ],
   "source": [
    "data_agora_tz = datetime.datetime.now(tz=pytz.UTC)\n",
    "print(data_agora_tz)"
   ]
  },
  {
   "cell_type": "markdown",
   "metadata": {},
   "source": [
    "#### Podemos converter para uma outra zona de tempo, nesse caso estamos trocando para 'US/Mountain':"
   ]
  },
  {
   "cell_type": "code",
   "execution_count": 171,
   "metadata": {},
   "outputs": [
    {
     "name": "stdout",
     "output_type": "stream",
     "text": [
      "2021-07-05 17:30:08.499747-06:00\n"
     ]
    }
   ],
   "source": [
    "dt_conversao = data_agora_tz.astimezone(pytz.timezone('US/Mountain'))\n",
    "print(dt_conversao)"
   ]
  },
  {
   "cell_type": "markdown",
   "metadata": {},
   "source": [
    "#### Podemos obter todas as zonas de tempo disponíveis, neste caso estamos selecionando as 20 primeiras:"
   ]
  },
  {
   "cell_type": "code",
   "execution_count": 172,
   "metadata": {},
   "outputs": [
    {
     "name": "stdout",
     "output_type": "stream",
     "text": [
      "Africa/Abidjan\n",
      "Africa/Accra\n",
      "Africa/Addis_Ababa\n",
      "Africa/Algiers\n",
      "Africa/Asmara\n",
      "Africa/Asmera\n",
      "Africa/Bamako\n",
      "Africa/Bangui\n",
      "Africa/Banjul\n",
      "Africa/Bissau\n",
      "Africa/Blantyre\n",
      "Africa/Brazzaville\n",
      "Africa/Bujumbura\n",
      "Africa/Cairo\n",
      "Africa/Casablanca\n",
      "Africa/Ceuta\n",
      "Africa/Conakry\n",
      "Africa/Dakar\n",
      "Africa/Dar_es_Salaam\n",
      "Africa/Djibouti\n"
     ]
    }
   ],
   "source": [
    "for tz in pytz.all_timezones[:20]:\n",
    "    print(tz)"
   ]
  },
  {
   "cell_type": "markdown",
   "metadata": {},
   "source": [
    "#### Agora vamos criar uma data sem zona de tempo para posteriormente adicionarmos uma:"
   ]
  },
  {
   "cell_type": "code",
   "execution_count": 173,
   "metadata": {},
   "outputs": [
    {
     "name": "stdout",
     "output_type": "stream",
     "text": [
      "2021-07-05 20:30:08.900272\n"
     ]
    }
   ],
   "source": [
    "data_sem_timezone = datetime.datetime.now()\n",
    "print(data_sem_timezone)"
   ]
  },
  {
   "cell_type": "markdown",
   "metadata": {},
   "source": [
    "#### Criamos uma zona de tempo *'US/Mountain'*:"
   ]
  },
  {
   "cell_type": "code",
   "execution_count": 174,
   "metadata": {},
   "outputs": [],
   "source": [
    "zona = pytz.timezone('US/Mountain')"
   ]
  },
  {
   "cell_type": "markdown",
   "metadata": {},
   "source": [
    "#### Através do método **localize()** transformamos a nossa data para a zona de tempo *'US/Mountain'*:"
   ]
  },
  {
   "cell_type": "code",
   "execution_count": 175,
   "metadata": {},
   "outputs": [
    {
     "name": "stdout",
     "output_type": "stream",
     "text": [
      "2021-07-05 20:30:08.900272-06:00\n"
     ]
    }
   ],
   "source": [
    "data_timezone_mountain = zona.localize(data_sem_timezone)\n",
    "print(data_timezone_mountain)"
   ]
  },
  {
   "cell_type": "markdown",
   "metadata": {},
   "source": [
    "#### Através do método **astimezone()** podemos novamente converter a zona de tempo, nesse caso para *'US/Eastern'*:"
   ]
  },
  {
   "cell_type": "code",
   "execution_count": 176,
   "metadata": {},
   "outputs": [
    {
     "name": "stdout",
     "output_type": "stream",
     "text": [
      "2021-07-05 22:30:08.900272-04:00\n"
     ]
    }
   ],
   "source": [
    "data_eastern = data_timezone_mountain.astimezone(pytz.timezone('US/Eastern'))\n",
    "print(data_eastern)"
   ]
  },
  {
   "cell_type": "markdown",
   "metadata": {},
   "source": [
    "#### É possível imprimirmos nossas datas em diversos formatos:"
   ]
  },
  {
   "cell_type": "code",
   "execution_count": 177,
   "metadata": {},
   "outputs": [
    {
     "name": "stdout",
     "output_type": "stream",
     "text": [
      "2021-07-05T22:23:22.776818-04:00\n"
     ]
    }
   ],
   "source": [
    "print(data_leste.isoformat())"
   ]
  },
  {
   "cell_type": "code",
   "execution_count": 178,
   "metadata": {},
   "outputs": [
    {
     "name": "stdout",
     "output_type": "stream",
     "text": [
      "July 05 2021\n"
     ]
    }
   ],
   "source": [
    "print(data_leste.strftime('%B %d %Y'))"
   ]
  },
  {
   "cell_type": "markdown",
   "metadata": {},
   "source": [
    "#### Também podemos converter nossas datas:\n",
    "\n",
    "- **strftime** - Converte Datetime para String\n",
    "- **strptime** - Converte String para Datetime"
   ]
  },
  {
   "cell_type": "code",
   "execution_count": 179,
   "metadata": {},
   "outputs": [
    {
     "name": "stdout",
     "output_type": "stream",
     "text": [
      "2019-05-10 00:00:00\n"
     ]
    }
   ],
   "source": [
    "data_string = 'May 10 2019'\n",
    "data_convertida = datetime.datetime.strptime(data_string, '%B %d %Y')\n",
    "print(data_convertida)"
   ]
  }
 ],
 "metadata": {
  "kernelspec": {
   "display_name": "Python 3",
   "language": "python",
   "name": "python3"
  },
  "language_info": {
   "codemirror_mode": {
    "name": "ipython",
    "version": 3
   },
   "file_extension": ".py",
   "mimetype": "text/x-python",
   "name": "python",
   "nbconvert_exporter": "python",
   "pygments_lexer": "ipython3",
   "version": "3.7.10"
  }
 },
 "nbformat": 4,
 "nbformat_minor": 4
}
